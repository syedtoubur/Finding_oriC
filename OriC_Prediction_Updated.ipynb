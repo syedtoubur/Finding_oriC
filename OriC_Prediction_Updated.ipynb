{
  "nbformat": 4,
  "nbformat_minor": 0,
  "metadata": {
    "colab": {
      "provenance": [],
      "authorship_tag": "ABX9TyNy1wHLUzE30ZCM5Hvh3d/Z",
      "include_colab_link": true
    },
    "kernelspec": {
      "name": "python3",
      "display_name": "Python 3"
    },
    "language_info": {
      "name": "python"
    }
  },
  "cells": [
    {
      "cell_type": "markdown",
      "metadata": {
        "id": "view-in-github",
        "colab_type": "text"
      },
      "source": [
        "<a href=\"https://colab.research.google.com/github/syedtoubur/Finding_oriC/blob/main/OriC_Prediction_Updated.ipynb\" target=\"_parent\"><img src=\"https://colab.research.google.com/assets/colab-badge.svg\" alt=\"Open In Colab\"/></a>"
      ]
    },
    {
      "cell_type": "markdown",
      "source": [
        "#Taking The File"
      ],
      "metadata": {
        "id": "K0C7u92Yx7Hi"
      }
    },
    {
      "cell_type": "code",
      "execution_count": null,
      "metadata": {
        "id": "f_IjLJpWA56g"
      },
      "outputs": [],
      "source": [
        "#File uploading\n",
        "\n",
        "with open('Vibrio_cholerae_genome.txt','r') as file:\n",
        "  content=file.read()"
      ]
    },
    {
      "cell_type": "code",
      "source": [
        "seq_list=content.replace('\\n','')"
      ],
      "metadata": {
        "id": "DxcZcai9Bjvb"
      },
      "execution_count": null,
      "outputs": []
    },
    {
      "cell_type": "code",
      "source": [
        "len(seq_list)"
      ],
      "metadata": {
        "id": "RaBZF9zYCOdc"
      },
      "execution_count": null,
      "outputs": []
    },
    {
      "cell_type": "code",
      "source": [
        "seq_list=content"
      ],
      "metadata": {
        "id": "PIyvnZG8wFMO"
      },
      "execution_count": null,
      "outputs": []
    },
    {
      "cell_type": "markdown",
      "source": [
        "## 🔍 What is GC Skew?\n",
        "\n",
        "GC Skew is a way of measuring the **imbalance between Guanine (G) and Cytosine (C)** nucleotides along a DNA sequence.\n",
        "\n",
        "\n",
        "In simpler terms:\n",
        "- If **G > C** at a position, the skew is **positive**.\n",
        "- If **C > G**, the skew is **negative**.\n",
        "\n",
        "---\n",
        "\n",
        "## 📉 Why Does Minimum GC Skew Indicate oriC?\n",
        "\n",
        "During replication:\n",
        "- The **leading strand** is G-rich.\n",
        "- The **lagging strand** is C-rich.\n",
        "\n",
        "This results in a **shift in GC skew** across the genome. If we calculate GC skew **cumulatively**, the graph of this skew will often show:\n",
        "\n",
        "- A **minimum (lowest point)** near the **origin of replication**.\n",
        "- A **maximum** near the **terminus of replication**.\n"
      ],
      "metadata": {
        "id": "ve5whHuVBSNc"
      }
    },
    {
      "cell_type": "markdown",
      "source": [
        "#Allocating GC SKEW minimum Position"
      ],
      "metadata": {
        "id": "Ay2L6Iwr1xtl"
      }
    },
    {
      "cell_type": "code",
      "source": [
        "\n",
        "def minskewlist(text):\n",
        "  skewlist=[]\n",
        "\n",
        "  skew=0\n",
        "\n",
        "  for i in range(len(text)):\n",
        "    if text[i]=='G':\n",
        "      skew=skew+1\n",
        "    elif text[i]=='C':\n",
        "      skew=skew-1\n",
        "\n",
        "    skewlist.append(skew)\n",
        "  minvalue=min(skewlist)\n",
        "  minlist=[i+1 for i,j in enumerate(skewlist) if j==minvalue]\n",
        "\n",
        "  return minlist"
      ],
      "metadata": {
        "id": "AdBWSiBpaEkX"
      },
      "execution_count": null,
      "outputs": []
    },
    {
      "cell_type": "code",
      "source": [
        "\n",
        "def skewlist(text):\n",
        "  skewlist_values=[]\n",
        "\n",
        "  skew=0\n",
        "\n",
        "  for i in range(len(text)):\n",
        "    if text[i]=='G':\n",
        "      skew=skew+1\n",
        "    elif text[i]=='C':\n",
        "      skew=skew-1\n",
        "\n",
        "    skewlist_values.append(skew)\n",
        "\n",
        "  return skewlist_values"
      ],
      "metadata": {
        "id": "cA4HrAczwHMd"
      },
      "execution_count": null,
      "outputs": []
    },
    {
      "cell_type": "code",
      "source": [
        "#Making the Skew Value List\n",
        "skew_value_listC2=skewlist(seq_list)"
      ],
      "metadata": {
        "collapsed": true,
        "id": "v90CbfriU4Uh"
      },
      "execution_count": null,
      "outputs": []
    },
    {
      "cell_type": "code",
      "source": [
        "skew_value_listC2"
      ],
      "metadata": {
        "id": "2H0Qx_3pep3n",
        "collapsed": true
      },
      "execution_count": null,
      "outputs": []
    },
    {
      "cell_type": "code",
      "source": [
        "len(skew_value_listC2)"
      ],
      "metadata": {
        "id": "p-yJegM9XBJU"
      },
      "execution_count": null,
      "outputs": []
    },
    {
      "cell_type": "code",
      "source": [
        "#Taking the Minimum skew Value\n",
        "minlist=minskewlist(seq_list)\n",
        "minlist"
      ],
      "metadata": {
        "id": "n7k0uYNlXTTh"
      },
      "execution_count": null,
      "outputs": []
    },
    {
      "cell_type": "markdown",
      "source": [
        "#Finding using min list\n",
        "Now, what we will do is set a range around the positions of the minimum GC skew values that we obtained. Then, we will take the midpoint of that range and define a broader region around it, which is likely to contain the oriC (origin of replication)."
      ],
      "metadata": {
        "id": "8erwcSU6y1nq"
      }
    },
    {
      "cell_type": "code",
      "source": [
        "ran=minlist[int(len(minlist)/2)]"
      ],
      "metadata": {
        "id": "3H3mrMrMy4qc"
      },
      "execution_count": null,
      "outputs": []
    },
    {
      "cell_type": "code",
      "source": [
        "seq_portion=seq_list[ran-2000:ran+2000]"
      ],
      "metadata": {
        "id": "AXSh3zbnzLYF"
      },
      "execution_count": null,
      "outputs": []
    },
    {
      "cell_type": "code",
      "source": [
        "len(seq_portion)"
      ],
      "metadata": {
        "id": "Z3vds6J8zQZY"
      },
      "execution_count": null,
      "outputs": []
    },
    {
      "cell_type": "markdown",
      "source": [
        "## 🔍 Characteristics of oriC Region\n",
        "\n",
        "The **oriC** region (origin of replication) in bacterial genomes is a specialized DNA segment where replication begins. This region has several distinct and identifiable features that help in its recognition and function.\n",
        "\n",
        "### 📌 Key Features:\n",
        "\n",
        "- **DnaA Boxes:**  \n",
        "  The oriC region contains **multiple DnaA boxes**, which are 9-mer consensus sequences (typically `TTATCCACA` in *E. coli*).  \n",
        "  🔹 **At least 4–5 DnaA boxes** are usually required for effective binding of the DnaA protein to initiate replication.  \n",
        "  🔹 These boxes can have **slight mismatches** (1–2 base differences) and still be functional.\n",
        "\n",
        "- **Other Repeated K-mers:**  \n",
        "  Apart from DnaA boxes, the oriC region often contains other **repetitive 9-mers** (or other k-mers) that appear frequently within a short range.  \n",
        "  These are **not necessarily exact DnaA boxes** but tend to recur in the oriC region and may be involved in **structural DNA features or additional binding activities**.\n",
        "\n",
        "- **Poly-AT Rich Regions:**  \n",
        "  The oriC region is often flanked by or contains **AT-rich sequences**, which help in **strand separation** during the initiation of replication due to weaker hydrogen bonding.\n",
        "\n",
        "By analyzing these features together — **DnaA box density, frequent repeating k-mers, and AT-rich segments** — one can more reliably predict the oriC region in a genome.\n",
        "\n"
      ],
      "metadata": {
        "id": "qMDsPKE43Fmy"
      }
    },
    {
      "cell_type": "markdown",
      "source": [
        "## 🧪 Finding Highly Repeated 9-mers in the oriC Region\n",
        "\n",
        "In this step, we aim to detect the **functional signals** within the oriC region by identifying repeated DNA patterns (9-mers) that are characteristic of this region.\n",
        "\n",
        "### 🎯 Objective:\n",
        "\n",
        "We are going to search for **9-base-long DNA sequences (9-mers)** that:\n",
        "- Appear **at least 6 times** within a window of **600 nucleotides**, and\n",
        "- Are counted **even if they differ by 1 mismatch** (Hamming distance ≤ 1),\n",
        "- Also include **reverse complements**, since many functional motifs can be palindromic or occur on the opposite strand.\n",
        "\n",
        "### ✅ Why This Matters:\n",
        "\n",
        "- These repeated 9-mers often include **DnaA boxes**, but also capture other **non-canonical or species-specific motifs** that recur frequently in oriC regions.\n",
        "- Their **high density in a short region** strongly indicates functional importance, especially when aligned with other signals like **AT-rich areas** or **GATC clusters**.\n",
        "\n",
        "### 🛠️ What We'll Do Next:\n",
        "\n",
        "We will apply a custom search algorithm to:\n",
        "1. Slide a window of 600 bp across our target sequence.\n",
        "2. Count each 9-mer and its reverse complement, allowing for up to 1 mismatch.\n",
        "3. Identify patterns that occur **6 or more times** in that window.\n",
        "4. Use these frequent 9-mers to pinpoint a **clustered region** likely to contain the oriC.\n",
        "\n",
        "This technique gives a **sequence-level signal** that complements the broader GC skew and AT-rich analyses we've already performed.\n"
      ],
      "metadata": {
        "id": "X_x1oyI942Pp"
      }
    },
    {
      "cell_type": "code",
      "source": [
        "\n",
        "def rev_complement(string):\n",
        "  complements={'A':'T','T':'A','G':'C','C':'G'}\n",
        "  rev_comp=''\n",
        "  for i in string:\n",
        "    rev_comp=complements[i]+rev_comp\n",
        "  return rev_comp"
      ],
      "metadata": {
        "id": "YZl7h-TN3E0S"
      },
      "execution_count": null,
      "outputs": []
    },
    {
      "cell_type": "code",
      "source": [
        "def hamming_distance(p1, p2):\n",
        "    return sum(c1 != c2 for c1, c2 in zip(p1, p2))\n",
        "\n",
        "def pattern_occurrence_with_mismatches(text, L, n, t, d):\n",
        "    pattern_counts = {}       # Store counts of approximate patterns\n",
        "    first_indices = {}        # First occurrence of each stored pattern\n",
        "    result = {}               # Final patterns that satisfy the condition\n",
        "\n",
        "    for i in range(len(text) - n + 1):\n",
        "        current_pattern = text[i:i+n]\n",
        "        rev=rev_complement(current_pattern)\n",
        "\n",
        "        matched = False\n",
        "\n",
        "        # Check all patterns we've seen so far\n",
        "        for stored_pattern in pattern_counts:\n",
        "            if (hamming_distance(current_pattern, stored_pattern) <= d) or (hamming_distance(rev,stored_pattern) <= d):\n",
        "                # Check if current occurrence is far enough from first occurrence\n",
        "                if i - first_indices[stored_pattern][0] >= L:\n",
        "                    pattern_counts[stored_pattern] = 1\n",
        "                    first_indices[stored_pattern] = [i]\n",
        "                else:\n",
        "                    pattern_counts[stored_pattern] += 1\n",
        "                    first_indices[stored_pattern].append(i)\n",
        "                    if pattern_counts[stored_pattern] == t:\n",
        "                        result[stored_pattern] = first_indices[stored_pattern]\n",
        "                matched = True\n",
        "                break\n",
        "\n",
        "        if not matched:\n",
        "            # This pattern or anything similar hasn't been seen yet\n",
        "            pattern_counts[current_pattern] = 1\n",
        "            first_indices[current_pattern] = [i]\n",
        "\n",
        "    return result\n",
        "\n",
        "\n"
      ],
      "metadata": {
        "id": "vrLAmpYp5AmA"
      },
      "execution_count": null,
      "outputs": []
    },
    {
      "cell_type": "code",
      "source": [
        "finding_k_mer_positions=pattern_occurrence_with_mismatches(seq_portion,600,9,6,1)"
      ],
      "metadata": {
        "id": "w9xv1mAUzSuo"
      },
      "execution_count": null,
      "outputs": []
    },
    {
      "cell_type": "code",
      "source": [
        "finding_k_mer_positions"
      ],
      "metadata": {
        "id": "a3mgTlNlzgyN"
      },
      "execution_count": null,
      "outputs": []
    },
    {
      "cell_type": "markdown",
      "source": [
        "**HERE WE DIDN'T FIND ANY K_MER THAT APPEARS 6 TIMES WITH REVERSE COMPLEMENT WHICH PROVES THAT THIS IS NOT THE TRUE ORIC**"
      ],
      "metadata": {
        "id": "dCUeKwEdZWSe"
      }
    },
    {
      "cell_type": "markdown",
      "source": [
        "## 🧭 Why GC Skew Minimum Alone May Not Work\n",
        "\n",
        "Initially, we tried to identify the oriC region using the **minimum point of the GC skew** (often called the `minlist` approach). This is based on the idea that the **origin of replication** is usually located near the point where the number of G and C bases switches direction (GC skew minimum).\n",
        "\n",
        "However, for some bacteria like **_Vibrio cholerae_**, this approach **did not accurately locate the oriC**.\n",
        "\n",
        "### ❓ Why Didn't It Work?\n",
        "\n",
        "- GC skew can be influenced by **genome rearrangements**, **horizontal gene transfers**, or **sequence inversions**.\n",
        "- In some genomes, especially those with **multiple chromosomes or plasmids**, the skew minimum might be **shifted** or **not sharp enough**.\n",
        "- Therefore, relying on the absolute GC skew minimum can lead to **incorrect predictions**.\n",
        "\n",
        "---\n",
        "\n",
        "**So now lets see the plot of GC skew and try to think what happened actually**"
      ],
      "metadata": {
        "id": "AivQwHJH6Tjx"
      }
    },
    {
      "cell_type": "code",
      "source": [
        "import matplotlib.pyplot as plt\n",
        "#histplot plotting index in x axis and skewlist[index] in y axis both for pattern and pattern1\n",
        "\n",
        "shortcholera=skewlist(seq_list)\n",
        "\n",
        "plt.plot(shortcholera,label='cholera')\n",
        "plt.figure(figsize=(100, 10))\n",
        "plt.legend()\n",
        "plt.xlabel('index')\n",
        "plt.ylabel('skewlist')\n",
        "plt.show()"
      ],
      "metadata": {
        "collapsed": true,
        "id": "WqpakUh62IAt"
      },
      "execution_count": null,
      "outputs": []
    },
    {
      "cell_type": "markdown",
      "source": [
        "**Normally the GC skew plot is like this where the minimum indicates the oriC and maximum the terminus is the maximum**\n",
        "\n",
        " ![gc_plot_ecoli.jpg](data:image/jpeg;base64,/9j/4AAQSkZJRgABAQIAJQAlAAD/4QFQRXhpZgAATU0AKgAAAAgABwENAAIAAAA9AAAAYgEOAAIAAACMAAAAoAEaAAUAAAABAAABLAEbAAUAAAABAAABNAEoAAMAAAABAAMAAAExAAIAAAAMAAABPAITAAMAAAABAAEAAAAAAABTa2V3IERpYWdyYW0gb2YgRS4gQ29saTogV2hlcmUgaXMgdGhlIE9yaWdpbiBvZiBSZXBsaWNhdGlvbj8AAG9yaUMuIFlvdSB3YWxrIGFsb25nIHRoZSBnZW5vbWUgYW5kIHNlZSB0aGF0ICNHIC0gI0MgaGF2ZSBiZWVuIGRlY3JlYXNpbmcgYW5kIHRoZW4gc3VkZGVubHkgc3RhcnRzIGluY3JlYXNpbmc6IFdIRVJFIEFSRSBZT1UgSU4gVEhFIEdFTk9NRT8AAAAAJQAAAAEAAAAlAAAAAVNsaWRlUGxheWVyAP/hDENodHRwOi8vbnMuYWRvYmUuY29tL3hhcC8xLjAvADw/eHBhY2tldCBiZWdpbj0n77u/JyBpZD0nVzVNME1wQ2VoaUh6cmVTek5UY3prYzlkJz8+Cjx4OnhtcG1ldGEgeG1sbnM6eD0nYWRvYmU6bnM6bWV0YS8nPgo8cmRmOlJERiB4bWxuczpyZGY9J2h0dHA6Ly93d3cudzMub3JnLzE5OTkvMDIvMjItcmRmLXN5bnRheC1ucyMnPgoKIDxyZGY6RGVzY3JpcHRpb24gcmRmOmFib3V0PScnCiAgeG1sbnM6ZGM9J2h0dHA6Ly9wdXJsLm9yZy9kYy9lbGVtZW50cy8xLjEvJz4KICA8ZGM6cmVsYXRpb24+CiAgIDxyZGY6QmFnPgogICAgPHJkZjpsaT5odHRwOi8vc2xpZGVwbGF5ZXIuY29tL3NsaWRlLzQ2NjYzOTkvPC9yZGY6bGk+CiAgIDwvcmRmOkJhZz4KICA8L2RjOnJlbGF0aW9uPgogPC9yZGY6RGVzY3JpcHRpb24+CgogPHJkZjpEZXNjcmlwdGlvbiByZGY6YWJvdXQ9JycKICB4bWxuczpwaG90b3Nob3A9J2h0dHA6Ly9ucy5hZG9iZS5jb20vcGhvdG9zaG9wLzEuMC8nPgogIDxwaG90b3Nob3A6U291cmNlPmh0dHA6Ly9zbGlkZXBsYXllci5jb20vc2xpZGUvNDY2NjM5OS8xNS9pbWFnZXMvNTAvU2tldytEaWFncmFtK29mK0UuK0NvbGklM0ErV2hlcmUraXMrdGhlK09yaWdpbitvZitSZXBsaWNhdGlvbiUzRi5qcGc8L3Bob3Rvc2hvcDpTb3VyY2U+CiA8L3JkZjpEZXNjcmlwdGlvbj4KPC9yZGY6UkRGPgo8L3g6eG1wbWV0YT4KICAgICAgICAgICAgICAgICAgICAgICAgICAgICAgICAgICAgICAgICAgICAgICAgICAgICAgICAgICAgICAgICAgICAgICAgICAgICAgICAgICAgICAgICAgICAgICAgICAgIAogICAgICAgICAgICAgICAgICAgICAgICAgICAgICAgICAgICAgICAgICAgICAgICAgICAgICAgICAgICAgICAgICAgICAgICAgICAgICAgICAgICAgICAgICAgICAgICAgICAgCiAgICAgICAgICAgICAgICAgICAgICAgICAgICAgICAgICAgICAgICAgICAgICAgICAgICAgICAgICAgICAgICAgICAgICAgICAgICAgICAgICAgICAgICAgICAgICAgICAgICAKICAgICAgICAgICAgICAgICAgICAgICAgICAgICAgICAgICAgICAgICAgICAgICAgICAgICAgICAgICAgICAgICAgICAgICAgICAgICAgICAgICAgICAgICAgICAgICAgICAgIAogICAgICAgICAgICAgICAgICAgICAgICAgICAgICAgICAgICAgICAgICAgICAgICAgICAgICAgICAgICAgICAgICAgICAgICAgICAgICAgICAgICAgICAgICAgICAgICAgICAgCiAgICAgICAgICAgICAgICAgICAgICAgICAgICAgICAgICAgICAgICAgICAgICAgICAgICAgICAgICAgICAgICAgICAgICAgICAgICAgICAgICAgICAgICAgICAgICAgICAgICAKICAgICAgICAgICAgICAgICAgICAgICAgICAgICAgICAgICAgICAgICAgICAgICAgICAgICAgICAgICAgICAgICAgICAgICAgICAgICAgICAgICAgICAgICAgICAgICAgICAgIAogICAgICAgICAgICAgICAgICAgICAgICAgICAgICAgICAgICAgICAgICAgICAgICAgICAgICAgICAgICAgICAgICAgICAgICAgICAgICAgICAgICAgICAgICAgICAgICAgICAgCiAgICAgICAgICAgICAgICAgICAgICAgICAgICAgICAgICAgICAgICAgICAgICAgICAgICAgICAgICAgICAgICAgICAgICAgICAgICAgICAgICAgICAgICAgICAgICAgICAgICAKICAgICAgICAgICAgICAgICAgICAgICAgICAgICAgICAgICAgICAgICAgICAgICAgICAgICAgICAgICAgICAgICAgICAgICAgICAgICAgICAgICAgICAgICAgICAgICAgICAgIAogICAgICAgICAgICAgICAgICAgICAgICAgICAgICAgICAgICAgICAgICAgICAgICAgICAgICAgICAgICAgICAgICAgICAgICAgICAgICAgICAgICAgICAgICAgICAgICAgICAgCiAgICAgICAgICAgICAgICAgICAgICAgICAgICAgICAgICAgICAgICAgICAgICAgICAgICAgICAgICAgICAgICAgICAgICAgICAgICAgICAgICAgICAgICAgICAgICAgICAgICAKICAgICAgICAgICAgICAgICAgICAgICAgICAgICAgICAgICAgICAgICAgICAgICAgICAgICAgICAgICAgICAgICAgICAgICAgICAgICAgICAgICAgICAgICAgICAgICAgICAgIAogICAgICAgICAgICAgICAgICAgICAgICAgICAgICAgICAgICAgICAgICAgICAgICAgICAgICAgICAgICAgICAgICAgICAgICAgICAgICAgICAgICAgICAgICAgICAgICAgICAgCiAgICAgICAgICAgICAgICAgICAgICAgICAgICAgICAgICAgICAgICAgICAgICAgICAgICAgICAgICAgICAgICAgICAgICAgICAgICAgICAgICAgICAgICAgICAgICAgICAgICAKICAgICAgICAgICAgICAgICAgICAgICAgICAgICAgICAgICAgICAgICAgICAgICAgICAgICAgICAgICAgICAgICAgICAgICAgICAgICAgICAgICAgICAgICAgICAgICAgICAgIAogICAgICAgICAgICAgICAgICAgICAgICAgICAgICAgICAgICAgICAgICAgICAgICAgICAgICAgICAgICAgICAgICAgICAgICAgICAgICAgICAgICAgICAgICAgICAgICAgICAgCiAgICAgICAgICAgICAgICAgICAgICAgICAgICAgICAgICAgICAgICAgICAgICAgICAgICAgICAgICAgICAgICAgICAgICAgICAgICAgICAgICAgICAgICAgICAgICAgICAgICAKICAgICAgICAgICAgICAgICAgICAgICAgICAgICAgICAgICAgICAgICAgICAgICAgICAgICAgICAgICAgICAgICAgICAgICAgICAgICAgICAgICAgICAgICAgICAgICAgICAgIAogICAgICAgICAgICAgICAgICAgICAgICAgICAgICAgICAgICAgICAgICAgICAgICAgICAgICAgICAgICAgICAgICAgICAgICAgICAgICAgICAgICAgICAgICAgICAgICAgICAgCiAgICAgICAgICAgICAgICAgICAgICAgICAgICAgICAgICAgICAgICAgICAgICAgICAgICAgICAgICAgICAgICAgICAgICAgICAgICAgICAgICAgICAgICAgICAgICAgICAgICAKICAgICAgICAgICAgICAgICAgICAgICAgICAgICAgICAgICAgICAgICAgICAgICAgICAgICAgICAgICAgICAgICAgICAgICAgICAgICAgICAgICAgICAgICAgICAgICAgICAgIAogICAgICAgICAgICAgICAgICAgICAgICAgICAgICAgICAgICAgICAgICAgICAgICAgICAgICAgICAgICAgICAgICAgICAgICAgICAgICAgICAgICAgICAgICAgICAgICAgICAgCiAgICAgICAgICAgICAgICAgICAgICAgICAgICAgICAgICAgICAgICAgICAgICAgICAgICAgICAgICAgICAgICAgICAgICAgICAgICAgICAgICAgICAgICAgICAgICAgICAgICAKPD94cGFja2V0IGVuZD0ndyc/Pv/bAEMABgQFBgUEBgYFBgcHBggKEAoKCQkKFA4PDBAXFBgYFxQWFhodJR8aGyMcFhYgLCAjJicpKikZHy0wLSgwJSgpKP/bAEMBBwcHCggKEwoKEygaFhooKCgoKCgoKCgoKCgoKCgoKCgoKCgoKCgoKCgoKCgoKCgoKCgoKCgoKCgoKCgoKCgoKP/AABEIAtADwAMBIgACEQEDEQH/xAAcAAEAAgMBAQEAAAAAAAAAAAAABQcEBggDAQL/xABfEAABAwMBBAQHCQsIBwYFBAMBAAIDBAURBgcSITETFUFRCBQiU2GT0RcyN1RVcYGRkhZCUlZzdZSxstLhIzQ2cnSCobMkMzU4YqK0GCUmJ4PBKEOElcNFY2TCZXaj/8QAGgEBAAMBAQEAAAAAAAAAAAAAAAECAwUGBP/EADoRAQABAgMFBgUDAwMEAwAAAAABAhEDEiEEMVGR0QUiQVJhoRNxgbHBMjPxI0LwFDVyBhVi4SQlQ//aAAwDAQACEQMRAD8A6pREQEREBERAREQEREBERAREQEREBERAREQEREBERAREQEREBERAREQEREBERAREQEREBERAREQEREBERAREQEREBERAREQEREBERAREQEREBERAREQEREBERAREQEREBERAREQEREBERAREQEREBERAREQEREBERAREQEREBERAREQEREBERAREQEREBERAREQEREBERAREQEREBERAREQEREBERAREQEREBERAREQEREBERAREQERY9yllgt1VNTR9JPHE98bPwnAEgfWgq3aZt50poW5S2uQVN0u0RxLT0gGITjOHvcQM+gZI7cLSrN4V2nqisbHdrBcaGBxx00UjZ930lvknHzZWj+B1RWi9a31BXX1sVZe44mT0pqQHklzndLIM/fZ3OPPyj3rrDUmmrLqegfR6gtlJcKdwxuzxhxb6Wu5tPpBBQZlouVJeLVSXK2zNnoquJs0MrQQHscMg4PEcDyKorYttM1NqnbRqvTt5q4ZbVQR1T6eNsDGFhjqWRt8oDJ8lx5q87HaqOx2eitdsi6Gio4WwQx7xdusaMAZPE/OVyx4Nn+8lrr8jX/8AWRIOtEWu661lZND2Q3XUdWKem3xGxrWlz5HH71rRxJ7fQE0Hq+164sDbxY/GTQukdE108JjLi3GSAeY44yO0HuQbEirPXe2/ROjLjJb7jcJaq4RHEtPQx9K6M9zjkNB9GcjuWNojb1obV1zht1LWVFBWzECKK4RCLpHH70OBLc9mCeJ5ZQWqiidV3+h0tp6tvV1MooaNgfKYoy9wBIHAD51g6A1pZteWJ1207NJLSNmdA7pGFjmvaASCD6HA/Sg2RFruvdZWfQthN31BNJFR9K2EdGwvc57s4AHzAn6FkaO1NbdYacpL3Y5XS0FTvbjnt3XAtcWkEdhyCgmkWrbQ9eWPZ/aYLjqOeWOCeYQRiKMvc52CeQ7MA8fm71N2G6018slBdaDpPFK2BlRCZGlrix4BGR2cCgzloO1vajaNmVHbp7xS1lU+ue9kUdMGk4aAXElxHDym/Wt+XLfhy/zXRv8AXq/1QoJr/tXaV+Qr39UX7627SHhCaB1JVspTXVFpqJDusbc4hE1x/rtc5g+khbppC0W2p0VYBU2+jmBoKd2JIWu49G3jxC0DbBsI07qyy1NRp63Utp1BGwvgfSsEUc7hx3JGjDeP4WMg8eI4ILnBDgCCCDxBCrHbntVGy622udtpNzmr5Xsa0z9E1gYASSd12T5QwMd/dxrXwQNf11cyu0Te5JHzW+Iz0Tpc77Iw4NfEc/gktIHYCRyAVv7W9S6R0zYqSo13RRVlBNUCOKOWjbUjpN0kHdIIHAHigntEagZqrSNpvsdO+mbX07Z+he7eLMjiM4GfnwMqbWBp6torjYLbXWlobbqmminpgGbgETmhzPJ7OBHDsWha0246F0jXS0NddXVdfE7dkp6GMzFh7QXcGgjtGchBZiKmrD4SGz67VkVPLVV1tdI7dD66n3WA+lzS4Aek8O9XIx7Xsa9jg5jhkOByCO9B9RabtA2l6W0EyIajubYamUb0dLE0yTOb+FujkOB4nA4LQYPCc2fyE75u8OPw6QHP1OKC8EVe7Pdr+lNfXia16eqKp1ZFAagsmgMYLA5rSQeXNw4elSN32jaftOvLfpCsmqG3mua18LWwksw7exl3Z70oNxRU7qLwi9BWS+vtjqiurnRv6OSpo4A+FhHPyi4F3ztBC33V+utN6PtkNfqK6w0UE4zC1wLpJeGfJYAXHmOzhnig2VFRv/ae0B40Yt287nnvFW7n7e9/grU0Xq+x60s7bnpuvjrKXe3H4Ba6N34Lmni0/P8AOOCCeRartE17Y9n9rprhqKSdlPUTdBH0MRkJdul3IegFQmudsmjdGQ0xutfJLVVMTZ46Slj6SbccAQ5w4BuQR74jPZlBYqKuNnO2XSGvq82+z1U9Pcd0vbS1kfRvkAGTukEtdjuBzwJxjivLaDtt0Zoavdb7lWT1lxZ/rKWgjEr4/Q4khoPoJz6EFmItH2b7UtL7QhOzT9Y/xuAb0lJUs6OUN/CAyQR6QTjIzjIW8ICIiAiqbV3hAaC01XS0T7hPcqmIlsjbdF0rWkdm+SGnu4E+lfrRm33QuqrlDb4K2pt9XMQImXCIRB7vwQ4Etz2cSMnllBa6pXwjNrdbs+ht9p07TxzX24tL2vkbviBgO6CG/fOccgdnA5zyVt3+7Ulhsdfdri5zKOihfUTOa0uIa0ZOAOZ4Liba7tHsWrNtWmtRUElQ+y28UjZd+ItcAyd0j8N7eDkF2bP37dYdVWibV3ilTYap+KuHdpmupmFpOfIAdkHHa70q/FXmz3a/pTX16ltWn56t1ZHAagtmpywFgc1pwfncFYaAqe2k7ftN6E1TPYKyguVbWU7GOmdTNZuMLmhwblzgSd0g8u1XCuQdj0bNaeFPqK8ysbNTUj6uoZvgOaW56GP/AJXA/Qg3T/tXaV+Qr39UX7633ZJtgtW0yvuFLaLZcaXxKJssklSGbp3jgDLXHjwP1FWH1bQ/Eqb1TfYvWCngpwRBDHEDz3GhufqQeqIiAiKkPCg2oT6H07T2mxTtivt0DsSA+VTwDgXjucTwafQ48wgntpG3HR+hah1FU1MtyujSQ+koN17oj/xuJDW/Nkn0KvaLwsbFJVbtbpu5Q0+9jpIpmSOx37p3f1rO8H/YbbLXZKTUOsqGOvvlW3p46epG/HTMdxblp4GQjiSc4zgYIJN23XTFiu1E+kudmt9VTOaWmOWnY4Y9HDh9CDH0PrCya3sbbrpysFTS7xjeC0tfG8AEtc08QeI+vgtgWqbO9BWXZ/bq6h08ydlNV1TqpzZpN8sJAG6DjO6A3hnJ7yVHa+2s6P0LOKa+XVvjx4+KUzTLK0d7gPe/3iM9iDfEVLWPwlNAXS4MpZZrjbt9242atpw2P0ElrnYHpOPThXLTzxVNPHPTSsmglaHskjcHNe0jIII4EEdqCpfCY2gXTQGjaCo09PHDc6ysETXSRiTEYY5ziAeHPcH0re9nFZc7joKwV99kbJc6uiiqJ3BgZ5T2h2MDgMAgfQucfDBnkvm0LRmlqd2ZHM3gBx8ueURj6f5P/FdP3GsodNadqKyqd0FtttMZHkDO5HG3PAdvAckFU7Ltucev9odbp2isMkFHFHLLHWGo3iWscBlzN0bucjtOPSroWibJ7/o7VVDcLvoi2wUrPGDDUysoW07pJN0O4kDyuDgpmo1tpmn1OzTs97oY728ta2jdKN/ecMhvzkYwOZyO8INiREQEREBERAREQEREBERAREQEREBERAREQEREBERAREQEREBERAREQEREBERAREQEREBERAREQEREBERAREQEREBERAREQcpbVdg+oLDqaTVmyuWRpEjqjxOnk6KencffdFyDmHJ8nnjhhwTQfhK3W0XBtm2nWuRskbhHJWRwmKaI98sOOPf5ODjsK6tVM+FRpWzXbZfdLzWwQx3S2MZJTVeMPGZGtMZPa128Rg9pBQW7a6+kutupq+3VEdTR1MYlimjOWvaRkELjnY7qa16P24bRb1fKgQUVPT15Pa57vHIsMaO1xPAD/wBlbHga1tTVbJ6mGoL3RUtzligLjwDCyN5A9G85x+lUxs30Xb9fbY9o1juY3RJBXSQTAZdBMKuPdePmyQR2gkdqDZ9L6bvvhDa1OqNVtlodG0bzHS0zXEdI0H/VsPpx5cnfwHLybx2y38bOdkNxqbBBFSyQRMo6JkYDWwl5DAWj/hBLgPQqP2D63uOy/WlVs510TBRun3KaV7vIp5XcQQfNSZBz2E54ZcrL8L6lmqNjk8kOdynroJZcfg5LOP8Aee1BqPgyaP0bTaNg1JqSS0Vd9uEkj2iukjeadgeWgBrjwcS0u3sZw4Be/hO6U0XX6Cqr5ZHWenvdvdG9ponxtdPG54a5rmtPHG9vA4yN30lQexTYdojXWzi13ytqLp4/KZI6lkFS0NY9r3DGNw48ndPPtW9f9l7QXnr3+lM/cQTmxuvO0fYLS017f0stRSTWypeeJdu70Ycf+Ld3Tnv4qqvA5uk9m1XqvRtxO5O09MIyfeyxPMcgHpOW/ZXRmg9IWrQ2nIbJYWSto43ukzK/fe9zjklx7/YuZ9et9zjwsbVem/yVvu0sc0h5NDZgYZc9+Hbz/pCCd8LypqtQai0Xoa1lrqusm6csccDee7ooie4D+VyVl+BbfXu0/qDTNXllRb6oVDGP4ENeN1zfocz/AJliaV/8c+F5ebmf5Sh09E+OPPFodG0QgfbdI4fMo6xf+Xvhf1tEf5K338vDewHpx0jcD8s3dQfPCmmm1htZ0foeieTjc6Td+9fO8Ak/1WMDvmcV1TR00VHSQUtMwRwQMbHGwcmtaMAfUFyxsQZ93/hIaq1jJ/K0dvMhp38x5X8jD/8A8mvP0LqxAXLfhy/zXRv9er/VCupFy34cv810b/Xq/wBUKDorRH9C7B+b6f8Ay2qaULoj+hdg/N9P/ltXtqi/W/TFgrbxd52wUVJGZHuPM45NHeScADtJQclbKovEfC/ulNTH+RNfcmnHINxI7H0EAfQt/wDDa/oDYvzn/wDietN8FG3Vmqdq+otbVkOIWdM8u7PGJ35wO/Dd/PzjvW5eG1/QGxfnP/8AE9BcGyf4LNG/mWi/yGKH0xsb0Pp6oqKmGyQV1ZPI6R1RcAKhwLiTgBww3n2DPeSszQFwitOxTTdxqATDR6epqh4HPdZTNcf8AudtCUWqfCHvl3rtQaiq7Xp2ikaBRUbiG7zs7rGjlwA4vcCeI4ceAb34VWi9MDZvW3ijoLfR3m3yQva+mYyJ8jXyNYWuAxvDy88eWOHbndfBpus922Ladlq5HyTQskpi5xyS2OVzWD6Gho+hU/tm2B6T0RsuvN9tVTd5q+j6HozUzsc0788bDkNY3scVaHgn/AlaPy1R/nOQVHsmtlHtC8JDV1bq2Fta6hfUSwUlSN9o3JhGwEHgQxvDHfgq0PCY0VpubZRd7mbbRUlfb2slp6mGJsbgS9rdwkDiDnGD24KpbTls1NtA2s6x1fssqKKzz0FSHMa+QjpxIXDOCC07/RueQeGSt1vWzzbNtJbTWzXN2t1tsrJA+RsJYS4j77cj9+e4OcB8yDdfBRpKGfZbbrr1Pbqa55lpHVsFLHHLURNfw3ntGXcgDnmW5PHiqe8KGmr67b9Z6GzymK41lHTUsDw/cw+SSRg8rs99zXWej9O0Gk9M2+x2hhZRUUfRszzcc5c4+lziSfSSuY9uP+9fof8ALWz/AKooLi0psL0NZtMw2uuslHdKktHjFbUszLI/HEtdzYO4NI+k8VN6u2XaW1df7bddQ0T6x9BB0ENO6UiHdzkFzRzx8+O8FbuuaNv2vdT3HaXbtnGjK11skndEyeqieWSOfKMgbw4tY1pBOOJ+hBd1y0PoyS1Poq3T1jZQvG5uGljjAyMcCACDw5gg8Fzj4Lbnae24ax0xSzvktrGVMbRvZDnQThrHn+6XcfSt3ofBd0w5jZL7fL9cq0j+UkErI2uPeAWucO374qvPBwtdPY/CT1PaaIvNLQNr6WIyHLtxk7Wtye04AQbz4bX9AbF+c/8A8T1J7BdkFig0pb9S6mp4L9e7vTx1nSVrOmZCx7Q5rWtdkb2CMuPHPAcOcZ4bX9AbF+c//wAT1cGyf4LNG/mWi/yGIOVPCi0rSbPdf2S9aQjFo8cjdMxlIOjbDPE4ZcwDg0EOZwHDge9X3st2Kaa01YGOvlBRX291bekrKuuhE4LnDJawPBw3iePN3EnuFVeHL/OtG/1Kv9cK6qpP5rD/AFG/qQcdatstPsv8KXTv3PN8UoK6emmEDPexxzPMMrB6ODyB2ZHcuylyX4Sf+8loX8jQf9ZKutEBUt4V+sKrS+zXxS3OMdXeJfEzK12DHFukyEekgBvzOKulcz+HBSPfpzS9YCeihq5oXDsy9gI/yyg2TYBsd05a9C2u7X200dzvNygZVvfVxNmbC1w3mNY1ww0hpGTzznjjGI7wlNkWnptCXDUOn7XS226W1vjDxSRNiZPHkb4c1oxkDLgcZ4Y7Vb+zG4wXbZ1pqtpHNdFLb4Pe8muDAHN+ggj6FD7erjBbNj+q5al7WtloX0zN7758g3GgenLkGueDRqF2ttjsNPe446s0T32ucTAPE8bWtLd4Hn5Dw0554PeqT22afs1u8JDSlst9ot1LbZn0AlpIKZjIpN6oIdvMAwcjgcjiFaHgX2+Sm2YV9XIHAVdzkdHnkWtjY3I/vBw+haFt8/3pdG/17d/1JQdQWTSmnbDUvqbHYLTbah7OjdLR0ccL3NyDuktAJGQDj0BTSIgh9Z3YWHSF7uxIBoaKaoGe9rCR/iAuH9hdbtDsvWl12fWBt0bUFtPUTSQmQMLfK3R5Q4neBP0Lp3wqLv1TsXu7Gu3Za6SKjYf6zw5w+y1y8/BRtHVWxi2SubuyXCaasePnduNP2Y2oNGoNb7fp66nik0hRMY+RrXPkpC1rQTxJPScAumERAREQFxjeWDaN4XQoaxgkoaSv8XMT+LejpWkuafQ5zHcP+JdnLijZ7Ws034W1cLs9sTZrrXU/SSfhSmToz/eJaP7yDtdEQkDGSBk44oK828a7ds/2eVlzpS3rOdwpKIEZAlcD5RH/AAtDndxIA7VVXg57ILfdrK3Wmu6UXa43Rzp6eGtHSMDCT/KPaeD3P4nysjGDzKj/AA5KmYM0fSjeFO41Up7nOHRAfSAT9pdJaRp4aPSllpqTd8XhooY493luiMAY+hBUfhHbONMTbL7vdKKzUFBcrbGJ4ailgbESA4BzXboG8CCeB5HivXwQbtU3PZE2GrkfILfXS0kRfxxHuseAPQDIR/gvz4XGqYLLsvmtAkHj95lZDGwHyhG1we92O7yQ3+8prwb9Pv0lsctnWLTBPVCS4zh/DcD+Lc938m1hP0oKfqP/ABh4Z8bff01rnHp3fF4c/wCaP8VbnhSXfqrYvemtduy1roqRn954Lh9lrlU3gjxP1DtQ1nqudpLixxy7sfUTF/14jP1qX8N67Fll0xZWEk1FRLVvaP8AgaGN+vpHfUg37wVLR1VsYtUjm7slfLNWPHzvLWn7LGqLu+wYXDbPFrjr3cp210NeaPxfLt+PdIbv72MEsHZyP0q19E2kWHR1jtIbumiooad39ZrACfrBU0gIiICIiAiIgIiICIiAiIgIiICIiAiIgIiICIiAiIgIiICIiAiIgIiICIiAiIgIiICIiAiIgIiICIiAiIgIiICIiAiIgKE1xYzqbR95sjKg0zq+lkp2zAZ3C5uAcdo7x3KbRBylRQ+EDoANt1JEL/b4/Jhe4sqm4HcSWygeh2PQvC8aQ21bXJaeh1cyCyWRj+kc1+5HGHDt6NpL3OweG9w9IXWiIIDQmlbdorS1DYrQwimpWYL3e+leeLnu9JOT/gOAVJ7DdAan07tx1dfL1apKW1VkdW2CodIxwkL6mN7cAOJ4taTyXRaIKc8I3ZO3aDYW19niYNS0DD0HEN8ZjzkxOJ4d5aTwByOAJK9tlNq1NqDZfXaV2qWiaEsj8TbPJKxz6iEjgSWk4ezA8o8/JPE5Vuog5OoNDbWtjd2q2aDbHf7DUO3+jLWuaXcgXxFwc1+AASw4Ixk9gnZdVeEFqBppKHStusxdgGq6NrCzPM/ysjge/g0ldKIghNEUV3t2k7ZSakrW194ihAqqlvKR/M44DPdnA5Kp/Cq2dXXW9hs1XpuiNZdbfO5hia9rHOheOJy4jOHNbw9JV5ogo7wW9AXrR9ov1w1XSPprxc6luWySNe8xsBO8SCeJc9/bngFFeFLs31Bqi6adv2jqGSquVIHQTdFI1j2AOD43AuI5OL/rC6GRBUPgx6CrtC6DnZfKXxW8V9S6aaMua5zGNG6xpLSR2F3P75W8iICojwqtnmo9eUGnTpaibWy0Ms/TRGaOIgPDMOBe4AjyCOeeIV7og5gopvCOorXT0FJZKCOGniZDGekoy4NaABzlOeAWJJsd2p7R6ynl2majjo6CN294s17ZHNP/AAxx4jBxkb2SfnXVSIILRWlbTozTtNZbBT9DRw5OXHefI483vPa4/wABgABVj4VWj79rLRtppNNW59fUwV4lkYx7WlrOjeM+UR2kK60QaxouyyQbMbFYrzBuSx2eCiqod4HdIhax7cjIPaOC5xsGjdquxfUtyGjbXDqCyVjhzw5sjQTuFzQ5rmPAJzjyePbwXWqIOVtY6S2v7VbHWVOp6entFDSRumo7NTuDXVUoHk5BcfTxe75hxyrb8H+yXDRuyGhotTU/V9VTOqJpmSPaejYZHOyS0kcuKs5YV9tzLvZLhbZnFkdZTyU7nDmA9paT/ig4r0Vo+5bQtpOpLjsqrq3TNiilLhVuqJGOG9nDW7mDxIJ3c+SOZ5Zsyr2Y7bLax9Ra9onj0kQyyKWplzJjsw9pbn5zj0rUtDVWvtgVyulurdJVF7slVMH9PStcWkjgHskaHAZGPJcM8By4rb6/b9rC8wvodJbN7my5St3WTTCSURk8N4sEYHDvLgO9BP8Ag27V7vrWa6af1ZGzru2s6Tp2sDDKwO3HB7RwDmuI4jAOeQxxiNq+gNT3rwidJ6htlqkns1HJQunqhIwBgjnLn5Bdng3jy+ZTvg3bLLpomO6XzVL29f3TyXQteH9CzO8d5w4FzncTg44BXcgLnnwgdlOo7rq+3640C5r7zSiPpaffax5dGcskZveSeHAgnkBjOSuhkQc3HUW3vVNM2zw6cobA+Qbk10cDGWDkXAue7B/qtJ7sLw2FbKNS6F2zXKruVPJPaG0UkTLk57MTvcYznd3i7iQ7n3cV0wiClPCq0fftZaNtNJpq3Pr6mCvEsjGPa0tZ0bxnyiO0hWXs8t9TadAaZt1wi6GspLZS088eQdyRkTWuGRwOCDyWwIg538LLQWpta1GmHaXtUlwFK2pbMWSMZuFxi3c7zhz3T9S6Fp2llPE13NrQD9S/aIOdNuWgNT6j25aRvdltUlVaqOKkbPUCRjRGWVMj3ZBcDwa4Hl2rotEQFrG0rRlBr3SFbYbk4xsmw+KZoy6GVvvXgduO0doJHatnRByRpux7btkj5bVYLdDe7OZC+NoxPDntLRvNezPaOAz9a9rlovbBtiuFJDrZsVgsMMm+Y8BjQe0tiDi57scAXEDuPNdYogjNMWSi03p+32a1sLKKihbDGDzIA5nvJOST3kqg9sGz3VF98IHS9/tVqfUWemdRGapErAI+jnLn5BcDwHHkuj0QEREFIeFPo3VWt9P2O3aTtwrmRVT6ipb4xHEWkM3WHy3NB98/ktK0+zwh7BY6C023T9uZR0UDKeFrpaQndaMDJ6XieHNdSIgoPRtft6m1Ta49S2m3U9lM7fHJQ6mJbFnysBkhdnHAYHNWFtuo9R3DZneKPRrZnXmcRsYIZBG/cL27+64kYO7vDnyyt6RBUXg06X1TpnRtazWklUK2pqzJFTz1HTGKMNAznJAyQeGewK3URAXP/hCbDajWdzGpdJSQw3zda2op5HbjajdGGua7714AA48CAOIxx6ARByXaLx4RVqpmWwWuoqjEOjbLUwwyuAA85nDvnJOVuWz7ZvtDvGtrZqranfN5tukM9PbI5GuAkwQCQzEbQM5yMk4we9dBIgrDb9syO0vSsFPRTRU94oZDLSSSkhjsjDmOxnAOBxxwLR6VUOm71t70bZorBFpaG4QUbBDBNPCJXMYBhoa+OQAgDlnJXVqIOaNHbF9Uay1dFqzbJVMlLCDHaw5riQDlrHbvksjGc7oJJ45xxzee0iG4z7P9QU1hpnVFzmoZYKaJjg0l7mlowSQOGc/QtkRBS/gs6Fu2idGXJuoqI0Vzra0v6Jz2uIiaxobndJHMvWt7Z9n+qNa7ctM1MNqkk0zRCmZNU9IwNDRKXynBdnODjl2BdGIgLmzUGjtpc/hH016o3133Ntr6eTpm1gELaZob0jNzezxAeMbvEnPbldJogIiICIiAiIgIiICIiAiIgIiICIiAiIgIiICIiAiIgIiICIiAiIgIiICIiAiIgIiICIiAiIgIiICIiAiIgIiICIiAiIgIiICIiAiIgIiICIiAiIgIiICIiAiIgIiICIiAiIgIiICIiAiIgIiICIiAiIgIiICIiAiIgIiICIiAiIgIiICIiAiIgIiICIiAiIgIiICIiAiIgIiICIiAiIgIiICIiAiIgIiICIiAiIgIiICIiAiIgIiICIiAiIgIiICIiAiIgIiICIiAqqZtptQ2uO0FU2ytp6vpvF21b3N6Nz9zfbw54dwAPpCtVcg+FhQzaV2tab1jQM3XTtjl3h2z07xz/umMfQg6+Wg7X9p1t2ZWmhrLjSVFZJWTGKKGBzWngMucSewcPrC3e31cNwoKatpXb9PURNmjd3tcAQfqK5P8J9lZrrbLYNGWk709NSOIbzxI8GR3D+pGwoOltn+rKLW+kaDUFsZJHT1bXfycuN+NzXFrmnHpB+jC2Fc2eBPfzUaYv2n5n+XRVLaqIHnuSDBA9AczP95XbtNv33MbPtQXgO3ZKWjkdEf/ANwjdZ/zFqDVdnu2K2a511ddOWq21jRQMkea17mmN4Y8MyADkZJyPQtP2obTNTaf2/aX0vbKuGOzV0lEyeF0DHFwlnLH+URkcO4qM8CjT3i2mb7qGZn8pW1DaWInnuRjLiPQXPx/cWvbcf8Aev0P+Wtn/VFB1oiqXV/hA6D0zdH2+StqbjUxO3Zer4hK2M5wQXEhpI7cE/XwW27Ptommtf0s02mrgJ3wECaCRpjljzyJaeOPSMj0oNtRFWeu9t+idGXGS33G4S1VwiOJaehj6V0Z7nHIaD6M5HcgsxFVWiNvWhtXXOG3UtZUUFbMQIorhEIukcfvQ4Etz2YJ4nllWqgItCtG1rSNzrNQ07K99P1DvGulqYzGxga8sOD2+UMAczkYUJo7b3o7VurYNPWoXMVVQ5zYJZqcNilIBdwIcXDgDzAQWwi17W2s7Bom1iv1LcYqOFx3Y2nLnynuYwZLvoHDtwqvg8J3QEtZ0LxeIY8gdO+kBZ8+A4u/w7UF4osCxXi3X+1U9ys1ZDW0M7d6OaF2Wn2EdoPEdqz0BUrSbdY6jbQ7QgsMjYhVvovHfGMu32g+V0e773Ix77lx9CupVtT6x0G/a8/T0VDANZ+Uw1XiDQ84iMhHTYz7zPb6EFkosS73Kis9tqLhdaqGkoqdu/LPM4Nawekn6lTdb4Tez+nrOhiN3qY94jp4aQBnz+U4Ox9Hagu9FAaJ1fZNbWUXXTda2rpN8xOO6WOY8AEtc0gEHBH1qfQCQASTgDtWDarzbLu2R1puNFXCIgSGmnbLuE8s7pOORWm7VtpmnNBwRUmoJqhk9whl6FsMJfyAHE9nFwXMHgwbS9O7O/ul+6SSpZ4/4t0PQwmTO50u9nu9+1B2+uf9i20zU2qdtGq9O3mrhltVBHVPp42wMYWGOpZG3ygMnyXHmrd0FrO0a7sPW+n5JZKMSuhJljLHB7cEjB9BH1rmTwfq+ktfhB7Qa65VMNLRwU1e+WaZ4axjfHIuJJQdfIqUqfCX2ew3I0rZ7nNECR41HSHovn4kO/5VbGmr/a9TWanutirIqygnGWSxn6wRzBHaDxCCTRfiomip4JJqiRkUMbS98j3BrWtAySSeQCpu++Els/tVa+mhqLhctx266Wipw6POcHDnubkekZ9GUFzotJ2d7UNK7QGyN09cN6riG9JSTs6OZo790++HpaSAt2QF+ZHsijdJI5rGNBc5zjgADmSV+lzX4ZOt6m3Wu26Qtkro5bk01FZuZDjCHbrGfM5wdn+pjtKDYdY+Exo2x1klJaoqy9yxnBlpg1kGfQ9xyfnAI9K1+2+FjY5Zw25abuVNCTxfBMyYj6Du/rW87ENj9l0RpylqK+hhqtRVMTZKqeoja8wuIyYo8+9AzgkcSefYBYWpdMWTU9DJR3+10lfBI3dImjBcPS13Np9IIIQY2iNZWLW9o6x03Xx1cAO7I3Ba+J34L2niD+vsythXEttFVsK8IdlugnmNjqZY43b5/wBdSSngT3lhzx4cWHsJXZWobvSWCx192uLnNo6KF08xY3eIa0ZOB2oJBFW8u2nRcOiItUy18rLfNK+CGJ0RE8z28w1nbjhx5DIyQsrZbtV09tK8fbYGV0UtEGmWOriDDhxIBBa5wPvT2oNT2WbdY9ebQKzTbbDJRRxslkhqDUdIXBhA8tu6N3Oc8zjlx5q6lW2g9Y6DvevL3adMUMEGoKcSurZmUDYXShkjWPJkAy7yi3nz5rfLzdaCyWye43esgo6GBu9JPM8Na0cuZ7zwA7SgzUVJVfhM7PoKoxRy3SoYDjpoqTDOfPyiD/gvRvhLbO3OANVcWgnGTRuwEG47Y9fN2caNdfDb3XB5nZTshEnRjecCcl2DgANPZ3fOvfZLrdu0LRNLf20LqB0skkToDJ0gBa7GQ7AyD83o7Fk7R73p6xaPq7jq6njqrK0sbLE+nE7X7zgG+QeB4kL32fXix37R9uuWlIWQWWYPFPGyAQhu69zXDcHLymuQbCi0uDaXpubXddpHxmWO7UUbpZzJGWxNa1geTvnhwacrTr14SGz62XN1Gyqrq8NduOqKSn3oge3i4guHpaCD2ZQXKi1/ROsbFrazi5abr2VdMHbjwAWvjd+C9p4tPz8xxC2BARFGakv9q0zaZbnfq+ChoYvfSzOwM9gA5knsAySgk0VG1fhP6AgqjFEy81EeSOmipWhnz4c8O/wVkaB2gab15QyVGmriyodF/rYHgsli/rMPHHpHD0oNqXLV12tbRNoGv7hYNlMdPS0dEXjxh8cby9rXbplc6QFoBOMNAzx7ey6tqG0/T+zyOljvs1QyorY5HU4ihMgyzHPu4uC5W8GTaPp7Z9Wain1NJUtdWsgbCYYjITul5dnu981B1Jsck191TcINpkcBr4agNp6iLo/5aPdGTiPhz9APoVgKE0Zqe26x05SXyySSSUFTviMyMLHZa4tOQfS0qbQaDtb2o2jZlR26e8UtZVPrnvZFHTBpOGgFxJcRw8pv1qs/+1dpX5Cvf1RfvqF8OX+a6N/r1f6oVfmkbRbarRNibU2+jma6gpyRJC1wJ6NveEGvbOdtGj9eVbKG2VktJc3DLaOtYI3v790glrj6Ac444Vkrivwp9LW3Qeu7Fd9JMZa56tjqgw0wDGwyxvbiRjRwbnI4Dhlp712Vaah9Xa6OplZuSTQskc3uJaCQgykWhbQtrWkNBTilvtxLq8t3vE6ZhllA7C4Dg30bxGexazprwjNAXy4xUbqqttkkrtxj6+AMjJzgZc1zg35zgILjRfGua9ocwhzSMgg5BC02n2labn15XaRFTKy70UbpZukjLYmta0PJ3zw4Ndn60G5oqZv/AISOz+03F9JFU19y3HbrpqGAOiB7cOc5u8PSMjuyrA0HrrT2u7a+t01cGVLYyBNEQWSwk8g5p4jODg8jg4JQQO37VF00dswuN5sMzILhDJC1kj4w8AOka08Dw5ErI2F6kuWrtldjvd7lZNcarp+lexgYDuzyMHAcBwaFrnhYfAld/wAtT/5zVleC58BOmf8A6r/qpUEVSbdY6jbQ7QgsMjYhVvovHfGMu32g+V0e773Ix77lx9CupVtT6x0G/a8/T0VDANZ+Uw1XiDQ84iMhHTYz7zPb6FZJIaCSQAOJJQEVQ6m8IjZ/YqyWlFfVXKaJ26/xCDpGg+h7i1p+cErYNnu1vSGvag0ljuLm3ANLvE6philIHMtHJ390nCDfkWua11tp3RNCyq1NdIKGOTIjY7LpJCOe6xoLj2chgZ4qsP8AtPaA8aMW7edzz3irdz9ve/wQXkse4V1JbqV9VcKqClpmY3pZ5BGxuTgZceA4qJ0Xq+x60s7bnpuvjrKXe3H4Ba6N34Lmni0/P844KiPCm2macqtLX3RUE1Q6+RTQbzehIjGHNefK+ZB0dQ1lNX0sdTQ1ENTTSDLJYXh7HcccCOBUJtD1OzRmi7rqCWlfVtoYg/oGO3S8lwaBnBwMkZODwXPuw/bjo3R+y6y2K9T1za+k6fpRFTF7fKnkeMHPHg4Loe8Xyzs0TU324AT2M0XjcgdFv78JZvcWHnkHkUGqbD9pw2n2Cur3Ws22WkqOgcwTdK12WhwIdujv5Y/WrIWl7J9RaU1LpmWr0LSRUlriqXQPiipBTAShrXHyQAOTm8VsOpL/AGrTNplud+r4KGhi99LM7Az2ADmSewDJKCTRUbV+E/oCCqMUTLzUR5I6aKlaGfPhzw7/AAVkaB2gab15QyVGmriyodF/rYHgsli/rMPHHpHD0oNqRR+obvSWCx192uLnNo6KF08xY3eIa0ZOB2rTotsOjHaKZqme6eLWuSV8MQmjIlke3m1sYyXcxy4DPHCCwUVM2Xwkdn9zuDaSSpr6DfeGNmrKfdjJPaXNcd0el2MK5IpGSxskie18bwHNc05DgeRBQUptU2r6ptWsptJ6B0pJd7nBEyWeokjfJGwPbkeS3GBjHlOcBnhhaLeNre2fSDG3DVWj6IWxpAlcKd26Af8AjZI4NPZk/UupwACSAMnmse4UlNX0FTR10TJqSeN0U0b/AHr2OGCD6MINT2U7RbTtI0865WlskE0LhFU0suN+F+M8xzaex3bjsIIG6LkTwLy+HXeq6alcX2/xUEvzzLZcMP1F667QEREBERAREQEREBERAREQEREBERAREQEREBERAREQFSfhdae642Ty18bMz2ipjqgQOO449G8fN5Ycf6quxRuprRDf9O3S0VP+prqaSmee4PaW5+jOUFfeDLf+v9jlkL3709AHUEnHl0ZwwfYLFV2wr/xp4R2tdWu/lKaj6RkD+eN53RRH1UblqewTWU+iNH7TrTWOMNbQUrqqBhPvJwegP/O6EfQrV8Dawi3bMqm6vZiW61j3Nd3xR+Q0faEn1oNB2ef+XvhaXayE9HQ3OSaFg+9DZQJ4gPpDW/SVvXhm3/q/ZzQ2eN+JbrWDebn30UQ3nf8AOYlp/hd0U2ndoGkNaUDcSjdaSOXSwSB7M/OHY/ur8bWaqHab4Q2irBRu6e2QwQTyDvY8eMSH6YgxB0Bsc099y2zHTtqczcmjpGyTDHESv8t4+hziPoXM3hQ22e9eEFYrXRzCCqroKOmilJIEb3zPa13DjwJB4Lstcl7cf96/Q/5a2f8AVFBd2jdjOidNWFludY6C5zFgE9XX0zJpJndp8oHdGeQHAcOZ4rny3WxmzHws6O2WHeitlXPHC2HJI6Gdgyw5OSGvORn8ELslcl7Uf98HTP5ah/Wgvbbrqyo0XsvvN2oCBX7raendn3j5HBu+PS0EuHzKpPBk0fo2m0bBqTUkloq77cJJHtFdJG807A8tADXHg4lpdvYzhwC27wvqWao2OTyQ53Keugllx+Dks4/3ntVebFNh2iNdbOLXfK2ounj8pkjqWQVLQ1j2vcMY3Djyd08+1BOeE7pTRdfoKqvlkdZ6e9290b2mifG108bnhrmua08cb28DjI3fSVZfg86lqdVbJbJW18nSVsLXUkzzxLjG4tBPpLQ0n0krUv8AsvaC89e/0pn7itPQekLVobTkNksLJW0cb3SZlfvve5xyS49/sQcY6N0XUbQduWpLAauSntRuFTWXAMdgvijnIAA7TvPaB3Zz2Lr+y7MtGWOst9ZadOW+krKDPQTxsxIMtLSXO5vOCeLsrnvwbP8AeS11+Rr/APrIl1og48onUG13wjbtJq+phj09ZxKyGnmn3GSMifuMYDke+cTIfpC6Guli2a3OzvtdVS6Y8ScwsDIuhjLB3tLcFp9IwuTtkGgbLrDa1qHTer5auKWDxh0YhlEb3yxygObxBzwLjj0FX1/2XtBeevf6Uz9xBofguXGTTG1zVeiIqsVVqJmdBIHAhz4X7rXjHDymEk47h3LrBVls82J6T0FfzeLKK+WuETomOqpw8MDuZADRxxwVmoC5Ltn+/G/8tN/0Dl1ouS7Z/vxv/LTf9A5BuXhpeP8AucWzxUyeI9YN8a3M4947c3vRnv7cehbRsRi2f3/Z5aqexUNnqHxUjG1tPJDG+Zsm6A/pQRk5dnieB7OCs+722ivFtqLfdaWGroqhm5LDK3ea8ekLnPXng1R0bpbxs0utZbbjCDJHRvldzHZHKPKae7OePaEF+aV0rZNJ01VTact0Vvp6qc1MsURO6ZCACQCcNGGjgMDhyU2qK8FbaTdtb2O6W3UUpqbhaTHu1Thh80b94AO73NLDx7cjtyTeqCA1hp2yX23SvvdnttxfTwyGF1XSsmMWRx3S4HGcDl3Bcv8Aga6cseoPuv6+s1tufQeJ9F47Ssm6Pe6fe3d4HGcDOOeAutbqCbXWADJML+H90rl7wGCN7WozxIojj16Dp6z2i22SjFJZrfR2+kDi4Q0kLYmZPM7rQBlcP6G0GzaJt51LaKqrfTW+Grq6ur6M4dLE2oA3B6S5zeJ5YzzAXdq5L8Gz/eS11+Rr/wDrIkF63TY/oWu0zLZWabtlNEYyyOeKBonjdjg8Se/J4DmeOMHIVH+Bfcayi1JqvTUzyadjBUbnYyRj+jcR84Iz/VC6vXJfgo/DRrb8jP8A9S1Bsnhl6srKGx2fS1A7cF2e6WpcHYLo2Foaz5i45P8AUHeVv2z/AEds70fp2mt8btPVVWIwKqrnfFJJO/A3jlxJDc8m8gqU8NelczWel6uoDzRyUbouHe2TLsenD2qxKXwZtnlVTRVFNVXmWCZgkjkbVsIc0jIIO5yIQVj4QtDZtA6+0zrDZ/NQwTySvkmp6ORpjbJGWnO608A9ri0gYHA95XYNDUsraKnqoeMU8bZW/M4ZH61STPBf0C17SZL04A5LTVNwfRwYrupKaKjpIaamYI4IWNjjYOTWgYA+oIPVcabff9N8KGyU1Q49CJrfCM8g0yAn/FxXZa488LuhqLDtV09qeCPMU0Ebmk8jNBJkj7Lo/wDFB2Gij9P3ejv9kobtbJRNRVkLZonjuIzg9xHIjsIIUgg468NqNrNcaena7ErreWnHYGyuIP8AzFdF7YXuk2M6pfIMPdaZXOHcTGuaNstU3aj4RttsFrDZ6WlkitpkYchwa4vmf/dy8f3F05tr+CPV/wCbJ/2Cg5p8F7ZhS65ZLfNU5rLHa5TS0lC553HzEB7y4D70bzTj74njwGD1ZpvR2ndM1dXU6es9HbZatrWzeLR9G14bnHkjgPfHkFT/AIFPwWXX89S/5ECv9ByX4Nn+8lrr8jX/APWRKS8NS5VT59I2PpnwW6ofLPMc+S5wLGtJH/CHOP8AeUb4Nn+8lrr8jX/9ZEpzwu5ob9fdF6LpKeA3itqWvjqpXEdC2R3RBvDsc7if6gQXbadnmkrZp+KzQWC2voWx9G4S07Huk4cS5xGST3rmfY1p6y0nhGao0ubRbrrZYjUCNtZTMqDT9G8bpa54JBGS0458M8gttp9P+EHaaBtiorrbKiijZ0MVcZIy9rAMDynN3+XaQTw5redg+yAbO21t0vFay46kuDd2aduS2JpO85jXHi4lwBLjjOBw4cQ/PhYfAld/y1P/AJzVleC58BOmf/qv+qlWL4WHwJXf8tT/AOc1ZXgufATpn/6r/qpUHPGutN1OsfCou+nKWudQi5TiOaZpP+qbTtkeMDnkMOAeGcZXT9t2QaDoNP8AU7dM22enLN18s8LXzvOMbxlI3g7ieIIxnhhURbP9+N/5ab/oHLrRBx/4P0c2ifCPv2k6aV7qCU1NMWu++bGS+N59IaCP7xXYC5L0b/vpXX8tVf5BXWiAuRNrMlXtY8Iy36JMz4bPbpOhcGO7AzpJ5B2BxA3Bz96O8rrtcg6SmjsHhl3OKueGirrKljHP7DNGXsH05a0fOg6Nt+zDQ9Ba22+HStmdThgYempGSPfjtc9wLifSTlcwbUrLHsO212O+6ZDorTU/6QKcuJDW727ND/V3SCM5xvegLtBck+GhUNumsdI2OjIlr2wyExt4uzM9rWD6Sw8EHS+r9PWS/WySS9Wi23J0EMhhdV0zJjHlvEtLgcZwOXcFy14G+nbJqCp1YL9Z7bcxCylMQraVk3R5Mud3eBxnAzjuC61rIRT2GeFpLhHTOYCeZwzC5f8AAa/nWsv6lJ+uZB1La7dRWmhiorXR01FRxZ6OCmibHGzJJOGtAAyST85WUiIOW/Dl/mujf69X+qFRdL4QetrBpmhjl0OIqSnpo4o6qojnaxzWtADs4AOeHb2qU8OX+a6N/r1f6oV0Po6KOfQtjimjZJE+3QNex4y1wMTcgg8wg5a2Z6brtvetHar1reqCSloHNa61U+RIGA5azcPvYic5dkk8Rz4jqXXV9GltGXq9iNshoKSSdkbjgPc1vktPoJwFyZqmA7CvCHpbhbWug09WlsvRNzu+LSHdlj/uOBIHoYujdvkD7hsW1SKN2/mi6YOYc5Y1zXk/NugoKN8GjTundRvvOtdfVNur7rPWuZDFcJGEB2A58pY44OS/AyOG6ceiyNuGk9Caj0Bd5aV1ip7vRU0lTST0r4mSF7G724d0jeDsbuDnnkcQqi8HXZFpDaNo+trr1PcG3OlrHQvjpqhrAGFrXMdgtPPLhn/hKtb/ALL2gvPXv9KZ+4g/Xghalqb5sxkoK2TpJLRUmmicTk9CWhzAfmJcB6AFSuutN1OsfCou+nKWudQtuU4jmlaT/qm07ZHjA55DDgHhnGV1Zs12d2LZ1bKqi08yo3KmUSyyVEm+9xAwBkADA+btK52paiGl8N90lTLHFGal8Yc9waN51CWtGT2lxAA7SQgv2z7ItCWuxttUembbUQ7oD5aqBss0h/CMhG9n5iAM8MLnHTFG7ZH4U0Nktz5Daa+ZlK1jn5LoZwCwE9pa8j5930rspchbS5or/wCF/p+lo3b5oquhjkLO+MiV3H0A4Pdj0ILe8LD4Erv+Wp/85qyvBc+AnTP/ANV/1UqxfCw+BK7/AJan/wA5qyvBc+AnTP8A9V/1UqCoLZ/vxv8Ay03/AEDlYXhdatqdPbOIrdb5XRVF5nNO97TgiFrcvA+fyWn0OKr22f78b/y03/QOUv4cVLK+zaTq2g9DFUVETu7ec1hH+DHINw2A7I9OWjQFquV4tFDcbxcoGVcs1XC2bomvG81jA4ENw0gHHEnPHGANobsd0jTa3tWqLRQC019A9zuioQI4JssLRvMAwMZz5OM9uVPbLrhDdNm+mKymc10cltg97yDhGA5v0OBH0LZ0Glay2Y6Y1nqKgvGpKOStmooTDHA6UiEje3suaOZz6cd4KzLlofRklqfRVunrGyheNzcNLHGBkY4EAEHhzBB4Kkdv2vdT3HaXbtnGjK11skndEyeqieWSOfKMgbw4tY1pBOOJ+hS9D4LumHMbJfb5frlWkfykglZG1x7wC1zh2/fFBpHgtudp7bhrHTFLO+S2sZUxtG9kOdBOGsef7pdx9KsPwrdO2Rmy683plntrbw6anBrhSsE5/lGt/wBZje5cOfLgqw8HC109j8JPU9poi80tA2vpYjIcu3GTta3J7TgBXJ4V4J2I3jA5TU2fXNQRPg4aK0rd9jGnq666asldWy+MdJUVNBFLI/FTKBlzmknAAHzALfdssUcGx3VkUMbI4o7VM1jGDDWgMIAAHIKC8Fsg7CtNAHJBqQfR/pMq2DbX8Eer/wA2T/sFBWvgU/BZdfz1L/kQLQ9rMlXtY8Iy36JMz4bPbpOhcGO7AzpJ5B2BxA3Bz96O8rfPAp+Cy6/nqX/IgWgaSmjsHhl3OKueGirrKljHP7DNGXsH05a0fOg6Nt+zDQ9Ba22+HStmdThgYempGSPfjtc9wLifSTlcwbUrLHsO212O+6ZDorTU/wCkCnLiQ1u9uzQ/1d0gjOcb3oC7QXJPhoVDbprHSNjoyJa9sMhMbeLszPa1g+ksPBB0DtqIOyLVxByDbJ+P9wrm/wAFzZbbtbUU2oNUPNdbLdUOpKW2vcej6Tda9znD8Hyx5I5nOeWD0XthhFPsa1TC0lwjtMzATzOIyFXXgU/BZdfz1L/kQIP14SuzHTJ2ZXG8Wiy0FtuVrDJWSUcDYd9m81rmuDQARunIzyxw7VOeCjeam8bHaBlW8vdQTy0THO5ljcOaPoDw0egBbFt++BrVn9iP6wtK8Db4I5vznN+xGgvCplEFPLMQSI2F5A5nAyuTaXaftS2y0N1s+jLRbaGjDWx1lRHLuyRRybwAL3u7Q1w8lueHYus5mdJDIwHBc0jKpfwatl982bU+oG6gkoXvr3wdF4rI5+AwSZzlo/DH+KCe2E7LINmWnZ4Zp46u8Vrg+rqGNIaAB5Mbc8d0ZPE4JJPLgBZqIgIiICIiAiIgIiICIiAiIgIiICIiAiIgIiICIiAiIgIiION9tuxfWVXtLvtfpO0S1dpurhMXRTxsBc7dc9rg5wP+sG93cl1Ls4sH3LaDsNkcGiWjpI45d05Bkxl5HzuLitjRBV3hH6IrddbNpqKz04qLrS1EdVTRbzWl5GWuaCSAPJc48+JAVa+DBss1Np3WFff9ZW6SkdDRikpBNKx7nE7oJG644DWMDePY7hyXTaIC502r6A1PevCJ0nqG2WqSezUclC6eqEjAGCOcufkF2eDePL5l0WiAudNf6A1Pc/CXsOpKG1SS2SnkpHy1QkYGsDD5WQXZ4fMui0QRupbLRajsFfZ7pH0lFWwuhlaDg4PaD2EHiD2EBcwUGhtrWxu7VbNBtjv9hqHb/RlrXNLuQL4i4Oa/AAJYcEYyewdYog5rl1V4QWoGmkodK26zF2Aaro2sLM8z/KyOB7+DSVfOiKK727SdspNSVra+8RQgVVS3lI/mccBnuzgclNog502G6A1Pp3bjq6+Xq1SUtqrI6tsFQ6RjhIX1Mb24AcTxa0nkui0RBzvtl2MXybWH3dbNKvxe/B4llpQ8Rl0mMF8bj5OSPfNdgHjx44WDTa92+xwimk0NQzTg7vTyUzhnsycTBv08l0siCq9jlHtNdcrldNpdZTshnibHTW6ExnoXA5LvIGBw4e+J48eStREQFzpQaA1PH4WL9VvtUg0/0kj/ABzpGbuDRmMcN7e98QOS6LRBV2262bQpjZbpszrgyooTKKmhdI1oqQ/c3Tuv8h2N13Mgje4dqret1ft+vVvktcGjqS3zzNMbq2OPo3NB4ZaXyloPHng94wumUQVR4PWy2TZpp2sFyqIp7xcXsfUmEkxxtZncY0kAnG84k959GTa6IgEZGDyXIVFoTahsf1vdKrQVrju1qqyWM4CVj4t4lge3ea4PaOGRw4nicrr1EGmbJanWFZpPxnaDTw014lqHubBEGgRxcN0ENJ48+ZJ5ZVT7DdAan07tx1dfL1apKW1VkdW2CodIxwkL6mN7cAOJ4taTyXRaIC508HjQGp9L7UdWXS/WqSjoKqOVkEzpGOEhM4cMBrieQJXRaINC2y7OKLaXpUW2om8Vrad/TUlVu73RvxggjtaRwI+Y9ipLTc23fZvTMsVPYoL9bKY7lO946dojHABjmva4N7g8cO7HBdVIg50ttXt81fdKIVlJQaXtbZmOnkY1rC5ocCRhzpJMkd2Ae9dFoiAtS2n6Ete0PS01mu29Gd7paepYAXwSgHDhnmOJBHaCeXMbaiDkW06Q227JppKTSu5d7K6QubHEWTROJ7ejcQ9hPbu4Ge0rPuVd4Qusqd1sFrFmp5RuSyxNZTeSf+Nzi4f3OK6rRBUGwjYxSbN4ZbhcZ46/UVQzcfOwHo4GHBLI88Tkji44J5YHHO7bU7ZWXnZxqW22yEz1tVQTRQxAgF7y0gDJIC2lEFO+CzpO+aO2e19BqWgfQVktzkqGRPe1xMZiiaD5JI5td9SuJEQc6bDdAan07tx1dfL1apKW1VkdW2CodIxwkL6mN7cAOJ4taTyUF4W5tt/1hpnT1kpJ6nWhc1rZIn7rWRPJ3GO9O95WcjdGSefDqhcz7eNCatte1Kg2j6KoXXV8XRvlpo2F72Pjbu8WA7zmubw8niOPoKD7S7G9rlJRRspdp07XYGYn1dQWs4cgTngPmCh4toW0fZHr222XaJXw3mz1pb/LAh38mXbpex+612Wnm1w5d2QVsDPCPvTIAyo2aXfx0cHMEr2t3vpiJH1KEt+j9cbaNols1Lre0usGnaAt6KmlaWPcxrt7ca13lEuOMvIAxy5AILg8InT111TsqudqsNI6suEssDmQtc1pIbI0ni4gcgsnYDYblpnZJYbRfKV1JcacTmWFzmuLd6eR7eLSR71wPPtVgog50oNAanj8LF+q32qQaf6SR/jnSM3cGjMY4b2974gcl0WiIOdNMaA1PR+FJcdUVNqkZYZJJ3tqzIzdIdFut4b29zOOS6LREBUR4Qexes1lcafU+kahlNqOna0Pjc8x9OGcWOa8e9kbyBPA8OIwr3RBy5Sau8IWhourpNLxVU7AIxVy0zXP4cM7zZAw/Pgqa2PbG9RDW/3dbT6sVF6a4yw0vSCUtkxgOe4eSN0e9a3IHDiMYXRKIPC4RumoKmKMZe+JzWj0kELn/wAE3QWptFT6nfqi1SW9tU2mbDvyMdvlpl3sbrjy3h9a6HRAREQUB4WWhdSa0pNM/cxbH3A0j6jpwyRjSzfEe774jPvTyV2aWpZqHTFopKpm5UU9HDFI3IO65rACMjgeIUmiCmfCf2dVuu9H0c1hpfGb1bZ9+KMOa0yRPwHtBcQM8Gu5/envW07HKK9DZVa7VrW3mCvggdRTQzOa/pImktZnBI4swD8y31EHKddsq2h7J9U1N32Uy9Z2qpz0lI4tLgwEkMkY4jfxng5p3ufLPGZOtvCAubBS0mirdRTObxqDDuYPeDJNu/QQV0miDUdllv1TbdIxRa6uMdwvj5XyySR4IY0ngzgAOHoGOPBcn6+0o7W/hT3jT0dWaOSrkcY593O49lH0jcjuywA+grt5cr221XAeGpJXGgqxRCWVxqOhd0eDQuAO9jHMgfOg9BefCE09QvsPU8N0fG3o4rp0bZn7vIOD94NPzvbnvW0eD3sbuWlrtUat1rMJtR1LXhkJeJXQF58t73gkOkdxHAkAE8TnhfiIK18InT111TsqudqsNI6suEssDmQtc1pIbI0ni4gcgsnYDYblpnZJYbRfKV1JcacTmWFzmuLd6eR7eLSR71wPPtVgog50oNAanj8LF+q32qQaf6SR/jnSM3cGjMY4b2974gclcG0/RNDtA0fV2K4PdD0hEkM7RvGGVvvXgdvMgjtBPLmtrRByLpu07b9k7p7LYbYy8WjpC+HyRPDxPFzMOa9mc5LTjjxx2ndNAaX2qaq17aNUbRKttsttse6WC2scBvuLC3hGwkD3xy55LuzGDw6GRBzz4QOynUd11fb9caBc195pRH0tPvtY8ujOWSM3vJPDgQTyAxnJWIdRbe9U0zbPDpyhsD5BuTXRwMZYORcC57sH+q0nuwukUQcz7CtlGpdC7ZrlV3KnkntDaKSJlyc9mJ3uMZzu7xdxIdz7uKvDahpUa20DedP9I2KSshxFI73rZGuD2E4443mtz6MraEQch6Jp9umzy2TaZsmnYqmkMrnQyyNZK2MuPEsfvgAEjOHd/IZXQ+ubZebxsfu1sfE2ov1VaHQvjjLQHzmPDgCcDi7K3VEFO+CzpO+aO2e19BqWgfQVktzkqGRPe1xMZiiaD5JI5td9SivCD2L1msrjT6n0jUMptR07Wh8bnmPpwzixzXj3sjeQJ4HhxGFe6IOXKTV3hC0NF1dJpeKqnYBGKuWma5/DhnebIGH58FTWx7Y3qIa3+7rafViovTXGWGl6QSlsmMBz3DyRuj3rW5A4cRjC6JRBq21O2Vl52calttshM9bVUE0UMQIBe8tIAySAtG8FnSd80ds9r6DUtA+grJbnJUMie9riYzFE0HySRza76lcSINO2w2iuv2zHUdstMBqK6ppSyGIOAL3ZBxkkDsWreDHpa86R2bPt2o6F1DWurpZhE57XHcLWAHySR96VbSIMG/xVc9iuMNsk6KvkppGU7843ZC0hpz2YOFRPgw6X2gafvN+k1s24RUMsTWxsq6sTb8wdxc0bzuzOT25HPs6ERAREQEREBERAREQEREBERAREQEREBERAREQEREBERAREQEREBERAREQEREBERAREQEREBERAREQEREBERAREQEREBERAREQEREBERAREQEREBERAREQEREBERAREQEREBERAREQEREBERAREQEREBERAREQEREBERAREQEREBERAREQEREBERAREQEREBERAREQEREBERAREQEREBERAREQEREBERAREQEREBERAREQEREBERAREQEREBERAREQEREBERAREQEREBERAREQEREBERAREQEREBERAREQEREBERAREQEREBERAREQEREBERAREQEREBERAREQEREBERAREQEREBERAREQEREBERAREQEREBERAREQEREBERAREQEREBERAREQEREBERAREQEREBERAREQEREBERAREQEREBERAREQEREBERAREQEREBERAREQEREBERAREQEREBERAREQEREBERAREQEREBERAREQEREBERAREQEREBERAREQEREBERAREQEREBERAREQEREBERAREQEREBERAREQEREBERAREQEREBERAREQEREBERAREQEREBERAREQEREBERAREQEREBERAREQEREBERAREQEREBERAREQEREBERAREQEREBERAWFeZ6umtk81tpRV1bW5jhLt3fPdnsWavOoljijJmkbG08N5xwB9KCvKXX11oL1R0OrbE21sqw4xSMnEoJaMnOFj1O0q5Omnrbdp91Vp2GTcfX9Ljh2uDe4LVNZ2dmn9S01bRXaovc9ZHO1tNUyiXo8t+8xyWfo+vpaPYPV0NZPHHXMgmifA5wD99xOBjn2hBvOp9cwWy022ptVObjU3JwbSwtdjfz3nsC/Oj9Zz3O5Vtpv1u6ru9JEJ3wdJvtLDyId2qu7TE+zM2fz3YGKHoBBl/Jr89vcp2uIum1m6Ntrw90NuBkkYcji3lkIMibafcHiW42+wOqdNxS9C+u6UB2QcEhncFsWqdbRWy3UL7TTG411djxana7G+D25WiaTulBSbF6+KpkjilE00ZicRvbxdw4c1j2uGWzX/QtVdf5KmbSvic5/IOceGUFhaO1jUXa5z2i+W7qu8xN6Txbf3wWfhArclVlK9lbt+kqKQtlgitfRvlYctDs+9yO1Y+2x1fV6m0TZqO7Vttp7jWPjnfSP3XubgcMoLbRVd7kR/HTVP6X/BPciP46ap/S/4ILRRVd7kR/HTVP6X/AAT3Ij+Omqf0v+CC0UVXe5Efx01T+l/wT3Ij+Omqf0v+CC0UVXe5Efx01T+l/wAE9yI/jpqn9L/ggtFFV3uRH8dNU/pf8E9yI/jpqn9L/ggtFFV3uRH8dNU/pf8ABPciP46ap/S/4ILRRVd7kR/HTVP6X/BPciP46ap/S/4ILRRVd7kR/HTVP6X/AAUJb9m9RU6kuVvfrTVHQ0zGOZ/pODk8+KC7EVXe5Efx01T+l/wT3Ij+Omqf0v8AggtFFV3uRH8dNU/pf8E9yI/jpqn9L/ggtFFV3uRH8dNU/pf8E9yI/jpqn9L/AIILRRVd7kR/HTVP6X/BPciP46ap/S/4ILRRVd7kR/HTVP6X/BPciP46ap/S/wCCC0UVXe5Efx01T+l/wT3Ij+Omqf0v+CC0UVXe5Efx01T+l/wT3Ij+Omqf0v8AggtFFVU2yV0cMjxrTVOWtJ/nf8FF6V2az3azRVdRrPVAkc5wIFVgcDhBdKKrvciP46ap/S/4J7kR/HTVP6X/AAQWiiq73Ij+Omqf0v8AgnuRH8dNU/pf8EFooqu9yI/jpqn9L/gnuRH8dNU/pf8ABBaKKrvciP46ap/S/wCCe5Efx01T+l/wQWiiq73Ij+Omqf0v+Ce5Efx01T+l/wAEFooqu9yI/jpqn9L/AIJ7kR/HTVP6X/BBaKKrvciP46ap/S/4J7kR/HTVP6X/AAQWiipO57N6il1Ba6GPWmqOiqg7fzU5PDlxU37kR/HTVP6X/BBaKKrvciP46ap/S/4J7kR/HTVP6X/BBaKKrvciP46ap/S/4J7kR/HTVP6X/BBaKKrvciP46ap/S/4J7kR/HTVP6X/BBaKKrvciP46ap/S/4J7kR/HTVP6X/BBaKKrvciP46ap/S/4J7kR/HTVP6X/BBaKKrvciP46ap/S/4J7kR/HTVP6X/BBaKKrvciP46ap/S/4J7kR/HTVP6X/BBaKKlLPs3qK283akl1pqjo6R7Wx4qccCOPFTXuRH8dNU/pf8EFooqu9yI/jpqn9L/gnuRH8dNU/pf8EFooqu9yI/jpqn9L/gnuRH8dNU/pf8EFooqu9yI/jpqn9L/gnuRH8dNU/pf8EFooqu9yI/jpqn9L/gnuRH8dNU/pf8EFooqu9yI/jpqn9L/gnuRH8dNU/pf8EFooqu9yI/jpqn9L/gnuRH8dNU/pf8EFooqu9yI/jpqn9L/gsG+bLZaCy19XFrTVHSU9PJK3NXkZa0kdnoQW+i0bYlX1dz2YWKquNRJU1T4jvzSHLn4cRkreUBERAREQEREBERAREQEREBERAREQEREBERAREQEREBERAREQEREBYV5tVHebfJRXGLpaaTg5uSM/SFmog1jT+g9OWCr8atdubHPjAe57nkfNkrzrdn2ma29da1NsjfW7weX7xAJHbjOFtaIIy+2K2323+JXSlZPTcww8MfNjkvDTOl7PpmmfBZaNtOx/vjkuJ+cnippEGqVmz3TFZeetai1xurMh29vEAnv3c4UxfrDbb9bjQ3WlZPTcDuHhjHcRyUmiCG0zpi0aZpnwWWjbTxvO87iXEn5zxWg7WfhI2bfnB/6grXVUbWfhI2bfnB/wCoILXREQEREBERAREQEREBERAREQF5Mp4o55JmMaJXjDndpXqiAiIgIiICIiAiIgIiICIiAiIgEBwIPEHgvOmgipohHAwMYOOAvREBERAREQEREBERAREQEREBERB5SU8Uk8cz2NMkfvXHmF6oiAiIgIiICIiAiIgIiICIiAiIg8oqeKKWSWNjWySHLyO1eqIgIiICIiAiIgIiICIiAiIgKK1b/RW8/wBjm/YKlVFat/oref7HN+wUGpbAfglsH5N37ZVhKvdgPwS2D8m79sqwkBERAREQEREBERAREQEREBERAREQEREBERAREQEREBERAREQEREBEWPX1tNb6V9TWzMgp2DLpHnACDIRQ1n1TY7zK+K1XSlqpGjLmxvyQFiya40zHVmlfe6EVAdumPpOOe5BsaLDr7pQ2+h8craqKClxnpXuw1edlvVtvdMai0VsFXCDgvidkIJBFCVGq7DTXQW2e7UkddnHQOkG8pC53KitVG6quNTFTU7eckjsBBlqqNrPwkbNvzg/9QVj2W9W2905ntNbBVwg4L4nZAKrjaz8JGzb84P/AFBBa6IiAiIgIiICIiAiIgIiICIiAiIgIiICIiAiIgIiICICCMg5CICIiAiIgIiICIiAiIgIiICIiAiIgIiICIiAiIgIiICIiAiIgIiICIiAiIgIiICIiAiIgIiICIiAiIgIiICIiAorVv8ARW8/2Ob9gqVUVq3+it5/sc37BQalsB+CWwfk3ftlWEq92A/BLYPybv2yrCQEREBERAREQEREBERAREQEREBERAREQEREBERAREQEREBERAREQFjXGhprjTOp62Js0DvfMcMg/OslQWtqG73LTdXSaerIqO4St3WTyAkMQVreKG33HaRbKLR1LDAbex/js9MwMY3I4NOPfKOtVHXaNmram/aMo6m3mfpHXAbr3tbn3xBGVs2gdKay0xTx0j6uyyQHLppWROEkjz2krIu9h15eoprfX3O0stc53ZeijcJCztGUEdq6opdT6p0zRgiWyyNFSxmMNk9BHd6F+THHprahdI7RE2CmnoATTxDdY1wGd4Acip/UWgnvstmh09Utpa60kGnklGQ4Dsd6F+9I6RucV7rr5qqqp6q6VUIpy2maRExg7ge1Bo2m9PW+5bJq641sMc1yM0svjbgDKC13AB3NfqnqpNUXbRNtvH8rRz0zp5Y3cQ9zTwz3qXds91LS0s1itd1o49NTTGVwew9OMnJAPLC2DU+h5JqK2Sacnjo7nbQGwSSDLSO0HHeghLRTxWXbjLbbXGymt81t6Z1PEN1m/n32FjbaY6iXXezqOimbBUGvfuSOGQ3gOxbNo7Sdypr/AFGodUVVPU3mSPoGmmaWxtj7sFQO1n4SNm35wf8AqCDfrPR3innc65XGOpjPJrYt3CmURAREQEREBERAREQEREBERAREQEREBERAREQFzjti1nftUaxZobSDjG0Pb01TBJkv5do5AcVZO3fUjNP6BrGx1zqO41g6Glc04cXduPoWPsU2d02krDDWVfR1N5q29NLUYyQHccD616PsqMHYMCe0seM1V5iimY0mfGrhaPuxrvXOSPqqnVGnNU7Hm0OpGaknukDZWxy08rnbpB5jiSuh9Faip9U6borrS7rROwOfGHbxjd+CfSvfU1gt2pbRNbbvTtnppBycPensI9IVCbL7o3Zbru8aY1BUCgsshMtG+p5yZOAeHeF9FeJHbmx1VTH/AMjD10iIzU8LRvmPluRb4VXpLpBF+IZWTwslicHRvAc1w5EFfteUmLNxERAREQEREBERAREQEREBERAREQEREBERAREQEREBERAREQEREBERAREQEREBERAREQEREBERAREQEREA8uC0nWVvv7rFeXxXeFlP4pKRGYRkDcPDK3ZRWrf6K3n+xzfsFBqWwH4JdP8Af0Ts/aKsJV7sB+CWwfk3ftlWEgIiICIiAiIgIiICIiAiIgIiICIiAiIgIiICIiAiIgIiICIiAiIgIiICIiAiIgIiICqjaz8JGzb84P8A1BWuqo2s/CRs2/OD/wBQQWuiIgIiICIiAiIgIiICIiAiIgIiICIiAiIgL497Y2Oe9wa1oySeQX1c+7SdY6q1TrC46S2fvjfHDTuZWNe0NcHZwcOK6HZ3Z1e34k0UzFMRF5mdIiPX8KV1xTDA1JqSm2rbVrNYaa2yVVhtlQTUyY7eIJPc3IwujoYmQQxxRDdjY0NaO4AYC0nZDoqPRelIKWWNhuMuZKmXGXFx44J7QFvK+ntja8HFrp2fZYthYcWjW95vrV9Z9rIw6ZjWrfItE2lbNbLralnlqqdouvQ9HBU5OWdy3tFzdm2nF2XEjFwappqjxheaYqi0uatC7YKvQss2mdoFPU/6GSyCoDMvLc4GR3Y5FdE2e50d5tsFfbZ2T0szd5j2HIKwdQ6atN7pqgXC3U1RLJGWb74wXcuHHmucdFa6veye5VemL5aJJaQ1IELg7DYWudz3uRGDlekr2bA7dorxtjw8mNFpqpvFqr75pjS1p1mPVjmnC0qnR1Qi86WeOpp454HskikaHNcw5BHoK9F5WYtNpbiIigEREBERAREQEREBERAREQEREBERAREQEREBERAREQEREBERAREQEREBERAREQEREBERAREQEREBRWrf6K3n+xzfsFSqitW/0VvP9jm/YKDUtgPwS2D8m79sqwlXuwH4JbB+Td+2VYSAiIgIiICIiAiIgIiICIiAiIgIiICIiAiIgIiICIiAiIgIiICIiAvj3NY0ue4NaO0nC+qPvtqgvVtloasv6CTg8MdgkfOgzIp4ZSRFLG8j8FwKOnhbJuOljD/wS4Z+pUjebXRaS1xbqbRTpmVDIJZa2ISukaGhuQX5PBY9p0/T6i2f1euK2aoN9LZKlkjZSGs3CeGOWOCC+Xvaxpc9wa0dpOAvkUkcrd6J7Xt72nIVKVt1qtaW3R1uq5nxw10YqKrcdumUct3IWfZo2aH17c7TbXyCzvohLFTveX9HJjJIJQW06eFsnRuljD/wS4Z+pft72xt3nua1o7ScBUJatNMvuhqzVdbUT/dC2aR7KlsrgGta7g3dzhSVfdJ9az6TslZI+OluEBqKjccWl+52ZCC6I5I5W70T2vb3tOVVW1n4SNm35wf+oJpOnGldq02mbW6RtnmovGhE95eWvz3lY+2mqFFrvZ1UujklEde87kYy48ByCC30UNZ78y5zuibRVkBb99NHugqZQEREBERAREQEREBERAREQEREBERAX4nmjp4XyzPbHGwEuc44ACwr/d6Sw2ipuVxk6Olp2773ehc5692mXnaJQ1Nk0vp+qks1TIxja9ocH8Dx4DhhdXszsjH7QqvTpRE61TaIjnMXm3gpXiRR803tO2g3PVl7tumtmFybM+fL6iopzh0W67v7sHJW87INns+j46+rvc9PX3qrlLnVjAd4tPYSfSsjZtsusGjIKKqpabfu7IdySrcTvO3ufDkrAX19odp4NGD/AKHYItheMzERVVN/GY8N1o5wrRRN81e8REXn2oiIgLVdoei6DWenaq21TRHJIA5kzQN4OHLj3LakWuBj4mz4kYuFNqo1iUTETFpc57EtYDRV9rtC6sq5eninEdLK8/ybQB7wfOSujFU23fZ+7UNnF20/RxfdDSPbKyYHDi1vEgd55LWtm+3infJT2TWdO+huEbhTmcg7uRwy/PJem23Yp7Ywv+47FTev/wDSmLXifNEcJ+7Gmr4c5Kvov5F+YpGTRMkicHxvAc1zTkEHtX6XlNzcREQEREBERAREQEREBERAREQEREBERAREQEREBERAREQEREBERAREQEREBERAREQEREBERAREQFFat/oref7HN+wVKngFpOs9TxxWK9U5t1wcRSSt32w+T7w9qDD2A/BLYPybv2yrCVe7Afgl0+e+Jx/5irCQEREBERAREQEREBERAREQEREBERAREQEREBERAREQEREBERAREQFBa2nvVPpusfpmmZU3XdxCx7t0Z78qdRBTWzy2altzJqe8aXDau4NcKy4mqDj5QxjHcF+YrJq+z2Wp0fbrVFPaJXOYyvMwBZG4+V5KudEFYX7RdwtVp09NpljamutADDE47vTM7RnsXtpWw3m76nuGotT0TLeZ6YU0VGHiTc4Y3shWSiClYbFrK0WWo0lQW2Oeglmc4XMzAbrHHJG6p3UGjq+1QWO4aZibU3C1M6IQuduiRp99x7FZqIK60dZLzcNZz6s1FRtt1T4v4rFSNkD8N78hRu1nhtI2bfnB/wCoK11VG1n4SNm35wf+oILXREQEREBERAREQEREBERAREQEREBYF8vFDYrZPX3SoZT0sLS5znHHLu7ysupnipaeWeoeGQxNL3uPIAcSVzVrjVjtsGrqLStgo5Z7DBUCSpqoxxcAcFwPYMFdXsrsyrbsSZq0w6daquEfXxnwhTEryx6vt9vd5233uistqoKq32CCYyTVT8hssfIH057l0VZbXS2e3QUdFBFDHEwNxG0NBwOa/VnttNaLbT0NEwMggYGNAHYFmKe0e0qdpppwMCjJhUXtF73md8zPjM+3giii2s7xERcloIiICIiAiIgLQ9pGzKya0tE0D6eGkri4yR1UbAHB/e7HNb4i32basXZcSMXBqmmqOCJpiqLS502S6h1NonXEWgdTRPqYZnf6LMXZ3G8SDntBA5di6LVP+ELp26VVuoNR6flENdZ3GVzmD+Ue3uaVnbNNsFm1dNR2z+Ugubo/LbKQMlo4rv8AaWz1dp4FPaWz0Re0xiRT4VR/dMeETGujKick5Jn5LSREXmWwiIgIiICIiAiIgIiICIiAiIgIiICIiAiIgIiICIiAiIgIiICIiAiIgIiICIiAiIgIiICIiAorVpxpW84+JzfsFSqitW/0VvP9jm/YKDUtgPwS2D8m79sqwlXuwH4JbB+Td+2VYSAiIgIiICIiAiIgIiICIiAiIgIiICIiAiIgIiICIiAiIgIiICIiAiIgIiICIiAiIgKqNrPwkbNvzg/9QVrqqNrPwkbNvzg/9QQWuiIgIiICIiAiIgIiICIiAiIgLXNdaxtOi7M+4XicNGP5OIe/kPcAsjW1+GmNK3G8ugdUNo4jIYmnBd9K51s8lfty2h0tdcbZNFpeiA3mb+A047HduSOK7nZPZUbVFW1bRNsCj9U3i86Xyx6yyxK8vdjfLHvu1XWe0dj7Xpa1SU1E9/QyywtLyWuOPKPZwV/bMdF0OitNU9FTU8TKxzAamVvEyP7TlbDarTb7RCYrZRwUsZxvCJgbvY4DOOazk7S7Xw9owo2XZML4WFE3te81T/5T428CjDmJzVTeRERcNqIiICIiAiIgIiICIiD8yxsmidHK0OY4YLSOBCpXX2w6wvp5Lrp6aazVdJHJOegORI4De493LsV2L5IxsjHMe0OY4YIPIhfdsPaO0bBXnwK5jjHhPzjdPJWqiKo1U7sY2t2i+Wmgs90rnMvcUYY98w3RKc8MHtKuNUftu2fUdDRU+qtM2uNlztszZ5GxkMYY2nJO73qytE6wtuprDb62GsphUVMYLoekG8HdoxzXQ7V2bZ8aiNv2KmYoqmYqidctW/w8JjWFKJmJy1NmREXBaiIiAiIgIiICIiAiIgIiICIiAiIgIiICIiAiIgIiICIiAiIgIiICIiAiIgIiICIiAiIgKK1b/RW8/wBjm/YKlVFat/oref7HN+wUGpbAfglsH5N37ZVhKvdgPwS2D8m79sqwkBERAREQEREBERAREQEREBERAREQEREBERAREQEREBERAREQEREBa7rifUFPauk0uykdVNy55qs7oaBnsWxKJ1RdrfabRUS3OshpInxua18rsAnHJBpFh1zdqzZVLqCqhpW3ON74y1uejyDjPzLK0Lcda3YUtbdKixmglbvGOnyZAP1LVtkN10zctmFRQXK40r4PGJTMzfwQC7hlYVZDYLDe7OdmlYZq2ScMnp4JjKwxE+UTnkg3TUWp9Q12qX2PRsdF0lPH0k9RVglgP4Ix2pbtow+4S5Xm4025W26QwTQs++eDjI9BKi6C50WkNpN2jvtRHSQ1jOnjnlOGH/hz3rVW2+ruezrVF0paeRzJKtz4Y8f6xgcPKHoQbhQ6u1Va6+1zapgt/VNyx0bqYHeh3hlodn51nX7U+oblqOa0aKjoi+kZvVMtXndB7AMLXNT323aptmmbLZamOqrnOidIyI5MO4BkO7lmWO50WjNoGoRqGoZRxXDdlhllOGuDRgjKDctnuqHamttT4zGI6+imNNVNb73pBzx6FqO1ogbR9mxcQB1g/ifmCzNicEpj1LcHRltNX3F01O4j37OxyjNtFJDX692dUtS0uhkr3hwBweQ7UFutkY84a9rj6DlfpRNq09brVM6Wiiex7uZLy79alkBERAREQEREBERAREQERUDtO2m3+6as+47Z9DK24RS9HUVG7xae0dwbx5r7+zuzsXtDEnDwrREReZnSIjjKtdcUReWDtf1Rcdc6wg0HpSriNJIQ2rmZnAPa13oGFfGmLLS2Cx0luooIoI4Y2hzYxgF2OJ+krQtiezyfSdJV12oIad+oaqVxlqI3b+WE5H05yrRX3dsbXg2o2HZP28Px81XjV+IUw6Z/VVvkREXCaiIiAiIgIiICIiAiIgIiICIiDwrqSGuo5qWqYHwTMLHtPaCuc9oOw1+noZdQaHr54amkJn6Enyh6GYXSaEBwIcAQewrp9m9rbT2bXmwau7O+PCfnCleHFe9T+xba1BqmmitF/e2m1Cw7gYQR0wHaPT3q4FQG2zZ/eKDUMWudGY8cpgDLBG0AgDtaBzzxyrD2W7QqHWNjpHTz00F5cCJaNr/KBHM4X39q7Dg42FHaGwR3Kv1U78lXD5cJUoqmJyVb2+IiLzrYREQEREBERAREQEREBERAREQEREBERAREQEREBERAREQEREBERAREQEREBERAREQFD6tlj+5e8gyMB8Tm4Fw/AKmDxC0zWWlLTNYb1UyQyGU0kriRK7nuE96DA2A/BLYPybv2yrCVe7Afgl0+O6Jw/wCYqwkBERAREQEREBERAREQEREBERAREQEREBERAREQEREBERAREQEREBYdztdDdYRDcqSCqiByGTMDgD9KzEQQtPpWwUzJGU9noImSe/DIGgO+fgve26ftFsmM1vttJTSkY34og0/WFJogwLpZrbdmtFzoKarDfe9NGHY+tZUNPDBTtghiYyFo3QxrcNA7sL1RBG0FgtNuqX1FDbaSnnfxdJHEGuP0hfu6Wa23bc6zoKar3Pe9NGHY+tZ6IPOngipoGQ08bIomDDWMGAB6Aqs2s/CRs2/OD/1BWuqo2s/CRs2/OD/1BBa6IiAiIgIiICIiAiIgIeA4oqo8ITWL9P6ajtlBJPFc7o7ooZYTxj4jJPbxBX17Dsde249Oz4e+qeXGfpGqtVUUxeUPte2umiq36Y0cw1t6n/knSxeUISeGBjmePPsUrsP2Zz6TimvN+mdPf61uZSXZ6MHm0ntPpWRsb2V0OjaFtfXFlbe6gB753DIZnsarSXX2/tDA2bBns/s/9E/qr8a5j7U+nizpomZz1iIi862EREBERAREQEREBERAREQEREBERAREQfmWMSxPjd717S047iuZdoWnKTZRrvTl10g2aGSqlLKh85MjA17gDx5DgV04tY2j6Rp9baWqbPVSuhDyHskbzDm8R9GV2Oxe0I2LHtiz/Sq0qjwmJiYvMeNr3Z4lGaNN7ZIJWTQskieyRjhkOYcg/MV+1RuwfUtZa7xXbPr2TLV2zIhnB8gsb2cfnV5L5e0dhq2HHnBqm8b4njE6xP1hairNFxERfCsIiICIiAiIgIiICIiAiIgIiICIiAiIgIiICIiAiIgIiICIiAiIgIiICIiAiIgKK1b/AEVvP9jm/YKlVFat/oref7HN+wUGpbAfglsH5N37ZVhKvdgPwS2D8m79sqwkBERAREQEREBERAREQEREBERAREQEREBERAREQEREBERAREQEREBEUJqvU9s0tQNrLxJJHA47oLIy85+YIJtFC2HU9pvun23q3VQfbiCelcN3lz4FRVg2i6cvt06voKt5qOOOkjLGux3E80G3otZ1Xrex6Wmjiu1Q9s0gyI4ozI7Hfgdik6C/W2vs3WtNVRuod0uMhOA35+4oJNFqNg2iadvt06voKuQ1JJDRJEWB+PwSeayNV64selpoortUvbLIN5rIozI7HeQEGzKqNrPwkbNvzg/9QVlWa6Ud5t8VbbphLTyDLSOf0jsVa7WfhI2bfnB/6ggtdERAREQEREBERAWh7XNd0ejdPTAVGLtUsLKSJg3nl55HHdlbDrPUtBpPT9TdrpIWQRDAwM5cfej6SqT2d0N82k68pNXaqtkXUkULhQ8gBxy3I7fnXb7K2CiuKtt2n9qj1tmmNYpi+/19GddX9tO+WDaotuFytLbhDcIo4nM32skLWvI+bCkti2lb/f8AVlXqfaDDPJV02I6ZtQ3AyOBIbyXQYAaAAMAcAAi3xv8AqKuvCxMPDwaKM2l6YtMR4xf1VjBiJiZm4BgYHAIiLzrYREQEREBERAREQEREBERAREQEREBERAREQEREFG+EJpasp56LWtic9tZbSOkhibgPaDkucRzW/bMNfWzXNjino5gK5jQKindwc13acd2e1bjPFHPC+KZjZInjdc1wyCO4rnK5S0Oxna9LWx0T22G7Rhr3jlE4nJx83cvTbHNPa2yf6KqJnGw4maJ01jxpn7wxq/p1ZvCd7pBF50s7KmminhOY5WB7T3gjIXovNTFptLYREUAiIgIiICIiAiIgIiICIiAiIgIiICIiAiIgIiICIiAiIgIiICIiAiIgIiICitW/0VvP9jm/YKlVFat/oref7HN+wUGpbAfglsH5N37ZVhKvdgPwS2D8m79sqwkBERAREQEREBERAREQEREBERAREQEREBERAREQEREBERB+J5Y4IXyzODI2DLnHkAvKmraWqja+nqIpGO4gtcDlY+opGxWOukfTOqmticTC3nJw5Bc2w0z7vM99LaZdIHPCsqalw3R37p4IOokWtbOqeWm0rTRT3wX14J/00Yw70cO5bKgLCvMEU9uqOmiZJuxPLd4ZwcFZqgtX2i43m2+LWq7y2qQ5DpY4w8kHs4oKSbNNTeDzUOpi5rjcS07vDyTIMrbdrFPBb9JaXnt8bIp2VtMxjoxg7p98pDSGy+ey2Wps9zv9RdbXMXOEEsQbuuPHOR6VkWfZvUQ3GlkvV/qbrQ0hzTUsrAGxns49uEGLpKNlZtPvlRXND6mOMRx74yQzA5LQ6hzqfZ/q6kp3FtAa47xaeDSXcQrU1Xoee53xt4sl5ns1xMfRSSRMDg9vpBWTbNBWuj0jU2CXenhqiX1EjvfSPPEu+sINT2hU8FJpvStVRsYyrhdAIXMGDghuVkaCjZXbRdVS3BjZJoSxkXSDOGkccZWdZtnNRT3aiqbzf6m6UtD/ADWmkjDWxjs5c8LM1ToWe43gXSxXmey1rmFkr4WB3SD0goIfYid2fV8LHEwxXV7Yx2NHcFgbafGvu72ddXmMVfj79zpPe8hzVhaP03TaZtZpadzpZZHdJPM7nK/tcVou1n4SNm35wf8AqCDfrOL6J3dbOozF2dCDn/FTKIgIiICIiAvj3NYxz3nDWjJPcF8lkZDE6SV7WRtGXOccABU/te2rWmg0xXUen7qyS8ygRw9DhwBJwV9mw7Bjbdi04WDTM3mIvbSPWVaqopi8oLUle7a/r6nsFsM79K25+9XTx/6uV44gf+yva2UFLa6CCit8DIKWBu5HGwYDR3LQ9hOmzp/QVJ4zTCC4VWZqg9riTkE/QrFX29sbTROJGyYH7WHpHrPjVPrM+1lcONM075ERFxmgiIgIiICIiAiIgIiICIiAiIgIiICIiAiIgIiICIiAtT2n6Si1jpGttvRwGscwmmllGRE/8JbYi1wMevZ8SnFw5tVTN4RMRMWlzJo7a3e9n079O7QKGpmbTncinA8oNzgZ7245Lo2yXaivdsguFrnZUUk7d5kjeRWJqfTNq1NbKihu1JFNHM3dLi0bw7iDz4KgdNayk2MaortLagZVT6eDi+kqujO8Bjk0doyV6XEwcDtyirE2TDyY8azTG6qPGaY8JvrZjEzhTaqdHS6KP0/dqa/WWjulAXGlqoxJGXDBwe8KQXl66KqKppqi0w33iIiqCIiAiIgIiICIiAiIgIiICIiAiIgIiICIiAiIgIiICIiAiIgIiICIiAeXBaTrIam6ivXQut3i3ikuN4HexuFbsorVv9Fbz/Y5v2Cg1LYD8Eun+/onZ+0VYSr3YD8Etg/Ju/bKsJAREQEREBERAREQEREBERAREQEREBERAREQEREBERAREQYl3dI22VToahlNIIyWzPGWsPeVSNusmltoV0raK+3qtu1bRM6SYMzEwjvA7Qri1dQi5aZuVE6ZsAngcwyOOA3PaVTFk+6ew6ndU0mnX1cHV7KKGqiA6J2Pv3HuQWzs7hsVNpiGDSpzbInuY30OHNbKtN2TWoWjSLKcVMVS988kr3RHyQ5xyW/QtyQEREBERAREQEREBVRtZ+EjZt+cH/qCtdVRtZ+EjZt+cH/qCC10REBERARFV23HXlTpe1QW6wOZLf693RwxAZe1p4bwHflfVseyYm241OBhb55RxmfSFaqopi8tX277WKa2suWkqKkkqKqpp+jNRFIP5N5PLHPKaG8H7TvUVDV32SpqrhIGzl8chY0ZwQMehZeyHY+2gedQa1aK6+VB6Xo5fKERPHJ/4ldzQGgBoAA4ABeh23tTD7Owo2LsuuYt+uuJ/VNraen3ZU0TXOat+IY2wwxxM96xoaM9wX7RF5SZu3EREBERAREQEREBERAREQEREBERAREQEREBERAREQEREBERAWrbQdE2rW9lfQ3WIdIBmGdvB8buzB7vQtpRa4OPibPiRi4U2qjdMImImLS5cordta2bU1xprQGVlopQXtllaJBuDtaCeHzK7dkOtH650jHc56fxeoY8wytzwLhzI7srdJY2SxujkaHMcMOaeRC5407cWbLts9bYKqeR1ou+JIW8mQucSc/+y9NO0U9u4GLE4VMY9MZommLTVEfqv6+PNjb4Uxro6JRfGuD2hzSC08QR2r6vKNxERAREQEREBERAREQEREBERAREQEREBERAREQEREBERAREQEREBERAUVq3+it5/sc37BUqorVv9Fbz/Y5v2Cg1LYD8Etg/Ju/bKsJV7sB+CWwfk3ftlWEgIiICIiAiIgIiICIiAiIgIiICIiAiIgIiICIiAiIgIiINJ2g6ut1lHVt0tdzrYKqI77qWAvaG9oJHJUjcNc1trYLXCL3TaRkP86lpyJGtP/y2rozWNLV12lrpS24ltZLA5kRBwd4hVfZbVetVS0Fv1Lbp6W12imAcXPz4xMBjig3/AGZy2ufSFJJYqapp6F2SxtS0teT2uI9K2laZslpLjRaS6C7CRszamXcEhyRHnyf8FuaAiIgIi53uNTbJdpWqYdW3i/UcLZ2tpG0z3tiDccTkDCDohFUF4d19qq0aMoLpVR2ptEKw1MM38rI3sBcvtivVTpC8ak09LUz1sFupRVwSzu3n+VyBKC3kVCz2y7UGkI9ZNvFc+9GcOMbpT0HRl3Lc+ZbDqKtqNY6tslgZWVFHbKijNTUPpn7kheBnAPcgtlVRtZ+EjZt+cH/qCzNntTV2bVdy0rVVc1ZDEDPBLM7eeGdxPaovbRVxUGvNnVVUlwhjr3lxaMnkOxBb6KItOorfdZnRUb5HPbz3oy39al0BfHvbGxz3uDWtGSSeACxLxcqWz2upuFwk6KkpmGSR+M7rR2rmv7pNp20yjr6axtp/ufmndD4zGwRuDA7vznkur2d2TibdFWJmiiim16qptGvDjPopXiRTp4rW2m7UrXpzTU89lrKO4XRzhFFTxyhx3jwzgdy1HYnoK9VV9drjWsrpK+paXQ08oyWg/fEH3pGOSzNmuwa26Zu/Wd5qG3OoYQ6Bhb5LD2kjtOVdi6G1bdsuwYNWydmzmz/qrmLTMeWOEcZ8VKaaqpzV8hEReabCIiAiIgIiICIiAiIgIiICIiAiIgIiICIiAiIgIiICIiAiIgIiICIiAtK2o6AoNc2XoKj+QrYSXwVLB5bXY7+5bqi22faMTZsWnGwZtVG6UTEVRaVC7D9odVT3UaF1JT1DLjA5zIJ5Ad6QAn32eXAK+lR23ymrtOX+ya2slNE2Skf0dZUOAOGHAGR28MqzdEazs2sqOWax1fjIgLWzHdLd1xGe1dvtjAp2jDo7S2ei1Ncd62sRVe0/K++GeHNpyTLZERF55qIiICIiAiIgIiICIiAiIgIiICIiAiIgIiICIiAiIgIiICIiAiIgKK1b/RW8/wBjm/YKlTwGVpestWWqGw3qmkkmEopJWkCJxGdwjmgwdgPwS2D8m79sqwlXuwH4JdPnvicf+YqwkBERAREQEREBERAREQEREBERAREQEREBERAREQEREBERAREQEREBERAVcau1LWE3G1Q6NuVWZGOibUNjBjeSMZz3Kx0QUXadLXzRNwtupY6Ca5TeL+LTUVPxdG08eGVP6f05XalueoL/AHejltz7lTeKxU0vv2tbyJVqogouVmqa3TEejXWGrjqWzjNwI/0fow7v78LYtTWe4aa1PZtQ2q3z3KmpaU0s9LTjMjiRjeCtJEFdbPrZca/Udx1PeKKSgknzFBTS+/az0qM2tAHaRs2BAI6wfwPzBWwqo2s/CRs2/OD/ANQQWs1jW+9aB8wX1Fre0HVtHorTVRd69rntZ5LGN++eeQWmDg14+JThYcXqmbRCJmIi8q28Je81Elqt2m7HXEXW4TiOSkjPlSRkdvoyrP0PY6XTul6C30dJHShkTTJGwf8AzCBvH61SWx+xXXXet59c6qoS2lHGgDnEFjgcjA7WgHmui13u2Jp2PBw+zKJvNGtcx5p8NN+WNNd03Z4fema5ERF51qIiICIiAiIgIiICIiAiIgIiICIiAiIgIiICIiAiIgIiICIiAiIgIiICIiAiIgwrzaqG9W+ShutLHVUkmN+KQZa5c+6p2a6w01fL1X6FuMdoskjTUdDTndDQ0csd66PXxzWvaWuAc0jBBGQV0+zu1cfYJmKLTTO+mYvHh4Tpf1spXhxXvVLsh2sWS+2C30N0uYivrd2B7Kk4fO/8IK21SG2HZbaaa0Vup9Nwi33mjeawyMPB2OYA5Bbxsm1xQa00zTTU1T0lfDG1lVG7g4OAwTjuJX2dp7Js+Nhf9w2GJyTMxVE/2zOvh4T4K0VTE5Km7oiLgNRERAREQEREBERAREQEREBERAREQEREBERAREQEREBERAREQFEatYz7lrydxufE5uz/AICpdRWrf6K3n+xzfsFBqWwH4JbB+Td+2VYSr3YD8Etg/Ju/bKsJAREQEREBERAREQEREBERAREQEREBERAREQEREBERAREQEREBERAREQEREBERAREQFVG1n4SNm35wf+oK11VG1n4SNm35wf8AqCC11zvrGHUG0nam6zU8QGn7JVN8Y3j5DyDniO3tVxa61baNL2qd10uUNHUSQv6BrneU52OGB8+FoXg0UF0bpy53m8PMj7tUdPHI73zmgEZK9D2VFexbNi9oTEXi1NF4nfVe8xxtF/kyr70xQt+mgipoI4KeNscMbQ1jGjAaB2BeiIvPzN9ZaiIigEREBERAREQEREBERAREQEREBERAREQEREBERAREQEREBERAREQEREBERAREQEREHnUQxVEL4Z42yRPGHMcMgjuK5m2kW6fZbtUoNT2igmi09KWiaKmO615AOWnuHHPHuXTqitVWWm1Dp+utdczegqIyx2Bx+hdbsftH/Q40/EjNh1xlqj0nx+ceDPEozRpvZVouEF1tlNW0r2vinYHgtOcZHJZaoXYBqWoslyrNB32HxSele51IJeD3tJJ4/Qr6WPamwzsO0VYW+nfTPGmd0poqzRcREXPXEREBERAREQEREBERARFjXKuprZQVFbXythpYGGSSR2cNaPm4pM21lNNM1TFNMXmWSih9LaktmqLa6uss5np2SGJxLHMIcACRggdhB+lL1qex2SQR3a60dLKRno5JQH4793nj6FTPTlzX0bf6XH+LOBknPHhab8rXTCLAs15tt7pjUWmup6yEHBdC8O3T3HuPzrPVomJi8Mq6KsOqaa4tMeE6CIilUREQEREBERAREQFFat/oref7HN+wVKqK1b/RW8/2Ob9goNS2A/BLYPybv2yrCVe7AfglsH5N37ZVhICIiAiIgIiICIiAiIgIiICIiAiIgIiICIiAiIgIiICIiAiIgIiICIiAiIgIiIC1vXeqItK2htU6Iz1E0jYYIR9+88s+hbIqx21Zp22OulBNLFWMa/hkNyeZQSOmdZ3WTUQsmq7VDbK2SPpYTFL0jHjuz3rS/CPvrNL3vRF7lj6RtLVyO3fTujCnNUVUF72mWOmtU0dRJA0TyPicHAMz2kKK2/WWk1HqvQFouYc6jqa94kDTgnyQtMGaIxKZxP03i/yvqib20abs00VNtPv0mq9bVzaqle4mnog/iR2ZHYBw+ddLUVLBRUkVNSxtigiaGsY0YACxLVZLbaY2Mt9HDAGNDQWNAOAFIr7+0+1MXtCuM2lFOlNMboj5feVaKIogREXMXEREBERAREQEREBERAREQEREBERAREQEREBERAREQEREBERAREQEREBERAREQEREBERAREQU/tu2Z1GoXw6h048xX2j8rdB3emA44z38F6bINq7tU3KbT99oXW++U7cdGc+WGjiTnkVbip/bXoGorS3VWl5PE75QNMjjEMGcDic45ngvRbDtmFtuDHZ+2+GlFflmfCeNMzyY1UzTOen6rgRVrsi2nW7WNtpqOpnEd/ii/wBIgeN0kjgSFZS4217Ji7Hizg41Nqo/y8ek+DWmqKovAiIvmSIiICIiAiLFu076W11lRCN6SKF8jR3kNJCiZtF1qaZqqimPFoGrNqUNtvzrHp61VF8urCWyMgJDWOHMcASSO3hgd/NND7TuvdSPsF6tE1puo3tyN7i4OIG8WkEAg44jsI+jOreDTFTvi1BcZ5Gvri9jXve7Lms4uJz3E8z/AMKxrLIzVnhCzXK2HpKChy50zeLXBkfR5B7i7l3hcynHxaooxM36p3en3e4xeythw6tp2P4X7NF5xLzfPaJjT9NpmbRG9uOs9qtLpbV5s9TQOmgjg6SWZknlB5aS1gbjjnyRnP32ezjG1+0N1bs8uty1HplzKY1DKRlFLK5nThwDvfFuRgccgdi17RtHDqvbxfbhVME1PQPkkZvcWlzCI4/8BvD5lJeEtWPkpLBaIfKkqJ3zbo7wA1v7ZUVY2LOHXi5tLzERb6L4XZ2xUbZs2wRhf1JpoqrqzTFtJqm0RumYtefDS1kldtT0ukNkFHcLDbY7VPcgDTU7XdJ0bnjJeSR5WGjOSO4KI2Y7LaG82Zl+1gJ62pr/AOWjifM9uGHk9xBBJPPnjBCxPCMoH0Fi0nTw/wA0pWyU/AcMhsYb/g1ytfSmoLNPpK3VUFwpI6VlNG1xdK1ojw0AtdnkRyVqaaa8eaMTdTEWjw9ZY4+Pi7L2XTtGxXirHrqzVRearRM5ab6z+ZeWjtDWjSFbcZ7MJmMrdzMUj95sYbvcGk8fvu0lbSse31tNcaKKroZmzU0o3mSM5OHeFkLoUU0002o3PIbVj42PizXtEzNe6b79NNRERXfOIiICIiAiIgIiIC1rWF5trNN3mF9dTtk8TmG6XjOdwrZVrOsLJa36cvMz6CndKaSY7xYM53Cgg9gPwS2D8k79sqwlXuwH4JbB+Sd+2VYSAiIgIiICIiAiIgIiICIiAiIgIiICIiAiIgIiICIiAiIgIiICIiAiIgIiICIiAsa40NLcqOSlroGT08gw5jxkFZKIIPTmk7HpsyGyW6Gkc/3xZkk/SStE2s/CRs2/OD/1BWuqo2s/CRs2/OD/ANQQWuiIgIiICIiAiIgIiICIiAiIgIiICIiAiIgIiICIiAiIgIiICIiAiIgIiICIiAiIgIiICIiAiIgIiICHiMHkiIOe9s+m6TRerbPrm105ip2VA8dhpxjf7S5XdpfUNt1PZ4blZ6hk9NKObTxae1p9IWRe7VRXu2VFvucDZ6WdpY9ju0Fc03W0aj2Gao6xshlr9L1Lv5SM5w0Zzg/g4716jZ4o7b2enZq67Y+HExTfdVTvy34x4cmE/wBOb+EupEWDYrpT3m0Utwo5GSQzsDwWHIB7R9BWcvM1UzRVNNUWmG4iIqgiIgIQCCCMgoiCrrrsS01W3CSpgnuFEyRxL4IJG7gz2N3mkj/ELdNI6UtOk6B1LZqfow8gySvO9JIR2uP/ALDA9CnUWNGz4VFWammIl0do7X23asKMHHxaqqY8Jn78frdqmidC2zR89fNbpqyeatLTK+pe1xGCTw3WjtcU1JoW2ah1JbL1cJqzp6Dc6KGN7RE7dfvDeBaScnngjgFta8KGspbhSsqqCphqqaTO5LDIHsdg4OCOB4gj6FPwsPLktpwU/wC4bXOLO1Z5zzFpq9Ji1r2tu08NGJqKx2/UVrkt93pxPTP44yQWuHJwI5EKuIthOmmVQkfWXSSEHPROkYM+gkNzhWyijEwMPEm9dN5W2TtbbdionD2bFmmJ8In+fZj2+ip7dQU9FRRiKmp42xRsBzutAwBxWQiLaItpD4KqpqmaqpvMiIiIEREBERARYMt3t8VxZQS1tOytf72AyAPPzDms5Wmmqm14tcERFUFFat/oref7HN+wVKqK1b/RW8/2Ob9goNS2A/BLYPybv2yrCVe7AfglsH5N37ZVhICIiAiIgIiICIiAiIgIiICIiAiIgIiICIiAiIgIiICIiAiIgIiICIiAijdR3iCw2eouNUx74oRktYMk/MtY0tr9+oaiFsWnLxTU8vFtRNGAz60G8otO1brylsFzZbYLfW3SvLOkdBRt3nNb3lZ1t1laa7TEt9bN0VHDkTB/B0bhzafSg2NFoVh2lUdzu9PQ1NruFuFTnxaapZusmHe0rL1br2lsFwZQQW+tulYWl7oqNu8WDvKDclVG1n4SNm35wf8AqCsHTF/o9RWxlZQkgcnxu99G78F3pVfbWfhI2bfnB/6ggtdERAREQEREBERAREQEREBERAREQEREBERAREQEREBERAREQEREBERAREQEREBERAREQEREBERAREQEREBROqrFSamsFZaLhvilqmbj9w4OOfAqWRXw8SrDqiuibTGsExfRy7q7ZxqbZzZZbradTVUlppJ2uZQxF+8Wl2T6Fd+zPX9p1zZ456CUMrGMHT0zj5Ubv/dbhPDHUQvinY2SJ4LXNcMggrnPatpRuzO/23WOlXdX2xsrYqyCA4c7edxAHcRleowtqo7epjZtq0x9clUREROn6aoiN820niwmn4Xep3Oj0Ufp+6w3yyUVzpmvbBVRCVjXjBAPepBeWromiqaaotMN94iIqgiIgIiIC0TYZ8Flk/8AX/z5Fva0TYZ8Flk/9f8Az5FjV+9T8p/DpYX+34v/ADo+1be0RFs5oiIgIiICItW2ga5s+hrWKy8SneecRQM9/J8y1wMDE2jEjCwqZqqndEImYiLy2la5r3V9u0VYJrpdHHdbwjjHOR3Y0KjtS+EjLLU08WkrQZWuBD/Ggd7ezwwAs7T2znVWv6yju20S5udaXf6RHb2n3pPJpHYF6HD/AOnqtkinH7UmMPD4X71XpERun5spxc2lGsvPZLbLltE2iS6+1FRvp6enwKAt8kEtJABHbgHmuil40dLBRUsVNSxtigiaGMY0YAAXsuV2p2hO340VxTlopi1NPCI3R+Z9V6KMsCIi5y4orVv9Fbz/AGOb9gqVUVq3+it5/sc37BQalsB+CWwfk3ftlWEq92A/BLYPybv2yrCQEREBERAREQEREBERAREQEREBERAREQEREBERAREQEREBERAREQFotwvOvIq6ZlFpm3zUzXERyOrN0uHeR2LekQV/JBqnVVqrbZqC10tqilGGTQz9KQfmUA+XUOzWW0x3C8i82uolFMInRhj48ngRjmArQvlsju9tlopZpoWSDi+F264fMVq9m2bWq3XOOunq7hcZYv8AVitn6RrT3gIIjRgEe0+/NqseNubvR73vuj9i0Cq8rQGsH0/+zvHzv7vLO/xVwau0HbNS10dbNPWUdYxu509JL0bnN7ie5SFt0paaDTr7LFTB1DID0jX8S8nm4nvQaJtHMbtMaVbTEGqc6DoMc8YbnH0LI2eeRtG1YKvAqCWGLe57mOOPQpiwbNLPZrvFcG1FfVyQ56GOpm32RZ/BHYsrVugbZqWsjq5p6yjqmNLDLRy9G5w7j3oNc2I48Z1iWZ6E3Z+53fQsHbTFPPrvZ1FST+Lzur37suM7vAdiszTtkorBbY6K3xlsbebnHLnnvJ7Sq72s/CRs2/OD/wBQQb9Z7fdKWdz6+6mrjPJnRhuFMoiAiIgIiICIiAiIgIiICIiAiIgIiICIiAiIgIiICIiAiIgIiICIiAiIgIiICIiAiIgIiICIiAiIgIiICIiAoHXdjZqLSlytzoGTSSwuETX8g/HA/Wp5FphYtWFXTiUb4m/JExeLOa9l+1ep0ZOdJ7QYZKfxXEdPOGe9HIA+j0rpCmmZUU8U8R3o5Gh7T3gjIWn7UNHUepdM3QR22mqLu+nLKeV7Bvh3Zgqg9n2qNU7ONbUlv15NVQ22oYIv5d2+1gHItx9C9VibHgduYde1bJEUYsa1UX/VpeZpjfxuwiqcKctWsOsEX5hkbNEySM5Y9oc094K/S8jufQIiICIiAtE2GfBZZP8A1/8APkW9rRNhnwWWT/1/8+RY1fvU/Kfw6WF/t+L/AM6PtW3tERbOaIiICIvj3NY0ue4NaBkknACDyraqChpZKmsmZDBGN58jzgNHpK5wbLUbYdq9M6ekkl0lbXuDHFuGuI58e3JC2/witbW6i0hJYoC2sq7qOhAheHdGOB3jhb7sx05S6W0XbbfR7xb0YlcXcy5wyf1r0mx//V7FO21Uz8TEvTRfwi3eqjxv4Qxq79WXwhnW/Slit9RNNSWukZJMQ5x6IHiBgY7lNgAAAAADkAiLz2Ji14k3rmZ+c3axERuERFRIiIgHktJ1nar0+xXqWO+GOHxSUiPoRwG4eGVuyitW/wBFbz/Y5v2Cg1LYD8Eun/yTv2irCVe7AfglsH5N37ZVhICIiAiIgIiICIiAiIgIiICIiAiIgIiICIiAiIgIiICIiAiIgIiICIiAiIgIiICIiAqo2s/CRs2/OD/1BWuqo2s/CRs2/OD/ANQQWuiIgIiICIiAiIgIiICIiAiIgIiICIiAiIgIiICIiAiIgIiICIiAiIgIiICIiAiIgIiICIiAiIgIiICIiAiIgIiIC0LbPpGPVejqlkNNFLc6YdLSyPHFjhz/AMFvqEZGDyW+y7TXsuNTj4c60zdFURVFpVpsQ1/92VikpqqAwXK2hsFQPvXEcAR9Sstc17bdIXLSep262s9aYLY+ojNXDEdzc4gcGj32eKvvSWorbqiyU9ytFQ2ankaCfwmnucOwrr9sbFhZadv2T9vE8Ne5V40zP29GeHVP6at8JlERcFqIiIC0TYZ8Flk/9f8Az5Fva0TYZ8Flk/8AX/z5FjV+9T8p/DpYX+34v/Oj7Vt7REWzmiIsa411NbaOWrrp2QU8Q3nPecABTFM1TaN49aieKmgkmne2OKNpc57jgADmVz3tS2q02rDHpDRdS/xuumFO+q5Rlp7jzWLr3VVw2vXmk03oCeoFqxmumcwxgYPPPdjPDtVrbPtl2ntGU8TqSlbPXhgbJUyjJce8A8l6nZ9m2bsainaNuiZxp1po8vCa7+usQwmqrEm1O7i1/Z5sQsmmKqG4XGWS6XBsbeE+CyN/aW/xVuAAAADAHYiLgbZt+0bdifF2iuap/wA3RuhrTTFMWgREXyLCIiAiIgKK1b/RW8/2Ob9gqVUVq3+it5/sc37BQalsB+CWwfk3ftlWEq92A/BLYPybv2yrCQEREBERAREQEREBERAREQEREBERAREQEREBERAREQEREBERARFhXe60NmonVl0qY6amacGR/IIM1eNRV01Njxiohizy6R4bn61q/uk6Oxn7oKL6z7Fre2S0WXUugay77xqehja+CWN5aAcjjwQWi1zXNDmkFp4gg8CvFlbSyTGFlTC6Yc2CQF31LRprpNaNklPVU5PSilYxpJ4jIxlaLc9LU1i0VadRW+SVl+NRG6as3yXStJOWkZwgvWoqIKZm/UTRxM5b0jg0f4r9xSxysD4ntew8nNOQVUNwih1vtKpbdeGums8dB0/ipcWgyd/BR0F1qdG27V9poZHugoGCWn3jkxhxxgFBdUdbSyTGGOpgdKPvGyAu+pfqoqIKZm/UTRxN75HBo/xVF6i01SaW0NbtU2syMvxlhe+pMhJeJDxBGcdqnbnRw632h0tvvAdLaqak3nU28Wte8jO8cILaikZKwPie17Dyc05BVVbWfhI2bfnB/wCoLJ2Vvfar7fLA2R8lHBMX04cc9E38EehR22mpNHrvZ1UCGScsr3no4xlzuA5ILfRQ1nvb7jO6N1trKUD76ZmAVMoCIiAiIgIiICIiAiIgIiICIiAiIgIiICIiAiIgIiICIiAiIgIiICIiAiIgIiICIiAiIgIiICIiAiIgIiICIiAiIgwL7aKK+2ue33SBs9LMMOY4f4/OubqeIbCNpUTJ6mpqdOXFhIY3IEWSAC7sJHFdQLU9pmj6fWulam2TBgmI34Xke9eOXHuXa7H7SjZ6p2faJvg4mlUcP/KOExv0Z4lF9Y3w2WgrILhRQVdJIJKeZgfG8ffA8ivdc2bMdrEOi4vuT1dNPLVUtUacVH/y4oxw59wXQllvFuvlEKu0VkNXTEkCSJ2RlZdp9k4/Z+JOemck/pq8Jjwm/wDCaMSK4Z6Ii5S4tE2GfBZZP/X/AM+Rb2tE2GfBZZP/AF/8+RY1fvU/Kfw6WF/t+L/zo+1be0RFs5o4hrSTyHFc27WNfVGv7uNEaOpHVlM+QNqpgPfYPEA9mMHir11tqKj0tpquutwJ6KGMkMb7557gq78Gu1UX3J1V+igDau41UrnPI47odwH+K9D2RGHseBidpYtGaaZiKOGab6z8o1ZYl6piiJb/AKF0la9H2OGgtNMIsNHSPPv5Hd7j2rYkRcLGxq8aucTEm9U75lpEREWgREWaRERAREQEREBRWrf6K3n+xzfsFSp4BaTrPUkkVivUHU9weBSSjpGs8n3h4oMPYD8Etg/Ju/bKsJV7sB+CXT/picf+YqwkBERAREQEREBERAREQEREBERAREQEREBERAREQEREBERAREQF5VVNBVwmKqhiniPNkjQ4H6CvVEEX9z1l+SLf+jM9i1ParQ6gq9MTWfSlmo6iOpaGOL5REIxkHgPoVgIgr3TFrvt10ZLZNVWqnt5jhEUToZuk3iBwPoWtjTOtLpbKDTN0pqWC2Uk7ZHXBkwc+VrSSG7vZzVzIgrjVGnb1a9W0+pNKUkFbK2m8UfRyydG3d/CyvOxaGrK6zXqTUu5HcrrkPZG7eEbeYGe1WWiCnJdN6yvlspNMXqjpYbPTytc6uZMHPe1hy0bqndU2C+2zVFHqDSlLBWyMpzTzUksnRh/DAdlWMiDSNnGnLhbH3G537oxc6+YyGNjsiFp+9B7Vr+1n4SNm35wf+oK11VG1n4SNm35wf+oILXREQEREBERAREQEREBERAREQEREBERAREQEREBERAREQEREBERAREQEREBERAREQEREBERAREQEREBERAREQEREBERAREQQl80pY73Q1NLcLZSyR1AxI4RtDz6d4DOVQQo6vYftEpXOrnt0bcpN0g+WQQMkY7MHHFdMLXdc6PtWs7NJb7xAHgg9HKPfxHvaV2uyu1P9PVOBtMzVg16VRv8ArF90wzrovrG9N0FZT3CjiqqKZk1PK3eZIw5BC91ytddM7QtkM1FVWO4vuts3jE2FrXOjjLjwBYf1rd9FbUdRUesI7FtLpqe2SVMYdTODN3eceQOCV9O0f9PVZJx9jxacWi0zFptVaN/d36eKsYutqotK36y+UNHfKC01Mjo6yuY98ALTuv3MZG9yzg5x/BaJshvlDbNnmkqKrkcKq4SVEVPG1pcXETSEk45Adp9K2baFp9+obB/oD+jutG8VVBMDgtlbxAz3Hl9IPYtG2CaZq4rfHeryx4khY+koIZG4MMfSOdI7HeXOcO/APYV5CurEjHiIjwnX00v9vd6rZsLZJ7KxMSqu0xVTenxmqIry29JveeGWeMLhJwMnkqf19tzs2nqyW2Wenlul3imEL4A0hv0OHMrbNruqotI6Jra18bpZZB0EcbHYdvPyA4fMVp+wLQlDTaRpLzd6OOqutY/xoTVDMyM7ufJeq7O2XZsLZqtv22maqb5aaYm2ad83nhGl3lq6qpnLSq3c1/tfv8NrvUVRb7O2YzHegLBE09nEeUuqrPb4bXbKaip2MayGNrPIaGgkDGcDvWYiw7U7Xnb4ow6MOMPDp3UxuvO+fWU0YeXWZvIiIuQ0EREBERAREQEREBRWreGlbz/Y5v2CpVRWrf6K3n+xzfsFBqWwH4JbB+Td+2VYSr3YD8Etg/Ju/bKsJAREQEREBERAREQEREBERAREQEREBERAREQEREBERAREQEREBERAREQEREBERAREQFVG1n4SNm35wf8AqCtdVRtZ+EjZt+cH/qCC10REBERAREQEREBERAREQEREBERAREQEREBERAREQEREBERAREQEREBERAREQEREBERAREQEREBERAREQEREBERAREQEREBERB8c1rxhzQ4dxGVWe27QFDqqwy3MCSO72+J0lPLF74447v1qzUIDgQQCDzBX1bHteLseNTj4U2mP8mPruVqpiqLSqPYLtGZqazC03Yx094oh0ZjJwZGjhnj2qzL9c6Wy2iqrq2eKnghYXF8hwAez/FVjth2TxahhfeNNONuv0DDgwHoxMB96ccvnVMUd+u21S42DRN8mdTzUsz2T1MZP8qG8MOb2kY5r01HZOy9q1Ttuz1ZMOJviU+NHjMxxibafNj8Sqjuzv8Gx6M01qfa5qaK/6lrJYrFRzb1MByfh2QGDtGRxK6hY1rGhrQGtHAADACjNMWKi01Y6W1WxjmUlO3dYHHJ9KlFxe1+052/FiKIinDo0piItaOs75aYdGWPUREXJaCIiAiIgIiICIiAiIgKK1b/RW8/2Ob9gqVUVq3+it5/sc37BQalsB+CWwfk3ftlWEq92A/BLYPybv2yrCQEREBERAREQEREBERAREQEREBERAREQEREBERAREQEREBERARFG6ht1TdLY+mo7jPbZnEEVEABcPrQSS0HazdNU2WyzXLTUlCyKmAdKKlm9vDOOC8zoO/Yx93t6+w1Ye1m40On9mldb7xeOkq5Ig1j5/fynI7Ag2ykvFTLoYXZ4j8b8UMxwPJ3t3P1LSdm961rqa30VzqbxYfFpnOLqaJmZA0OIx8/BT2hL/YbroOFkVdDU08NM1lSG58gEcQVW+oodIWwW52zSZovXjjAY6N7nEsJ8rIPDCCwtXakvc2rYdMaVdSwV/QeMyVFUwvY1vdgdq8tP67qILNd/ulZG252vPS9EMNeOwj51F3Wui0ztcjul9kbS26poOj8af7wSfg5UGLdPq+h1ldLYxzqasYIYDjHSbpzkIJZ2r9YWihpdRX3xB1gqJWs8XijIlYHHDSSp3Vepb5Vako7BpF1LFVSwGokqalm+yMcw3A7VpWqNS0Gpdndt07apRNfOlhjdSAHfZuEbxP1Kbq6yn0dtJpqq9Sint9VR48ak94xwGN0lBtOzvU9beRcKC9sjjutBMYpDGMNkA++A7lrG16WOHaLs3fNIyNgr35c9waBwHaVl7LM3bUd+vsDXChkmMcLyMCUfhD0LcNW6QsOrYaeLUNBHWMgcXxb5ILCe0EFBJdb235Qo/Xt9qdb235Qo/Xt9q0n3GdCfIbPXSfvJ7jOhPkNnrpP3kG7db235Qo/Xt9qdb235Qo/Xt9q0n3GdCfIbPXSfvJ7jOhPkNnrpP3kG7db235Qo/Xt9qdb235Qo/Xt9q0n3GdCfIbPXSfvJ7jOhPkNnrpP3kG7db235Qo/Xt9qdb235Qo/Xt9q0n3GdCfIbPXSfvJ7jOhPkNnrpP3kG7db235Qo/Xt9qdb235Qo/Xt9q0n3GdCfIbPXSfvJ7jOhPkNnrpP3kG7db235Qo/Xt9qdb235Qo/Xt9q0g7GtBjnY2euk/eX33GdB/IbPXSfvIN263tvyhR+vb7U63tvyhR+vb7VpI2NaDPKxs9dJ+8vnuNaDzjqNnrpP3kG79b235Qo/Xt9q1+2aip5NV3WmluVGaaJjDGOnbzPPtUT7jOg/kNnrpP3l8GxnQXMWGLPeJX5P/Mg3fre2/KFH69vtTre2/KFH69vtWke41oPP+w2euk/eX33GdB/IbPXSfvIN263tvyhR+vb7U63tvyhR+vb7VpI2M6DPKxs9dJ+8vnuNaDzjqNmfy0n7yDd+t7b8oUfr2+1Ot7b8oUfr2+1aT7jOhPkNnrpP3k9xnQnyGz10n7yDdut7b8oUfr2+1Ot7b8oUfr2+1aT7jOhPkNnrpP3k9xnQnyGz10n7yDdut7b8oUfr2+1Ot7b8oUfr2+1aT7jOhPkNnrpP3k9xnQnyGz10n7yDdut7b8oUfr2+1Ot7b8oUfr2+1aR7jWg846jj9fJ+8vp2NaDHOxsH/rSfvIN263tvyhR+vb7U63tvyhR+vb7VpPuM6E+Q2euk/eXwbGtBnlY2euk/eQbnUXi3CCQtuNGHBpI/l288fOofRuoaassMU1bcqMzOc4H+WbyB+dQh2NaDHOxs+maT95fRsY0GB5NhjA7hLIP/AOyDdut7b8oUfr2+1Ot7b8oUfr2+1aQNjWgzysbPXSfvL6djWgxzsbB/60n7yDdut7b8oUfr2+1Ot7b8oUfr2+1aT7jOhPkNnrpP3l8GxrQZ5WNnrpP3kG79b235Qo/Xt9qdb235Qo/Xt9q0n3GdCfIbPXSfvJ7jOhPkNnrpP3kG7db235Qo/Xt9qdb235Qo/Xt9q0n3GdCfIbPXSfvJ7jOhPkNnrpP3kG7db235Qo/Xt9qdb235Qo/Xt9q0n3GdCfIbPXSfvJ7jOg/kNnrpP3kG7db235Qo/Xt9qdb235Qo/Xt9q0gbGtBnlY2H/wBaT95Pca0HnHUbM/lpP3kG79b235Qo/Xt9qdb235Qo/Xt9q0n3GdB/IbPXSfvINjOgzysbPXSfvIJa76ip4tTWinhuVGKeUP6QdO3sHDtWwdb235Qo/Xt9q0g7GdBZ42KIu7MzPz+0vvuM6D+Q2euk/eQbt1vbflCj9e32p1vbflCj9e32rSRsZ0GeVjZ66T95fPca0HnHUbM/lpP3kG79b235Qo/Xt9qdb235Qo/Xt9q0n3GdBj/9DZ66T95BsZ0GeVjZ66T95Bu3W9t+UKP17fanW9t+UKP17fatJ9xnQnyGz10n7ye4zoT5DZ66T95Bu3W9t+UKP17fanW9t+UKP17fatJ9xnQnyGz10n7ye4zoT5DZ66T95Bu3W9t+UKP17fanW9t+UKP17fatJ9xnQnyGz10n7ye4zoT5DZ66T95Bu3W9t+UKP17fanW9t+UKP17fatJ9xnQfyGz10n7y+DY1oM8rGz10n7yDdjd7aRxuFH65vtUNQW3SFvrzXUUVogqySTMxzA4k8+OVBnY1oMc7Gz10n7ye4zoT5DZ66T95XpxK6ImKZmInfrv+aLJexaip579eoZ7lRmGGRoiHTt5EfOp/re2/KFH69vtWkDYzoLJ3bFFntImfx/5l9OxrQY52NnrpP3lRLdut7b8oUfr2+1Ot7b8oUfr2+1aT7jOhPkNnrpP3l8GxrQZ5WNnrpP3kG79b235Qo/Xt9qdb235Qo/Xt9q0g7GtBjnY2euk/eX33GdCfIbPXSfvIN263tvyhR+vb7U63tvyhR+vb7VpPuM6E+Q2euk/eT3GdCfIbPXSfvIN263tvyhR+vb7U63tvyhR+vb7VpPuM6E+Q2euk/eT3GdCfIbPXSfvIN263tvyhR+vb7U63tvyhR+vb7VpPuM6E+Q2euk/eXw7GtBjnY4/XyfvIN363tvyhR+vb7U63tvyhR+vb7VpPuNaDxnqNmPy0n7yDYzoM8rGz10n7yDdut7b8oUfr2+1RWq7rbnaXvDW3CjJNHMAOmb+AfStd9xrQecdRsz+Wk/eX07GdB48qxRkduZpMftIPuwAg7JLAQcgxO4/3yrCWDZLVQ2S109utUDKeip27kUTOTQs7IzjIygInLmg48kBEyM4yMogIiICIiAiIgIiICIiAiIgIiICIiAiIgIiICIiAiIgIiICw6+10Fw3fH6Kmqd3l00TX4+sLMRBhUtpt1JFJHSUFLBHJwe2OJrQ75wBxX5pLLa6ObpqS3UcEv4ccLWn6wFnogxq6gpLhEI66lgqYwchs0YeM/MV6U1PDSwiKmhjhiHJkbQ0D6AvVEGFDaLdBVGqhoKSOpPOVkLQ768ZXpXUFHcIujrqWCpj57s0YePqKyUQedNTw00LYqaKOKJvJjGhoH0BVLWW77vNoF3o7nVVUdst8DTTxU8pjPScMkkc1byqy70V+0pra43ezWeW8UVxhbH0MLg10T/wjnsQSWyK5Vb6Ous9fM6olt8hYJnHiW54AqwVpOy/T9babbUVd4aGXOtkMkrB94M8At2QEREBERAREQEREFUbedOQ1GnKq+eOVsFVSNb0QgmLG5yOJA5rz1jcKqsp9EabFRLFHeomieVjsPwGNJwVn7bJr7W6eqrLY9OVVzNSwfy8cga1hznioipt2oLraNOXptgno7tYGtayjleCZvJAOD9CD2oI/c/2hUtkoKipnttwpJKksqJC9zXMzyJUNFY5dR2G+6rq6+sbc4nukoujmLWRAcgW8itnslqu+q9ZRah1BapLRFR07qaGnkcHOcHczkKFfQ6rslBetM0VjmrKaue5tNXseAyFp/CHagXm/V+obLo61OqJIuspRFXyRndc4Y44PYs62QnQOtzaqGoqZ7ZWU7pI46iQyGNzW5PEr2vujLlbrFpeptUYq7hZXiWWFpwag44gL3sNsvGqdVy3y/wBrltMEMJip6eVwc/JGCSQg1iisjtUaWumtKyvrW3FnSTUzY5i1jOjzwLe3ksu5X+4ap0zpChdUPp5LluurXxndLmZwQD2L9MotU2C1XLSdDYZa2gqS9kFex4DI2PzkkfSpG86Ludn0zpp1kYKyvsxb0kY4GZnMgelB+bHAdD68ntFHU1Etonpd+OKeQyOZIBknJUDZrHLq7S1x1dW19bFeIppTD0cxbGxsZ4Dd5HK2rTVtvOo9YVN/vtrktVMKfoYKWZwc/exguJCgaSh1XpmzV2k7dY5a2nqJXujuLXgMa1545HoQWPs6vUuoNHW65VH+tlYQ70kHH/stkUJoyyN07pqitjXb3QN4n0k5Km0BERAX5kbvxuaDjIxlfpfmVxZE9zWl7gCQ0dvoQU3tI0lbNM2ee80dxuDL06Vpp81LiHvLhwDO1eNspajaHqq4WzUVRVU8VogjwynkMZc57eZwsSmk1ZW6zmvGptGV1ZHTSblDFHKNyMZ9/jvWwVVNf9M6rrtRWmxTXJt4jb09Mx4D4XNHDJQRNt1RcLXpXVFobO+Sa11QoKed5y4B3Ik9q86qyS6KZpq9W+urJKurma2v6aYvbK0jjhp5KZteha+q0pfp65ogvF2m8cER/wDlSDkCsJlFqnVEmn7VdLLLbae1ytkqaqR4LagDsaOxB7VVF93+0K60FyqaqO10FMySnZTymM75xkkjmo+DVNxsOir1bXTumqKCobSRzuOXbrzgfUp270F70nre4XuyWeW8UlxgbCYIXBroXN7TnsXhRaCr7jou5m5gQ3evlFSY/wAFzeLWoIm8WR+z5unrxbK6smrK2qjp6sTzF7Hh/EkA8lJ11ubr3aBcKS41VVHaaKECKGnlMZ6Th5RIXhNR6o1m+yWu8WSa1wW2dlRLVveC2Ys5AAd6k71SX3Sut6u8WSzS3egrYQx0ELg10cn4Rz2INdj1VdbJs1vdP4w6avoajoIpncT0bnYH0gL0u9m9z6Cy6htlbWyyVMjI6pk8xe2QydoB5c1JUuz+43HZ3dKS5FsN3uE3jGPwADlrfnXlLSal1nJabRd7FLa6Chc181RI8ESuZy3fnwguBh3mNPeMr6vjRutA7hhfUBERAWFerfBdbZUUdWZRBK3DjE7ddj0FZqjr/W1dBbZKigoX107OUDDhzvmQUTRVlutmtoIdGzXanNPHMasXJztyQNHDc3uazrbZnai0RV67qLhWsu4ElTE1kxEbQwnyd3l2KavNFftoF0oY63T89jpqdrw+ed4c47wxhuFh01BqqxacqNE0dhlqaF+9DHcg8BjY3cyQg/dxvdbrK2aRtzqiSmZcYxUVbonbrnt5FoPYs2wl2iNcXOy01RUS2c0YmhZPIZHMkxk8T2L2vej7lYrVpup0/D47V2gCOSEHBlj7QPSsjTFnu2oNWXHUN+tr7XDLTCmgpJXBz2nGC4kINRt1iqL9o6r1hVXCsZfWTPexzJiI2sY7gN3lyUtdL1VazfpaxunlpoblCZ6h8Tt1zg3mARyysamt+rrLYKnSFLZJamOWZxbcw8dGGOPHI55U5ftJXCwxWC6afpzXVlqj6J1ODgyNPvsIMOxzO0Pr24afpZqia0CgNaxs8he5r+7J7FBR2CpuekLhq6a5VgvzJnPge2UiNjA4Ybucjwytt01Y7nqLV9bqW/26S1skpDRMpJHBzt38LIWveIawobBXaRgsskzaiZxiuYeOiZGSOBHPOAgy9QXip1VW6PsUk0sNHdInPrHRO3XksHYR3qR0nG/SO0Z2lqaonnt1XAaqMTyF7o8Dlkr9al0pcLTJpm82SmNdU2aMxvpWHBm3h5RB+tZOj7Zd7zrKXVN+t77Y+OM09PSyOBcGkcSSEFkIiICIiAtU19fZ7fRst9pHSXitzHTxjs7ye7gtrWlav2eUOprtDcprhcaOrhGGOpZtzCCp7XX3TR+mNURmtqKipdWxU5kleXdGZOBx3Yytju9mGzis0/c7ZW1s0lfUspKpk8xe1xf2gHkoeg2QXF7dQNnrLi4ioZUUnjEu82ct4jeWySUupNcV9mpL3YpbTSW2ZtQ+aR4cJXt5YwgTWoa/1rd2XSqq4rdQN6OGGnlMeHj74kc1Ex6ru9FsuuFN4059yp6rxaOY8+jLsfXhbDcqa/6R1fcK+y2Wa8W+4M/1cLw10cnaTnsWJBs9udRs0rKKpexl5qZzVf1eOQz/ANkGNV2YaBuNhutsrKySOsc2KrinmMgkc/tGeXNe8VqbtG1bfG3Srq4aO2P8Xijp5TH5XPeOOa9IqbUesLrZ6a72Ka0263YdLJK8O6Z7eRbjsXvVUuoNF6oudXYrLLeKK5/yrmxODTHJ6c9iCBodWXX3NrnRiocK6Gtdb4JzxIYDjJ9OFlvs50LetN19trKx8dbgV8c8xkEhIHEZ5cVmUez64t2d3CnLmtvNVUur2Nd/8t5Od1fKWk1Jqu92GO7WSa1UFrx075nh3jBAABbjkOCDxjtfuiaz1LDdauriprU5sVI2nmMfFwzvHHNbLshu9TX2u40FZIZX2upNKJHc3AdpULV0eoNGarvldZLNNeKe8ESARPDegcBgZz2LZ9mOnaixWmpmuADa64SmpnYPvHHsQbiiIgIiIC561MLZ7quovuuF+8RLI/FXUhf0TeHHkuhVomqNR32CorbfRaQrK6F7CxtSyRoY7IxxCDVLs+kvd901o2010/UVRSOqnSRzHpHBueBdzXvZa1+h9X3jT1NNPU2+KgNfEJ3l7mnuyVG23RF90tLatTUdJ49coIzFJb4zjDHHiAti05p646i1DdNRahoH2x9TSmijpXnLgzvJCDUpLDUv0TU6y6yrOvxKZYn9MejazeHk7nLkpvUNwn1detK2OWeaK3VsBlrBC8sc5wHYRyWBJb9YDTlRo1tkkLJJjuXQPHRNjyCMjnnAWwan01crNcdOXux0jrg+1QmGakjOHTZGCQSgj7TWTaFvl9s0E81RRR0rqynE7y90e6OWTzULNY5RoCfX3WFab2G+ORjpj0YGQN3d5LatPadueo7jebxqKifbX1cLqaCmecuYw88kKCloNWO0xNoY2KU0ch6BtzDxuNiznOO/ggzb9W1Osbjpa0TVEsFHUwNnrRC4sdJkcgRyX60/VT6NvWpLPDUTT0MFO6eibM8vdGQ3kSeaztS6buljqdOXWw0jri+2RCGopmHDpmgY8klfdMafut8uOoLxfqN1uNwhMFNTSHL4gRglxCDU6WyS1OgGa9dcK1t8wat46Y9HgOI3d3krm0pcnXjTduuEgw+phbIQO8qpoLfqyn0wzQzLFK6ka7oTcy8bhiJJJx38Vb9gtrLRZaK3xu3mU0QjB78IM9ERAREQEREBERAREQEREBERAREQEREBERAREQEREBERAREQEREBERAREQEREBERAREQEREBERAREQEREBERAREQEREBERAREQEREBERAREQEREBERAREQEWj7Zb/c9NaHqbhZHMbXCRjGF7cjicLUr7qXVuhaGmvd8robrb5oA59OyIMMbyMgZQXKipmO+a0j05SawluNO+3TYlfbehAMcZJ++7Sv3qjWV5qdSUdLR3E2S1T0rKhlY6m6Vj3H70nsQW1WV9LRmMVU7IjIcN3jzK9I6mGWV8UcrHSM980HiFW+pb1cLfbbAI6+kuMlRLuPqhGC13zdy1vS9v1LU7V9Qmk1E2GCN8bpYjDvCQdw7kFz0twpauaaKmnZJJC7dka08WnuKylUtHrWsoPuynmigkfQzmOmYxgaXH/iPavEXrWNip7RfbtcYK23VzmmakbCGGBrscndvNBcCKnze9W3/aNqSz2e6QUNvoqaOWF7oQ4guHatr2Yahrr1bqqmu7myV9DJ0UsrBgSHvx2IN1REQEREBERAREQEREBERAREQEREBERAREQEREBERAREQEREBERAREQEREBERAREQEREBERAREQEREBERAREQEREBEyO9MjvQETI70yO9ARMjvTI70BEyO9MjvQETI70yO9ARMjvTI70BEyO9MjvQETI70yO9ARMjvTI70BEyO9MjvQETI70yO9ARMjvTI70BEyO9MjvQETI70yO9ARMjvTI70BEyO9MjvQETI70yO9ARMjvTI70BEyO9MjvQETI70yO9ARMjvTI70BEyO9MjvQETI70yO9ARMjvTI70BEyO9MjvQETI70yO9ARMjvTI70BEyO9MjvQETI70yO9BWvhCQPqdm9VFGJC900e7uDJB3uawRoK/anpqKn1ddKaW0R0wY2GmYWvJLRguPerWe1kjd2RrXN7iMr9DAGBhBVEez7Upt9Np+a80h0zTuAaxsZ6dzAfel30qa1Lp7Us0cdvsVTaG2ZkQjENZCXuH0hb7kd6ZHegrGk2Zy0WnbPbaavbmjqDUSOeCQSTkhvcFmz6SvtBrKS8adr6OKnqy3xyKojLi4D8E9isHI70yO9BX1Ls9Lm6njr6pr4rvIXsMYw6IlR1LoPUdW+2UN/u9JNZLe4GKOGMtkkA5B57eStLI70yO9Bplh0hPbNdaivjqmN1PcoY4o4Wt4x7o7V76H0vPp2pu0s9SyYVk3SNDRjdHcVtmR3pkd6AiZHemR3oCJkd6ZHegImR3pkd6AiZHemR3oCJkd6ZHegImR3pkd6AiZHemR3oCJkd6ZHegImR3pkd6AiZHemR3oCJkd6ZHegImR3pkd6AiZHemR3oCJkd6ZHegImR3pkd6AiZHemR3oCJkd6ZHegImR3pkd6AiZHemR3oCJkd6ZHegImR3pkd6AiZHemR3oCJkd6ZHegImR3pkd6AiIgLxrHmOmke3mBleyx7j/Mpv6pQa1arfRSWyjfJR0z3uhYXOdE0kndHEnCyurLf8RpfUt9i87Qf+6aL8gz9kKHk1lb4deRaTqIqqG4z0pq4JXtaIZmg4LWO3slwwSRjkCuVhYdE0R3Y3R4Rwj0dXFrriue9O+fGeM+qc6st/xGl9S32J1Zb/iNL6lvsULqPV9BYr3Y7RNFVVNwu8xip4aZrXFoaMukflwwwDmeJ9BWxZV/h0eWOUdFPiV+aec9WP1Zb/iNL6lvsTqy3/EaX1LfYsjKZUZKPLHKOic9fmnnPVj9WW/4jS+pb7E6st/xGl9S32LIymUyUeWOUdDPX5p5z1Y/Vlv+I0vqW+xOrLf8RpfUt9iyMplMlHljlHQz1+aec9WP1Zb/AIjS+pb7E6st/wARpfUt9iyMrWNSas6l1Xpiy+J9P13LNH03S7vQ9HHv53cHezy5jCmMOif7Y5R0ROJXH90856p/qy3/ABGl9S32J1Zb/iNL6lvsUBZtWdZa61DpzxPouqYqeTxjpd7pelaTjdx5OMd5z6Fs+UnDoj+2OUdCMSuf7p5z1Y/Vlv8AiNL6lvsTqy3/ABGl9S32LIymVGSjyxyjonPX5p5z1Y/Vlv8AiNL6lvsTqy3/ABGl9S32KAm1Z0e0en0p4nnpra64eNdLyxIGbm5j05zn6Fs+VM4dEf2xyjoiMSuf7p5z1Y/Vlv8AiNL6lvsTqy3/ABGl9S32LIymVGSjyxyjonPX5p5z1Y/Vlv8AiNL6lvsTqy3/ABGl9S32LIymUyUeWOUdDPX5p5z1Y/Vlv+I0vqW+xOrLf8RpfUt9iyMrFluNHDXwUMtZTx1s7XPhp3SgSSNb74tbnJA7cck+HR5Y5R0M9fmnnPV+urLf8RpfUt9idWW/4jS+pb7FAak1Z1LqvTFl8T6fruWaPpul3eh6OPfzu4O9nlzGFs+VPw6PLHKOiPiV+aec9WP1Zb/iNL6lvsTqy3/EaX1LfYsjKZUZKPLHKOic9fmnnPVj9WW/4jS+pb7E6st/xGl9S32LIymUyUeWOUdDPX5p5z1Y/Vlv+I0vqW+xOrLf8RpfUt9iyMplMlHljlHQz1+aec9WP1Zb/iNL6lvsTqy3/EaX1LfYsjKZTJR5Y5R0M9fmnnPVj9WW/wCI0vqW+xOrLf8AEaX1LfYsjKZTJR5Y5R0M9fmnnPVj9WW/4jS+pb7E6st/xGl9S32LIymUyUeWOUdDPX5p5z1Y/Vlv+I0vqW+xOrLf8RpfUt9iyMplMlHljlHQz1+aec9WP1Zb/iNL6lvsTqy3/EaX1LfYsjKZTJR5Y5R0M9fmnnPVj9WW/wCI0vqW+xOrLf8AEaX1LfYsjKZTJR5Y5R0M9fmnnPVj9WW/4jS+pb7E6st/xGl9S32LIytf1/qT7ktH3O++K+N+JRiToOk6Pfy4DG9g459xUxh0TpljlHRE4lca5p5z1THVlv8AiNL6lvsTqy3/ABGl9S32L82qs8ftlHWbnR+MQsl3M53d5oOM9vNZWVGSjyxyjonPX5p5z1Y/Vlv+I0vqW+xOrLf8RpfUt9iyMplMlHljlHQz1+aec9WP1Zb/AIjS+pb7E6st/wARpfUt9iyMplMlHljlHQz1+aec9WP1Zb/iNL6lvsTqy3/EaX1LfYsjKxaW40dXU1VPS1lPNUUrgyoijlDnQuIyA8A5aSOPFPh0eWOUdDPX5p5z1frqy3/EaX1LfYnVlv8AiNL6lvsUBZtWdZa61DpzxPouqYqeTxjpd7pelaTjdx5OMd5z6Fs+VM4dEf2xyjoiMSuf7p5z1Y/Vlv8AiNL6lvsTqy3/ABGl9S32LIyvCtrKehpJaqtqIqamhaXyTTPDGMaOZLjwAUZKPLHKOic9fmnnPV86st/xGl9S32J1Zb/iNL6lvsXpBPHPDHNBIyWKRoex7HbzXNPEEEcwsS/Xanslkr7pW7/i1FA+okDBlxa1pJwDjjwT4dHljlHQz1+aec9Xv1Zb/iNL6lvsTqy3/EaX1LfYteqtbUFNQ6YqZKWuxqCaKGljDGb8ZkZvgyDe4AAccE/Ss3V2rLLpC1G46ir46Ol3gxpcC5z3H71rQCXH5hwHE8FPwqfLHKOiPiVeaec9Up1Zb/iNL6lvsTqy3/EaX1LfYq4btntUG5Le9N6vsduPB1wuNqcynZn3uXNLjxOAOHMqzIpmTRMlhe18b2hzXtOQ4HkQe5JwqY30xyjoRi1TuqnnLy6st/xGl9S32J1Zb/iNL6lvsWRlMqMlHljlHROevzTznqx+rLf8RpfUt9idWW/4jS+pb7FGXTU1HbtS2Wxyx1ElbdRM6ExtBYxsTQ5xeSQQOIAwDxXyyampLxfb5aqWGpbNZ5Y4Z5JGtEb3PZvgMIcScDGcgc+1T8Ojyxyjoj4lfmnnPVKdWW/4jS+pb7E6st/xGl9S32LS9S7UbPZr1JZ6OhvN/usA3qmlstGal9OOGC/iAOfLJPeApfRetbTq+CpNtNTBWUjhHV0NZCYaimeeTXsPzHiCR6eCfCptfLHKOiPi1XtmnnPVO9WW/wCI0vqW+xOrLf8AEaX1LfYoDXurPuTpbTN4n434/coLfjpej3OkJG/yOcY5cM94Wz5T4dG/LHKOifiV7s0856sfqy3/ABGl9S32J1Zb/iNL6lvsWRlMqMlHljlHROevzTznqx+rLf8AEaX1LfYnVlv+I0vqW+xZGUymSjyxyjoZ6/NPOerH6st/xGl9S32J1Zb/AIjS+pb7FkZTKZKPLHKOhnr80856sfqy3/EaX1LfYnVlv+I0vqW+xQFm1Z1lrrUOnPE+i6pip5PGOl3ul6VpON3Hk4x3nPoWz5Uzh0R/bHKOiIxK5/unnPVj9WW/4jS+pb7E6st/xGl9S32LIymVGSjyxyjonPX5p5z1Y/Vlv+I0vqW+xOrLf8RpfUt9iyMplMlHljlHQz1+aec9WP1Zb/iNL6lvsTqy3/EaX1LfYsjKZTJR5Y5R0M9fmnnPVj9WW/4jS+pb7E6st/xGl9S32LIyoLT2oOuLjeqXxboeranxfe6Te6ThnOMDHzcVE04cTEWjlHRpRRjV01V0zNqbX14zaPHilerLf8RpfUt9idWW/wCI0vqW+xZGUypyUeWOUdGeevzTznqx+rLf8RpfUt9idWW/4jS+pb7FkZTKZKPLHKOhnr80856sfqy3/EaX1LfYnVlv+I0vqW+xZGUymSjyxyjoZ6/NPOerH6st/wARpfUt9idWW/4jS+pb7FkZTKZKPLHKOhnr80856sfqy3/EaX1LfYnVlv8AiNL6lvsWRlQ1BqKkrtRXKzRR1AqqBrHSvc0BhDhkbpznt7QFE04cb4jlHRpRTjYkVTTeYpi86zpG7jxmEj1Zb/iNL6lvsTqy3/EaX1LfYsjKZU5KPLHKOjPPX5p5z1Y/Vlv+I0vqW+xOrLf8RpfUt9iyMplMlHljlHQz1+aec9WP1Zb/AIjS+pb7E6st/wARpfUt9iyMplMlHljlHQz1+aec9WP1Zb/iNL6lvsTqy3/EaX1LfYsjKZTJR5Y5R0M9fmnnPVj9WW/4jS+pb7E6st/xGl9S32KH1/qT7ktH3O++K+N+JRiToOk6Pfy4DG9g459xUtaqzx+2UdZudH4xCyXcznd3mg4z281Pw6LXyxyjoj4ld7Zp5z1frqy3/EaX1LfYnVlv+I0vqW+xfmW40cNfBQy1lPHWztc+GndKBJI1vvi1uckDtxyUFqTVnUuq9MWXxPp+u5Zo+m6Xd6Ho49/O7g72eXMYSMOif7Y5R0JxK4/unnPVP9WW/wCI0vqW+xOrLf8AEaX1LfYsjKZUZKPLHKOic9fmnnPVj9WW/wCI0vqW+xOrLf8AEaX1LfYsjKZTJR5Y5R0M9fmnnPVj9WW/4jS+pb7E6st/xGl9S32LIymUyUeWOUdDPX5p5z1e+mJDJYaIuOSImj/BSiiNJ/7Ao/ybf1KXX34P7dPyj7Q+DG/cq+c/eRY9x/mU39UrIWPcf5lN/VK0ZtdtJ/7qovyLP2Qq/wBuVkqamxUepbK09eabmFfBu8DJGMdLH8xaM49GO1b3aj/3XR/kWfshLqHPtdYxjS5zoXgNAySd08FyMGu1NM+kfaHWxqL1VR6z95Vds2q2ao1Bftplxa+O3MhNHa2yDjHTxjMsgH/E4H6iF52CXaLr+0fdHbdU0umKCq3jQ29ltjqi6MEhr5JH8Q49uARjBx2KX2N2apZsUttmu1NUUVRJT1EMsU8bo5GB8knNpwRwOVrujdVX/QOnYdL37ReorjV24Ohpqu00vjFPURZO44vz5B7McSBgkDkvombzNv8AIYRGkX/yU5Zte3e57MNX1lZFDQ6msDKumnMA3o+mijLmyMDs8OXA5HDuWx6UvVfX7KLdeaufpLlLaW1L5txozJ0e9vboGOfZjC1rRei7qND6tiv7Iqa8anmqqiaBr99lN0rS1rN5vPHaR3rXtNak1VS6Ag0bDoe8sv1LSOoXVNRHuUDWtBb0nTAnf8nB3Wg5PAFJtN7cSLxa/BZeym8Vt92d2G53Wfp66ppxJNLuNbvOyeOGgAfQFF2zUF2ptst307dKnpbZVW+Ovtjeia3ow07kjd4DLjvceOeCyNjlLU2/Zhp2kr6ealqoqUNkhmYWPYcngWniCoDbTS3ahq9O6s05b6q43G1TSQvpqVjnvkhlYQfJaCSAQ0qsTE1TC0xMUxLG2c7RLlftrGprNXPd1QQ91qzE0NLYZOikIeBl2Tx4k4x2KZ0bftQ6iqtdVtDVU8lLT1bqCzwVMYbCySJmHPe5o33NLyO08jjC0u96cvGjtFaDvFktdXcL5Zg9tVTwNfJJIKhjjLkAEnEhB9C2am0hdbfsGl09aXOjvs1vc55391z55PLkbvHkTlzclWqmnfHyVpirdLUdW6u1No2mmurtp2nr7VUcwFTp8U1PE4gu3XsaWuMmWk9uD5PHuO47QJRNtO2WygYD56t2O7NOqo1JQR3HZm+z6c2R3KlvMNPE2oram2MjewtLd50UhzJM4kEcOOCTyGFbWr7fXVGvNmlRBR1MkFJJUGokZE4thzBgb5Aw3J4cVaZiLfXhw9FYiZv9OPFrsuraPSm1/X00zH1VwqYLfFQ0EPGWrl3HYY0d3EZPID6AbL0FT6lhtMk+sq+GpuVTKZhTwRtbFRsPKJrgAX47XEnu44ya7uOhfuq2ha9iudLVU0E8FC+33EROb0c7GOw+J/DJaeeD247VuWzG8X6ttdRbtXUE9PerZJ4vLU9C5sFY372aNxADsgcQOR7BnApXMW09F6Im+vq2PU3XD7LOzTctDDc3bojlrQ50TBvDecQ3iSG5wOWcZ4Kl3a0vemr/AGF3ukWPWlHX10dBUUMMFNDLEJCAJW9E4k45ceHHkc5G8bc7Tdb3s9qqSywSVcgmilnpIn7j6mFrsvjB7yOOBxOMDJ4KsNQU0V6qNM/cnsruFkhpLvSSVVdPa46aZrQ/kGty9zO1zzwG6M88qcO0xr+EYl4nT8rGrD/8Rtv/AP8AXJf88KOttz1rtFr7pW6a1FT6Z0/RVT6Omc2gjrJawsOHSO3zhozyx3nPLKl6qhrHbeaG4CkqDQNsMkLqkRO6IPMwIYXYxvY445rWNL3O9bLprrYrlpa+3i1PrJau3VtmpvGcxyHeLJG7w3CCe3nx4YGSibxpvsTFp13XbXsz1Teqy6X7TGrPF5L3ZDHmrp27jKuJ7ctk3ex3DiBw48gtO0NXbTteaWNfTalobLHDJNHBP4jFPLXOa9w8sEBsbBgNGGlxw4nPBbPsytN3n1DqXWF/oXW2e9dCymoHuBkhgjbhpkxyc7IJbzGCCvfYRQ1ls2cUlLcqSopKltTUuMVRG6N4BmeQcEZ4ggqJqiLzHomKZm0T6vDT+0O4VOxy46orqKJ13t0dQyaCMHcdLESM45hp4E93FaRrC57RLNoah1W3aDRvjrnwOFFTWqAtaJSPJhe7Jk3c8AcEgEk8Fm0UFwsuwfWLaqWayVTqutfHLUsfE7ddL5OOGfLB3QQOO8MLXrPa49KGDVFZsWNLBSNbUzVbL02odC3gXSNpnHAcOYGBu45jGReLXm3FSb2i/B0ZZ4qqmtVJBca3x6tjia2aq6IRdM8Di7cHBuTxwOSpTXll1RUbcNPtodX+JyVNNVvon9WRSeJRhrd5mCf5Te73cQrms10prxaaO5UDy+kq4mzxOIwS1wyOH0qutp5uVm1/pHVNJZrjd6CjjqaWqht0BmnZ0jRuuDAeIyOfL6ws6KpzNK6Yyonag3UNv1Lsxiopqa8aijkqo2z1LBTxSyGEAyPa33rQCXFreJxgcSpKK5600drvT9BqW/U2oLTfpH04c2hbSvpJQ0uAbuZ3mngPKOfmxx99S+O33WuzK709quUNMySpmnbPTlr6UPgwBKBkMOeGCefBZu0uhrKzVegJqSkqJ4qa6mSd8UbnNib0ZG84geSM9pVs26J9fyrl3zHp+EZtE1xWDWrdKWnUtn0uyGlFVWXW4dG5zS4+RFEyRwa4kDJz2Hhgji2ca2r362m0pdNR2rVUb6Q1tLdreI2Hg7D4pWRuLQRkEY7Oec8I/X9hNq2jyaordIN1ZY6+kZT1EEVIyqqKWVnBr2Rv98HDAOO4k4wMzuzma11t7lqLPs3l01TxwFpr6y3w0Uznkj+TaxvlFpHHezjIwkzGX+P5Iic38/w3DXN8k05o+8XiCDxiWipXzMjPJzgOGcdnf6Mql9YXPaJZtDUOq27QaN8dc+Bwoqa1QFrRKR5ML3ZMm7ngDgkAkngrO2w1ElPsx1FJDcG2+XxVwbUOcW4JIG6CATl3vRjjkhU7Z7XHpQwaorNixpYKRramarZem1DoW8C6RtM44DhzAwN3HMYyGHOlzEjWywtfavumnHab0tHqG10l4roXOrL7co2RRwxsGDI2MuDekc73rSSOGPSI7S2uLja9c2ixXDWdm1pQ3fpGNqaJkMU1JK1u8A5kTiCxwzxPHPdji2h29t7uWlteW2wRapszaQx1NvfA2SV0EmHtljjfwc5pz5PPjjvIzdFVNluOpaPqbZVU2URbz5blX2mChNP5J3THjLnkngd3GM5S8Zf4LTm3/d51961zedqOpNMaduVJb7dSxU0prp6dkrqMOZkiNnDfc934ZIAB7SFLbNr9qKPVl/0lq2sgudZbmR1NPcYoBCZ4pM++Y3yQRwHD088ZX3SlDWQbYtcVs1JUR0dTT0LYZ3xOEcpaxwcGuxg47ccl9s1DWR7btRV8lJUNoZbVTRx1Do3CN7g45aHYwSO5RNUbvRMUzv8AVD225612i190rdNaip9M6foqp9HTObQR1ktYWHDpHb5w0Z5Y7znllTezPVN6rLpftMas8XkvdkMeaunbuMq4nty2Td7HcOIHDjyC1TS9zvWy6a62K5aWvt4tT6yWrt1bZqbxnMch3iyRu8Nwgnt58eGBk7DsytN3n1DqXWF/oXW2e9dCymoHuBkhgjbhpkxyc7IJbzGCCpqmLTw8EUxN44+LWNF1+07XOj3XKk1LRWcQPnjgk8RinlrnNe4eXkBsTRgNGGknDic8F7aVvW0naNpNt4tt1t2l2RMdHG2OkbUurZW5Di7fz0TN4YAAJ99nIwtn2FUNZbNm1LS3GkqKSpbUVLjFPE6N4BmeQcEZ4ggpsKoay2bNqWluNJUUlS2oqXGKeJ0bwDM8g4IzxBBSquIva28pombXRkW1Woj2Iwauqqambd5SaRsLiWQmo6QxgnJBDeBcRnkCM9q1i6a6vumKIX6TaXpbUojex1TYqdlOzyHOG+IJGv33FueG8OIGSDyPpatE3e8bAorSKAxXimr5a2Gjr4jGJS2oe4McHY4OaSBngcjs4r1p7hY6lkdLBsOrOuHYYY5rJTw0of8Aff6QRjd54djjw71aMutuPorMVaX4eq9KaoZUU0U8edyRge3PPBGQq117NqOC8vfLtFsOjrY44oopaaGWSoAa3fc8zOAyHHkzhgjPFWRGGxxtYxrWMaAA1owAO4KhrjRNs20fVNXqzQVz1Z1jLG+21cFAytijiDcCM7xxFg8M8+3lgnLDm8tK4tDZtC65u952a6rqqyro6i62M1NMy4UYa6KpMcW8yYDi3jnPAY9A5KGtlbtSvmgKfVcWoLdbjFRtqYrcKFk3jrGtDi+WT7xz8Ow1gAAIHA5I+bObNdqXQG0eCs07LZ6msqqt9Pbo48tDXQANbFujDxngC3gSOC3fRtHVU+xu2UU9NPFWMszYnQPjLZGv6LG6WnjnPDCvVVFN7cVaaZqtfgwbxtJmpdj1Dq2loon3KvihZT0riSw1Eh3d3sJaDk8xkDn2rSNqls2iW3ZfeKi+6jt97pKinaKyj8SbTmly5pzDI33+HYB3gMgcOKkjpG8XbwebFbKWkkhvtAyGqipahvRuMkbydxwdjBIJ5+hYuvtV6k1zs8udptGhb/R1MlOHVj7jTGJjAPKLYR76ZxLd0YaOYJwppm06cUVReNeC5tLO/wDDNo/scP7AVca41JfavaZDpO16npNJxCjbURVU9Gyd9dK9+70bBIQ3h3DiTnn2WLpxr4dPWuOVjmSMpYmuY4YLSGDII71X+0y8UE1ZUWbU+zu+agoQwOpaq30QqgQ5vlYcCHQuBGOBzgZ7lnRPeXqjupTVeqLvoPZk+vv09BcL7G4U0UrW9FDPI55bG94yN3ycOcAQOBAIGCq/umur7piiF+k2l6W1KI3sdU2KnZTs8hzhviCRr99xbnhvDiBkg8jlU2hNR3HYTDZ6ynYLrTVQraG31kolDYmPyyne4nHvcjB4DIBxxx8p7hY6lkdLBsOrOuHYYY5rJTw0of8Aff6QRjd54djjw71pFvnyUmJ+XNtO07Xk9urrDZLNdbZZqm7xuqJbncy0R0kAHvmtcQHSEnyQeHAg88iH0tri42vXNosVw1nZtaUN36RjamiZDFNSStbvAOZE4gscM8Txz3Y45W1jTco1LYNTwabg1HbqCF9HW2voGSvELuLZImO4Oc054DicgcskfvRVTZbjqWj6m2VVNlEW8+W5V9pgoTT+Sd0x4y55J4HdxjOVETGX+EzE5v5WtUiSSmlZBL0MrmEMk3Q7cdjgcHnjuVB7ONP6wdtC1k2PXHRvpa+n8ff1RCfHv5MHln+T8nyfJ+dX5vKoLbX3LR+1bVLKrTl7uFBfqilmpay3UvTRR+TuO6V2QGAH6cDOMEKtFU2mIWrpi8TLAMep6zbhrai0pVUltE9NRGquU8QmdTNEZ3RHESA5zie3gAD2kLatm1+1FHqy/wCktW1kFzrLcyOpp7jFAITPFJn3zG+SCOA4ennjK+6UoayDbFritmpKiOjqaehbDO+JwjlLWODg12MHHbjkvtmoayPbdqKvkpKhtDLaqaOOodG4RvcHHLQ7GCR3KZqidPREUzGvqhdZVWqqW51hrNqWm9Lyu330dsdTQO3oskRuc+Z2/k4w4hpAIOMqI1Hfb7rzweJr6y4w2uVtPUdYQQ0zZWVbWFzCxpccsBxnIyVEWO3mx1d9t+pNmVfqfUtVcJpobjJRRz01Q1xzGTPJkRDHMY4dvHgNi0Lpq7z+DrX2Ce3y0V2nhrI2UszDEQ50jy0YPIHhg8sEFXmYi0/LgpETN4+fFt+yS1aht9go575qfrejnooDTU3iEdP4sN0HG805fwIHHuUV4RrLmdm9dLbbuaGADoaimFK2U1gkc1gZvHizic5HFSWyXUtVdrBSW6v09fLRVW6jhilfcKQwxSuDd09EScuHk55DmFCbd9GUmqGadkNpnrq3rKClfLEZT0NM52ZS4NOAMD3xHDPMKkT/AFNV5p7mjUL7pLWUWstC2KXXYnmY2aopZBZoGihEUQGd0H+Uzvbozy5rbYadt/8ACInZdi2oi07ao5KONw4CaQjelx38cejh3BQdNsf01BtcgiptNzxWCmtgqRKZqgxuq+m8kb5dxIaM7oOOPELZ9e6fv1s1rSa40ZSRXGtZTeJV9tkl6I1MOcgsceAcP/Yc+RtNcTpfwViiY1t4szWm1Ki01UXGmuuk9V1FDTDdmrYrc19I9pA4iRzwC3jjj28FvtsngnttJLSMEdNJEx0TA0N3WEAgYHLhjgqV1/rC6a40dcNN2XQer4bhcWCNr6+hFNAzBDiXSOdgcGnGcZOFcNigkpLJb6acASw08cbwDnBDQD+pZ1aRHFenWZ4MS5ax0za62SjueorNR1ceN+Coroo3tyMjLS4EcCD9Km4pmTRMkie18bwHNe05DgeRB7QoC5aR01dK2SsuenbNWVcmN+eooYpHuwMDLi0k8AB9CmomshiZHExrI2ANaxowGgcgB2BVmqPBeKZ8VIaksWqrtt1ZBb9Y+KS0ttlraaXqqKTxOKSQM6HBOHk4zvHjw5L5smp9Q26LXmpavUIr4WVNZG6E0McXjU0LQBPvNOWjySNwcO1fih2RaauW0nVzrppufqiJkD6VzpahjZZXhz5XNcHDe44BAJA5YCm9gmhKGx6KbWVlnmoLxco5Y6xk7pA/oukdusLHHDfJx2A962qriKeTGmiZq5pXweLfDR7L7dWgiStujpK2rnPF0sjnniT6AAPoVitggbVPqWwxCoexsb5Q0b7mtJIaTzIBc7A9J71S2k7hf9lNLJpm56avd9ssMsj7ZX2enFQ8xudvbkrMjdILjxPPjgEDKsHRV9vl/fWVl0sMlltZ3RRRVbh41L77efIwcI/vQGniCDxIIVK73mrwXotaKfFq/hEy1EWm9OyUMAqKtl+o3Qwl4YJHgu3W7x5ZOBlYF/um0HRNTZ75fr7brpbKysipa21wUIiZSdKQAYpeL3hpzxd6OBzwnds9DWXG26abQUlRVOhv1HNIIInPLGNcd55wODR2nkF924UNZctH0sNvpKirmbc6SQxwRukcGtkBLsAcgOZU01RaIRVTN5lK7Rn31tJA+06ltOmLawE1lyrImyvYctDGsDyI8EkglxzxGFp2zzV94m13W6UrNWWzVNPLb3VtNdqGOFjoXBwYY3NjJZwzkZyeI78D5thttQ7WumbzcdO1uptNUkU0c1vpIRUOjmd72Qwk+WMcOPAY+bMboGhqJtskV3otDT6XsT7PJFFvUjITI7pWnMjWDEbzxAa45w3PI8Ji2X+P5RN838/w2/ZTq6urdJXgauqA+8WGrqKavlLGx7wZlwfhoAA3eHAcd1QVBtDvNq2NT6wvT46ivuFS422CdrI44mSP3YWuLd3LQAXEk5I7VB7UtPahp9Z3al0zQVU9BrOmhpqyeGJzmUkjHta57yODQYy7njOSt72o6NkvWzllmsNPTumt7oZqOlmA6OTouUZzwwW5HHhx445pem8TxLVWmODQrprq+6YohfpNpeltSiN7HVNip2U7PIc4b4gka/fcW54bw4gZIPI37TVDKiminjzuSMD2554IyFRdPcLHUsjpYNh1Z1w7DDHNZKeGlD/vv9IIxu88Oxx4d6vKMNjjaxjWsY0ABrRgAdwVcSf80/C2HH+a/lShi1NWbb9bUWlaujtompqI1Nyni6Z1O0RndEcRIDnOJ++4AA9pC2PQuodR27X9w0VrCvgu07aMXCiuUVOIHSx7265r2N8kEHljuPE54QVVXag0ttd1ZfINMXG62KphpIpnUcRM+Qw4dC04EoByHAHIyDyBUloenu2p9pdZrW52its1uhoOraClr2blQ/y950jmfed2O3IwVaZ013WViNdN90FJry5arul0lodountGWyjqn0tLBNHTzVFSG8DJIJXjdBI8nA5E55AnYtIbT3T7PdR3i9mjqqvT8ssE01A8GCsLQCx8ZyeD8gfP3clptus9Hoauuls1Ns1m1LTyVclRQXO32mKudJE8725LveU0tzjiePHHAZO6xafi1Vsxv9soNLRaRbcg9tPA+KOJ0gAaWSysjHkEkYLTkjCmqafp9P5RTFX1+v8ADTH611KLEdRnafo/x8Q+Nfc21lOYjwz0PS9J0u9j/m4ZxxW26719dW7OtKai0vHuVV1raRvism5/KCQHMRc4EDJwN4YPbkLVbTVWqht1Pbr3sUq5b9CwQyOpbHTy0ssgGA7p+QaeBJ4gZPPC2vaTa6yq0louC32N9K+C8UE0tBRx9I2kaDl48gY3W5xvAAJMxeNPsRE2nX7sC+3PaDoios98v9+t91tlZWRUtbbIaERMpOlIAMUgy94acjLufDIOeFy7yrnbhQ1ly0fSw2+kqKuZtzpJDHBG6Rwa2QEuwByA5lWFvLOqq8RLSmm0zDQqCu1Nqurr6yz3antVrpp3U9PGaVsxqS08XPJOWgnu+rhk/jZpUzw1WsKi7NiiqI60vqBESWAhp3i3PHHDIysew1tx0dLcLPNYbpXwvqXz0dRRxB7HNeeT3ZwzB7/1YzlaGt1xkdqtt7pDSS18+8QASzD2cQ1332M4JHDIK+OmZmYnx1es2imijBxqYimMOYoyzGW8xmpvum8+MzeNJRlLqa53umNzZrOx2UPLjDbXtied0E7vSuc7ea49uOziO5TQ13K7Z5HfWUsbrhI/xZsIP8mZt7d4HPFvbz5cM9q12zw0tgoWWy/6Emr6unywVdFbY6hk7M+S8u55PcePf3LYL9Zau7aEiitlqhtNdDM2rioWljWhzXkgEtAAJHH5zglRTVXaZvrb1/K+04WyfFopqoiKM8WnuRGXXyzmmJ0vNWsa6+DOtls1fBWUlTXajpaqIvBqKLxJrGBpHEMePKJHZnGccVHVlx1Nctb3iyWiuho6SBkMhqXwtkMALc4a0++Lj+EcAA+hZls1XdLpU0lNT6auVJKXNNVLWx9FFEz77cdzeewDA71+7FTVEW0HUtTJBKynmiphHK5hDXkNOcHkcK94m0UzO/1fF38KcSvaKKM0UaRam36qdbRMxM77XvMxvvDG1VqCus5s9kZdqGC4VMZNRdKxrWMja0YLwzIbvE8hy4fSMSx6lrKLU1vtlXqK3ajprhvtbNTNjZJTyNGQC1jiN0jt55+bj769tMrr3bL420x3mmpo3wVVGY2yPLDxD2NdwJBzw58fpDTk1uq7xT9XaGmtwjy6SsqqCOmMXA43O1xJ4cOWVEzVn3/f+G1FOzzscVZM16as37cWqvPjMxXFtLRTFpjTXwytUy3eO4uc/V1r09RO4UzHwxvfKABvFxkI4gnk3sIysTT2r7hNou+Vs4p6+utT5IWy0/GOp3Wgh/k9hzk4x9CiKymFu1fe577pasvvjj2Oo54qVtSxrMY3DvcGYP0/RzzdCC52Wy6jqH2CWCc17po7fHhvkYbwjOMOAGcY4HGAoiuc3Pj/AByXr2fBp2WL001THw5j9FMTedYiYnP6VTV466JLRUt9rxR3N+p6K7UEzf8ASKdtKxnQktzhrm8d4EgYdjgT24UhaLtWVGuNQ2+abeo6SKndDHutG4XNJdxxk5x2lajQUwuOtLXcNPabuVj6JzjXTVMHizJIyPe7gOHEn0ZzjPeNjslNUR7QNTVMkErKeaGmEcrmENeQ05API4U0VTp8/Xgx2vBw4nEqmIiZovEWpiaZzxp3ZmJm26Y1mN8IPTNVrTVFkNVDeaa3MjfIyKXxVkr6lwcR5QxhjRgAYGeBJzwU1adW1c2z2rvdTTMNfRslbJGwHddIwkZ7wORP0r02YU1RRaQghrIJaeYTTExysLXAGRxBwfQtepoqu3bL9QtnfJbZzPUuY+ZrmHDn8McM+VyGO9REzTETfwlpjU4OPjV4WSmIpxKYi0RGkzadY1mJ+tvCzw1BW6ut+maa+t1ZTuZUuiIpoaGItaJOyNxyX4z28wDxVoW9k8NDBFWVHjVQxgbJPuBnSOxxdujgM9yqC30TLEYr3UbOTBFA0TSVDbiJXRt5l4hPaOeOGPRhW1bq6G4UFPWUrt6CeNsjCRjLSMhWwqtZvP3/ACw7YoiKKIopi1570RRHyp7kzujjOu9X2vZtRwXl75doth0dbHHFFFLTQyyVADW77nmZwGQ48mcMEZ4rE0Lrm73nZrquqrKujqLrYzU0zLhRhroqkxxbzJgOLeOc8Bj0DktZuNE2zbR9U1erNBXPVnWMsb7bVwUDK2KOINwIzvHEWDwzz7eWCczZzZrtS6A2jwVmnZbPU1lVVvp7dHHloa6ABrYt0YeM8AW8CRwX3aZeXB5nXNz4vtsrdqV80BT6ri1BbrcYqNtTFbhQsm8dY1ocXyyfeOfh2GsAABA4HJG0XjaTNS7HqHVtLRRPuVfFCynpXElhqJDu7vYS0HJ5jIHPtWdo2jqqfY3bKKemnirGWZsToHxlsjX9FjdLTxznhhaYdI3i7eDzYrZS0kkN9oGQ1UVLUN6NxkjeTuODsYJBPP0KM0TOvFOWYjTgjdqls2iW3ZfeKi+6jt97pKinaKyj8SbTmly5pzDI33+HYB3gMgcOKu7Szv8AwzaP7HD+wFTOvtV6k1zs8udptGhb/R1MlOHVj7jTGJjAPKLYR76ZxLd0YaOYJwrk0418OnrXHKxzJGUsTXMcMFpDBkEd6iuZy6poiM2indeWXVFRtw0+2h1f4nJU01W+if1ZFJ4lGGt3mYJ/lN7vdxCy9qDdQ2/UuzGKimprxqKOSqjbPUsFPFLIYQDI9rfetAJcWt4nGBxKltp5uVm1/pHVNJZrjd6CjjqaWqht0BmnZ0jRuuDAeIyOfL6wv3qXx2+612ZXentVyhpmSVM07Z6ctfSh8GAJQMhhzwwTz4KYq3T6dUTTvj16PCK5600drvT9BqW/U2oLTfpH04c2hbSvpJQ0uAbuZ3mngPKOfmxx+7RNcVg1q3Slp1LZ9LshpRVVl1uHRuc0uPkRRMkcGuJAyc9h4YI4ye0uhrKzVegJqSkqJ4qa6mSd8UbnNib0ZG84geSM9pWua/sJtW0eTVFbpBurLHX0jKeogipGVVRSys4NeyN/vg4YBx3EnGBlTMTaZKqZi8QkNnGtq9+tptKXTUdq1VG+kNbS3a3iNh4Ow+KVkbi0EZBGOznnPDAslz2g6vv+qrda77SWe2Wy6zQMuDqOOomwMbsDYzhu6Bkl7sk5AB5qc2czWutvctRZ9m8umqeOAtNfWW+Gimc8kfybWN8otI472cZGF67JqGsoblrl1bSVFM2pv000JmicwSsLW4e3I4t4HiOCTVEXkimZtqydkmpLzd6a9WvVDoJbxZK00U1TA3cbUDALZN3AAJ48uHoC37eVc7NqGso9YbQJqukqIIaq5skgkljc1srejA3mkjyhntCsLeWdc66NKI01Zuk/9gUf5Nv6lLqI0n/sCj/Jt/Updffg/t0/KPtD4Mb9yr5z95Fj3H+ZTf1SshY9x/mU39UrRm1W1u/7spPyLP2QsneWFbD/AN20n5Jn6gsneXConux8o+zu1x3p+cvTeTeXnvJvK2ZWz03k3l57ywL9eaGw2ipud2n8XoaZu9LLuOfujIHJoJPEjkFMTdExZJ7ybyxqWpiqqaKogdvQysEjHYIy0jIOCsDUOoLbp2jiqrxU+LwSzMp2O6Nz8yOOGjDQTx7+SRMzNi0RqmN5N5ee8m8ozJs9N5N5ee8m8mYs9N5N5RNmv1uvMtwjttR0z6CodSVI3HN6OVoBLeIGeY4jIUlvKZm29ERfc9N5N5ee8m8ozJs9N5N5ee8m8mYs9N5N5ee8m8mYsh9aabotX6cqrLc3zspqjdJfA4Ne0tcHAgkEcwOYWjy7OdV3Og6q1DtHra6ySM6KengtsNPLKwD3vTZc7jgZznIyDzVobybytGJNOkKThxVrLzt1JT26gpqKijEVLTxtiijHJrWjAH1BZG8vPeWPX1tPb6KarrJBFTwtL3vIJwB6BxURM1TaN62VmbybyjrPdaO8UDK22zCemeSGv3S3iDg8CAVm7ymq9MzTVpMFnpvJvLz3k3lXMmyH1ppui1fpyqstzfOymqN0l8Dg17S1wcCCQRzA5haPLs51Xc6DqrUO0etrrJIzop6eC2w08srAPe9NlzuOBnOcjIPNWhvJvK0Yk06QpOHFWsvO3UlPbqCmoqKMRUtPG2KKMcmtaMAfUFkby895N5VzLZXpvJvLz3k3kzJs9N5N5Q1NqG11N7ntEFU11whG9JFuOGBw7cYPMcipXeVqqaqNKosiz03k3l57ybyrmTZ6byby895N5MxZ6bybyxaysp6Kllqa2eKnpoml8ksrwxjGjmSTwAXnbLlRXWjZV2uspq2leSGzU8rZGOwcHDmkg4PBTfxRZnbybyibff7Rca2oo7fdaCqrKfImggqGPkiwcHeaDkceHFelZebZRV1NRVlxo6esqTiCCWdrJJezyWk5d9CamiS3k3lF0F7tdxrKqkt9yoqqqpTuzwwTse+E5Iw9oOWnII49y+1V7tdJcqe31VyooK+oGYaaSdrZZB/wsJyeR5DsTU0Se8m8oS76osNmqW094vdroKhzd9sVVVxxOLckZAcQcZB4+hfLTqmwXiqNNaL5aq+oDS8xUtXHK8NHM4aSccRx9Ka2ujS9k5vJvLW6nW+laWolp6rU1jhnicWSRyV8TXMcDggguyCD2KXttxo7nRsq7bV09ZSyZ3JqeRsjHYODhwJB4ghJvG9MWnczd5N5a3U630rS1EtPVamscM8TiySOSvia5jgcEEF2QQexSNovVsvUD57PcaK4QsduOkpZ2yta7GcEtJwcEcEm8ayiLTok95N5ee8oqn1JZKm6vtlNeLbNcmFzXUkdUx0zS3mCwHIx28EvMptEJneTeWFcrjR2yjkq7lV09HSR435qiRsbG5OBlxIA4kBRFNrfStVURU9NqaxzTyuDI446+JznuJwAAHZJPckXncTaN7ZN5N5YVyuNHbKOSruVXT0dJHjfmqJGxsbk4GXEgDiQFB/d9o/8a7B/9xh/eSLzuRNo3tp3k3l5NeHNDmkFpGQR2qPtV+tN3fOy03SgrnwECVtNUMlMZOcB26Tjkefcl5TZK7ybyipb7aYrvHapbpQsukgyyjdUMEzhgnIZnePAE8uxLxfbTZGRPvN0obeyUkRuq6hkQeRzA3iMpqaJXeTeUbaLzbbzTuqLPcKOvga7cdJSztlaHYzglpIzxHD0r81F7tdNdIbZUXKiiuU43oqR87GyyDjxawnJHA8h2FNdxpvSm8m8sG5XKitdG+rudZTUdKzAdNUStjY3JwMucQBxXpSVcFZSxVNHPFUU8rQ+OWJ4ex7TyII4EelL+JZlbybyi6i92umukNsqLlRRXKcb0VI+djZZBx4tYTkjgeQ7CvO6ajslpqoqa63i20VTKAY4qmqZG94JwCA4gnjwTU0TG8m8sOvrqW30ktXX1MFLSxDMk08gYxg7y48Av1R1lPXUsVTRTxVFNK0PjlieHseD2gjgQlyzK3k3lrlXrXS1HVS01ZqWyQVETiySKWvia9jhzBBdkFfaLWemK+ripaHUdlqamU7scMNdE97z3BodklTargi9PFsW8m8ougvdruNZVUlvuVFVVVKd2eGCdj3wnJGHtBy05BHHuX2qvdrpLlT2+quVFBX1AzDTSTtbLIP+FhOTyPIdijVOiT3k3lCXfVFhs1S2nvF7tdBUObvtiqquOJxbkjIDiDjIPH0L5adU2C8VRprRfLVX1AaXmKlq45Xho5nDSTjiOPpTW10aXsnN5N5ee8m8ozLWem8m8tfuGsNNW2skpLjqGz0lVHgPhnrYo3tyMjLS7I4EKWmrKeCjfVzzxR0rGGV0z3gMawDJcXHgBjjlTqjRlbyby1b7vtH/AI12D/7jD+8pOr1BZ6O2Q3Kru1vgt02OiqpaljYpMjI3Xk4ORywVOvBGnFLbybyw6CupbhSR1VBUwVVLKMxzQSB7HjvDhwK8bXeLbdmSvtVwo65sL+jkNNM2UMd+Cd0nB9Ci8ptCS3k3lDXjUtjsszIrzebbb5ZG7zGVVUyJzhyyA4jIWZbbjR3OjZV22rp6ylkzuTU8jZGOwcHDgSDxBCa7zTczd5N5QdZqmwUNyFvrb5a6evJa0U0tXGyUl3vRuE545GOHHKmN5LzBaJem8m8oSLVFhluptcV7tb7mHmPxRtXGZt4c27mc5GDwx2Jd9UWGzVLae8Xu10FQ5u+2Kqq44nFuSMgOIOMg8fQmqNE3vJvKDtOqbBeKo01ovlqr6gNLzFS1ccrw0czhpJxxHH0rXLntd0LbLvLbKzUEDauJ4jeGRSyMa7uL2tLeHbx4cc4wVMRVOkQiZpjWZb/vJvLGpaqGrpoqilmjnp5Wh8csbg5r2niCCOBB7167yrdaz03k3l57ybyZk2em8m8vPeTeTMWem8o3Udopr/aJ7dWulbDLgl0TsOaQQQQfnCzt5N5Jm8WlbDqqw6orom0xrDTJNJX2spfEbtq+pqba9u5LFHRxxSPb3dJknuzzzx71uVJDFSUsNNTMEcELBGxo+9aBgBfd5N5ViIp3N8fasXaIimu1o1tEREX42iI19XpvJvLz3k3lbM+az03k3l57ybyZiz03k3l57ybyZiz03k3l57ybyZiz03k3l57ybyZiz03k3l57ybyZiz03k3l57ybyZiyW0n/sCj/Jt/UpdRGk/wDYFH+Tb+pS66+D+3T8o+0ORjfuVfOfvIse4/zKb+qVkLHuP8ym/qlaM2m253/d9L+Sb+oLV9b6zqLDcbbabLZpb3fK8PkipGztgaI2DynOkdwHoHb+vY7e7/QKb8k39QWh7SqfSNyulFBfNQfc/faSIz0lbFVillYxxLSA93kuBI4t5/NlefwJibRPD8O/jxMXtx/Kap9XXBmjLzeLzp6otdfbIpZJKGWdr2ybjN8bkrRhzSMDeA4HI44UjZNR9aaJpNQ+K9F09EKzxfpN7dyze3d7Az3Zx9CrnS15vGrdAa6tdXXR3p1KKihpLpBAIm1mYzya3ySQSBw4EEc+Z8dK7QdN0uxm3UzrnFJcG24UQoIiH1Lpg0s3REPK4nkcYwc5W80b4iNb/hjFe686W/LeKbaBQs2aQayusD6SkfTiZ0EbhK4Eu3QxpIbkk4HZzVcbUNcXyv2aXeO/aMr7PQ18DRS1fjLKgZLmuAla0B0WRw49pwsa5wTSeDXpypijfLHQOp6udjeJMbJDvfVnP0Ka2xa+01dNmNxpLTdae4VdwgHRU9I4SyNAIe5z2jiwBoJO9jGFeiIiqLRfXlZnXVM0zebac7tyu2r6PR2gLPXVcE9VNNDBT01LTjMk8rmDdYPq5/4E4Brbaxqy83CyWm36l0pV2GolutLLTv8AGWVUMga7i0vZjdfxzukcQCpfaLO22WvZtfqsO6rtlTC6rcBvCNr4wA8juBH+KxttmsbFd7TaLZZrjT3KpNypqh5oniZkUbX43nuaSG5LmgA8SSmHviYi97mJOkxM2tZZOttYM00aCkpbfU3W83F7o6KgpyGukLRkuc48GMHDLuOM5xjOIvT2va6bUVPYtW6cn09cqxjpKLNXHUxVAb75oezGHjnu45fOM6dtko4GbRNL3C8Xa62W0S08tEbjb5+gMExO80Ofg7rXDPZ2ZzgFetgsmjjrOxSw7QbzqG6QySSUdNPdWVrA4MO8SGtO75OeJIzjtVYinJEzw9f4XmqrPMRx9P5bFetplRSaxuel7Vpyqut3p2RPp44ZmsbK1zd5zpHuG7E1vAZJOSQMBSug9bv1JV3O23O0z2a+W1zRU0UsglAa7O65sgADgcd31jioPSJ/86def2ag/YcvtkwNu+pSAATaaYn0+UVE5bTFvCJ+yYzXib+Mx90Bp3UkukrTtJvUVvdcG0uopXSwtl6M7hDA5wODyznH+KsfVOsKOxaHqNTNaKmmbTtnhYH7vTF+NxoODjJcOOCtN2Z0cNyO0ehq279PU3uphkae1ro2g/4FaJpqoqr5U6d2bXASSvsNylkuDt0hr6aDjDn0OLgMegK0xFUz6b/laP8APqpEzTERHju+d5/z6Oh7XVTVVtpKiqpxTVEsTXyQh+/0biAS3ewM45ZwFX3uk3itrK2bT2i627WGiqXU0tfHWRskcWHEhjgI3n47MHj6FYpcAFQWqLpYNN0Vw1Ps61tDR1csnTy2QysmhqXlwDgKd3lxucRxcBkDON0cRnhWrmYt9/w0xb0xE3+35bJte1Nqm26n0tBZrPUvo3V0ZZJHcmwePPLXZp3s+9Hbl2RwW3T6pv8AS6Zpqyp0dWG91ExgZbKeqjmDDxIfJMMNYwgc+wkBattWuIgj2e3e5sNJBHd4JKkycBBvRnO8TyAJOc9y/e1XV/8A3Xp9tjv8FHZ7rXeJ1d5pJGSCBm6chrxkNJ4+Vzbu5V470UxbjxVnuzVN+HBK2LaFc3aqorBq7S09gq7gxzqJ4rI6qOYsBL2lzAN0gY4cefZwz5XvaXVUmsblpez6bqLteKdsT4I4qhsbZGObvPc97m7sYbwHEnJIHBV1TtslPth0TTWXWV31NK2Sd8vjlwFZHCDE7G64ANBPHIBPIZxwzv8ApHHu1a8djj4tQjP9xymqKadbeF/GPHmimqqrS/jbw4ckHtL1ZrOluujhTacqKXpauJ7ooruxoqZSw71K7HDA/CPknHJbbddd3Oz6dt0900xLFqG41XilLaI62OTffxwTMButbgZJxw/xUTtoq4rfW6HuFW8RUdNfIjNM44bGC1wy49g9Kzdd1mh9SWq3RXm/0lPHLK6WguNNWNjMUseMuZMMta4ZHAn6MjhGaJinu6a8U2mJq72unBsGjr/ebs6rh1DpqosNVBuua11Qyoila7ON2RuBvAtOW9mQe1Z+rJqeHTVzkrKfxqnbA4vh3t3fGOWRxHzqvtlOoq+p1RfbA+/M1NarfFDJT3RrG5bvDHRPe3yZDgZ3uZIdnuG6a7d/4OvH9mf+pMOLbRRTPjMfePq1w+9TdCWvUlFZNm0N2t1p6GmDyG0gqC7BMhBO+QT6eXoWLVbUhE2OphsNbLayQ11YSWt3u0N8nBx2ZIz6FA1B/wDI2Ef/ALv/AOYqb1KGjYzCAAAKWmPD+sxdr4GzxX/UozTViTTvndpzn/JTZtV+1fbrPp+C7SF8sVS1pp42DypCRkfNw5ns+fgo3TOtqq63SCjuFgrLaKhjnQyyFxa/AyebW9naMrRtURys0bou4mN8tLSNb0oHEcd0jP2SFYNq1xZLtcKWit88s1ROCd3onN3MNLjvE47scMr58TZaMLAmqjDmub1Xm893LNo3abtdTxQz9pjn1VXR0ViqayuhndG2GF5cXMacF5ww4444YPzqW1PriKyzUtFT0FRX3WdgeKSLILQe84Jzz4AHlxwtc2UY+6HVTsDPjGM/33qJ1dJUWfabJWyXF9siqoR0dWKYThoDQCN0+kdnEZHet42XZ6tqnApo/TTffPem0TbTW0XvpqeF29aR1tHfK+e3VlBPbLnEN7xeY53m8O0gHPHkRy48eyNuW0OriqaoW3TNwraSne6N9T5TW7zSQ7kxwwMd/wBShdKPpLlryCvbqKW71sdO8ndoPF27oG7gnI/C7jy5qDj1F1jNdJ9Tahu1BURl7IqCj3owcZ8nIGP+Hjg95VqdhwpxqrUXiIpmY72kzMxpGlUxpvm1vEWfb9aW6r0pLfnNljp4ctljIBeHjHkjjg5yMcuY5KLsGvaq53KjhqdO1tHR1bt2GrcS5jiQS370DiB2ErVtBT2+DZpdnXmOSSgdVbkoj98A4MAI49hIP0LFsl4No1LbKHSt7qbrbaiURvpZ4nDomZ7C4DsLjloHLio/0GFE41FNF5pmbTN7WiL740vH/lpJwbnZay1ybTbtTwWkQ3COImSt6dx6T3mRuchzHEd3pWMdpm/U1tJR2Oqq6+CZ0bIIHF++xpwXkhvk/MAVhabP/nFfj/8Asn/8a+bKMfdDqp2BnxjGf771TEwsGmKsTEpzZaKJjWfH8enIs2nR2s6XUdDVzPhdRT0nGeJ7t4Nbx45wM8j2DC1uq2pTNilq6PTlXPbGO3W1b5Cxp7OPkEDj2ZUZpJzW3vXwfFJNHiXMUfBzxvP4D0rUbZcJpbGy1VGpaeitUjiX0zoJJJGDezzEfHvwHYX04XZ+BOLXOW8Rl0vVpE03m1rzM8L6eqFwwasrqjSIvMNgqnzueAyjY5xc5pPvwdzJGOPJbVFIXxsc5paSAS08x6FAQ3K0WHTFJM6sabZDGyJk7cvDhyHvQc/QppkjXsa9hy1wyD3hef2iqnWaaLRebTry14c9dV4pY2obfHebDcbZN/q6ynkgd6N5pGf8VSXg5agdZ9Aaqobg7Elhmlncw/et3CSOP/FG/wCtXxvLkXahWVGidc67tdMwiDUNOx0e7xHlva4kj1rfpCbP/UicP5S+baP6cxifOH3YTXV1m2qWavuJxFqSGfD8nysvfzz29JF6eYVlOb903hR5Ic6m0/Qjn73f3cj/AJpf+X0KF2xWN+k9FbPbrTxnxiwSwxSbpxkkNef+Zh+0tg8HNj7rNq7VszHtddrg5sW+MHcaS7/+4H91bYlcTTOLHC3v0Y4dExVGFPG/t1als41pYdHbVtoU2o6/xOOprZGxHoZJN4iaQn3jTjmOa+6q1bZNX7etD1mna3xymhdFE9/RPjw7pHHGHtB5ELM2RWW1XravtFbebZQ3BkdZIY21dOyUMJmkyRvA4XzX9otlm2/aGhs9uo6CF/RPdHSwNia53SOGSGgZKtmp+JMeNvwi1Xw4nwv+WNt5NjO3PT33V/7D8QZ417/3u/Nj3nlc8clYWySj2XyXirrNnkea+CHo5n71V5LHnliU4OS3s7loW2irtFFt801U6kbC60R0LDUCaHpmFu9NzZg5447CrM2faq2d3C6zUGiBb4a6SPpJGUtudTF7GntJY0HG9yz2lZ4lU/Cptfd9Pq0oiPi1Xtv+v0U1pC0aLu+1LXzdeSUMcEddKabxuuNMC4zP3sEPbnhjvWw+DuyOm2n6wptMzyzaTY07jiSWF2+OjwTzON8A9oCidAaLsWtNp20Sn1BSOnENXKYXMlfGY3OmkBcN0gE8BzyOHJbJsBudRprVGoNnt1e3eo5nzUZIALxnyuXPLS1w+n6NMWvu1RE3m0actWeFT3qZmNLzrz0aBaPuC90/XPuj/wA38fm8V/nHvumfvf6njyxzXRWyuk0jTaaM+gY920VUzpC7elO88eSTiU7w96AqD0jd9GWnajrx+u4qGSGSulFP41RGpAcJn72AGOxwx3LoLZ/ftL3qzv8AuKdTC200hjMdPTOp2MefKOGFreec5AWe01Tbx8PluabNEX8PH570rq69xae0xdLvNgso6d8oB++cB5LfpOB9K5OoLfXaKodF7RqgyyS1tfLJWd5Y48PtMEp+kK2fCYu081os2k7cWmsvdW1pBP3rXDdB7gXlv2StV1ds+2pTaIlt10vlkrLNQQCRlHBGA/dib5IYRA05wMe+Ge1TgTFNMTVMRf7bkY96qpiImbffeszwhJ46jYxeZYXB8cgp3tcORBmjIKpa6WHZtHsVguEdVRM1a6ljduw17pJjMSMtdFvkAc8+SMLYJtQ9f+CnVtkfvVNvMNFL/cmj3P8AkLf8VG3fZtbY9itn1bp+mfT32lp4q2d4kc8TDgXEtcSBu++4AcjwKth9yMtU27yuJ35zRF+62e/yXGTwTGOvBkNUYIMGT3xj8Yb0ef7m79GFrugaXYrXWOyUl6Zv6hnZHFO0urW5mccYy3yBxPZwW2681SzWHg11d23meMSMgZUNbybK2ZgcMdnHiPQQovZ5rDZNa9KWMXaK0svdNBGZpXWhz5Gyjjvb4iOTntBURNWSdJvedxMU541i1o3uiIw2ONrGDDWgADuAXPN9czZNtzivJPQ6b1A14qCAd2N5OXcB3P3XfM4hdARTMliZJG7eY8BzSO0Hkql8KGCGbZg+WSNrpYauJ0bjzaSSDj6CV82BX38s7p0fTj0dzNG+NWu7IRJeb3qzare4nuYwTChjdxLWNbl2PmaAwEd7lGbHNFUe1CS8au12+a5SS1LoI6fpnxsaQGuJy0h2AHANaDgDPPhi29DWqCp2PWm2QsbDFVWlsZ3RjBkj8p3zkuJVPbEteW/ZxHedK62E1smhqjM2QwveN4hrS0hoJ4hoIOMEHnyz9EV1VRXk3xaPowyRTNGfdN5+r5rmw0+yHajpi66UkmprdcH9HNSGRzxuhzRI3JyS0hwODnDhnPLGya+OfCg0Yf8A+G39c61/V94i2x7T9O27TMU81otT+lqK10ZYN0uaXnBGQMMAGcEk8lKbc5Z9L7V9J6znp5ZrTAxtPI6IDIcHPJHHhkteSM4zulWiZmaYq/Vaf/SsxERVNP6bx/7bl4TDs7JLj+Xg/wAwLaNkzv8Ayy0t+boP2Aqc23bTtPau0fHp/Ss89zuFdURgMjp5G7uHAgeU0EknAAGe30Zu3QtumsujLHbaojxiko4oZMcg4NAI+tfPXejCiKtJvLei1eLM06xaFT6+P/xQaMP/APDb+udQ23PT/wB1e2202dpDZamzOETieAkb07m59GQFLa9P/wATujT/APxG/rnWXqs//FDpM/8A+Nd+qdbU1zGWY8ssqqb5onzQ8KnU0mo/BqvTa3ebdLdCKCsY/wB8JI3sGSPSMH58qyNjzsbLtMf2GP8AUqZ25U79H3jUEsEe7Z9WUW7JjOGVcbg7PDlvD6y4nsVxbH3f+V+mf7DH+pZ4sx8PNG6Z/C+Ff4mWd8R+Wi7dNnWlabRuo9SQWvdvRInNR4xKfLdI0OO6Xbvaexe2w7Z3pWTSOm9SvtQdew3pvGDUS+/DnAHc3t3s7lsm3s52Sah/Jx/5jF67DHY2T6c/IO/bco+LV8G9/H8J+FT8a1vD8qk2ca0sOjtq20KbUdf4nHU1sjYj0Mkm8RNIT7xpxzHNfdVatsmr9vWh6zTtb45TQuiie/onx4d0jjjD2g8iFmbIrLar1tX2itvNsobgyOskMbaunZKGEzSZI3gcL5r+0WyzbftDQ2e3UdBC/onujpYGxNc7pHDJDQMlfRmp+JMeNvwwtV8OJ8L/AJY23k2M7c9PfdX/ALD8QZ417/3u/Nj3nlc8clYWySj2XyXirrNnkea+CHo5n71V5LHnliU4OS3s7loW2irtFFt801U6kbC60R0LDUCaHpmFu9NzZg5447CrM2faq2d3C6zUGiBb4a6SPpJGUtudTF7GntJY0HG9yz2lZ4lU/Cptfd9Pq0oiPi1Xtv8Ar9Fj7yqHwkNWXGx6bt9qsczoLheZzB0jDh7YxjeDT2ElzRnuyrZ3lTnhJaZuN3sVrvVlifPWWaYymJjd5xY7dy4N7cFrT82V8+BVE4kZm+PE/DnKx6TZJsy0taqSm1jVUb7jK3edPW3I0vSHA3txoe0boPznjxJUpQWSzae2L6xotNX0Xm1Gmq3xSCdk3Q5g4x7zOB45dyHvuXadO1Br3Zfr6wQVmrI5Ib5BTPZFC9tQNyQjPB0XkuaXct76QF57HD/8Oesh6K3/AKdq+mc+W9cze8b92/wfPE0ZrURFrTu37vFquzL3IPuSp/u5/wBudI/pP5573e8n/VeTy7lYXhKUVDQbKNPUNsjDLfDXwRwM3nOxGIpMDJOTw7zlapsg1JswtuiKam1hBaX3dsshkNRanTv3S47uXiN2eHpW1eEncaO7bLrBX2yQS0NRcIZIXhpaCwxSY4EAj5iFeqZ+NG/f47vopTEfBndu8N/1SuxGaXSmpL/oGvcd2B3WFuc4+/gfjIHzZH073ctT2TX+TTGzDaJd4ADUU1dIYsjIEhAa0kdwJBW6bZKOa1R6f1zbIi+ssUrfGQ3nJSv4PHDnjP0BzitC2U2l+qdk20G30B6SWrrHvg7N9wa17Rx5ZIA496pFUVUzXO6bX5rzE01RRG+L25JPYzsssmrNLfdPrNtRd7hdJHyDpKiRm4GvLcktcC5xIJJJ7sDnnBtFv9yzwgqGzWaom6kvLGk07372A/eDQe/de04J44OMniTlbFdq9g01o9mndWTTWuttsskY36eR4eC8uIIa0lrgSQQQOz048LHVv2p7d6TUNspp2WCysa3xiRu7vlm8W/MXOdnHPdGTjkrTNcVV5/02n5ellYiiaaMn6rx8/W7Wdq2n3ai2w66jh3vGKO2trog3tMccBI9Pkl304V12HaIx2w9urKgtdU01GWSNJxvVDTuAejedun+8tS0+1snhT6na8BzHW4Ag8iOjgVXVNoulJq6p2Wxlwt1Veo6gOBOei3Sc/YIcfSxTpiRFM+ERP08UXnDmao8ZmPr4M3Z7ZJLTtM2d1dWXGtu0b6+ZzjxO+Zd3/lAP0rZtvJsZ256e+6v/AGH4gzxr3/vd+bHvPK545Kf1zFHTeEPoGGBjY4YqTcYxowGtHSgAKF20VdootvmmqnUjYXWiOhYagTQ9Mwt3pubMHPHHYUprz1xVxpkmjLRNPCqG+7JKPZfJeKus2eR5r4IejmfvVXkseeWJTg5LezuWNtWsWzmy6NvMFfR2WjuUtPLUQe8FY+Vzi5rmn/WHy/oxke9CmNn2qtndwus1BogW+Gukj6SRlLbnUxexp7SWNBxvcs9pWr7RabT9dt20lBeZZJqh1Nuton0LJoJATJu773PGOPZuO5Dl2YRVPxNbx4+ujeYj4elp8PTVPeDbFW0+yi3CvD2tfLK+nDs56IuyOfYTvEegq0d5eIIAAAwB2L7vL568TNVNXFvRh5aYp4PXeTeXlvJvKuZfK9d5N5eW8m8mYyvXeTeXlvJvJmMr13k3l5bybyZjK9d5N5eW8m8mYyvXeTeXlvJvJmMr13k3l5bybyZjK9d5N5eW8m8mYyvXeTeXlvJvJmMr13k3l5bybyZjK9d5N5eW8m8mYytg0n/sCj/Jt/UpdRGk/wDYFH+Tb+pS67uD+3T8o+0OFjfuVfOfvIse4/zKb+qVkLHuH8yl/qlaM2h0Lv8AQaf8m39SxbvZrTemxNvFsobg2Ikxiqp2S7meeN4HHILzp6+nhp4o5Hlr2MDSC08CB8y/fWdJ50/Zd7F5aiaoiNJ9+j09cUzM6x7dWXRU1NQUsVLQ08NNTRDdjihYGMYO4AcAsGGwWSC4y3CGz22Ovm3ukqWUzBK/e99l2MnPb3r99Z0nnT9l3sTrOk86fsu9itmq9fforan09urLo6amoaSOloqeGnpYxushhYGMaO4NHABRtJpjT9FDUw0ditVPFVM6OdkVJGxszfwXgDyh6CvfrOk86fsu9idZ0nnT9l3sTNX6+5lo9PZly01NLROo5aeF9I6PonQOYCwsxjdLeWMcMKPptOWGlon0dNZbXDSPkbK6COkjaxz24w4tAwSMDB58F69Z0nnT9l3sTrOk86fsu9iZq44+/Qy0zw9mXW09PXUstNWwQ1NNKN2SKZgex47iDwIWFaLFZrK+R9ntNut75QA91LTMiLwOQO6BlfrrOk86fsu9idZ0nnT9l3sS9Vra+/QtTe+nt1ZMNHRw1s9ZDS08dXUBrZp2RgPkDfehzsZOOzPJGUdJHXyVzKWnbWysEclQIwJHtHJpdzIHcsbrOk86fsu9idZ0nnT9l3sS9XCffom1Pp7dWTR0dHROqHUdLT07qiQzTGKMMMjzzc7A4n0nitL0JYbhBrLVupL3SMpam4VDYKVge1x8WjGGuJaTxdwyDx4La+s6Tzp+y72J1nSedP2XexWiuqImLb/Seis0UzMTfd6x1SW8odum7Ay6dZNslrbcd8y+NCkjEu+fvt/Gc+nK9us6Tzp+y72J1nSedP2XexViao3RPv0WmKZ329urJuNHR3OjkpLlS09XSyY34aiMSMdg5GWkEHiAVjMsloZaDamWugbazzoxTsEJ4595jd58eXNOs6Tzp+y72J1nSedP2XexM1Xr79EWp9Pbq/NHYLLQimFFaLdTime6SARUzGdE9ww5zcDySRwJHNZcNHRw1s9ZDS08dXUBrZp2RgPkDfehzsZOOzPJY3WdJ50/Zd7E6zpPOn7LvYmaqePv0MtMcPZk3Gjo7nRyUlypaerpZMb8NRGJGOwcjLSCDxAKwn6dsT7VHbH2W2Otsbt9lIaWMwtdx4hmMA8Txx2lenWdJ50/Zd7E6zpPOn7LvYkVVxuv7k00Tvt7Pa12+gtNKKW10VLRUwJcIqaJsbMnmcNAGVkTMjnhfFPGySJ4LXMeMtcD2EHmsHrOk86fsu9idZ0nnT9l3sS9V72n36JtTHjHt1e3V1AaHxI0VL4n5jom9Hzz73GOfFfuWjpJaIUctLA+kADRA6MFmByG7y4YCxus6Tzp+y72J1nSedP2XexW+JievHx38fmWp4x7dWYyCnZSilZBE2mDdzogwBm73Y5Y9C8KG2W63yOfQUFJTPcMOdDC1hI7iQF5dZ0nnT9l3sTrOk86fsu9ifExLTGuu/eWp4x7dWTS0dHSSzSUtLTwSTHekdHGGl573EDjzPPvX2tpaWuh6Gtp4aiLOdyZge3PfgrF6zpPOn7LvYnWdJ50/Zd7FGfEvm1v9S1PGPbq96Ghore17aCjpqVrzlwhiaze+fAX4ktdtlrRWSW+jfVghwndC0vyOR3sZyMBefWdJ50/Zd7E6zpPOn7LvYp+JiXmq83n5lqeMe3V7w0NFDTy08NHTRwTZMkbImhr88DkYwc+lfmhtlut8jn0FBSUz3DDnQwtYSO4kBeXWdJ50/Zd7E6zpPOn7LvYnxMS0xedd+8tTxj26smOjo46ySrjpadlXIMPmbGA9w4cC7GTyH1JS0dHSSzSUtLTwSTHekdHGGl573EDjzPPvWN1nSedP2XexOs6Tzp+y72KJrxJ019y1PGPbqx7xZop7Vc4rXFT0VbWRua6dkYYXOP4RAyc8ePpKraHTepYrabWNNWRzSHRePPbGZcEny94uz28OGR3K0es6Tzp+y72J1nSedP2Xexfds3aWNs9M0xTmvN9Yq3xp4THKbx6KzTTPj7x1R+mNOxW3S9Pabi2CtDSXyNewPj3ic8ARyC2EOAAAwAOQCjus6Tzp+y72J1nSedP2XexfJi42JjVTXXe8zfdO+fotEUx4+8dUlvKKuen7JdauOrudnttZVRgNZNUUrJHtAOQA5wJAySfpX76zpPOn7LvYnWdJ50/Zd7FnE1RuiffoTFM77e3V73KgorpSOpbnR01ZSuILoaiJsjCRxGWuBC+22horXSMpLZSU9HSsJLYaeNsbG5OThoAHNY/WdJ50/Zd7E6zpPOn7LvYl6rWtPv0LU3vp7dX7obTbLfV1NVQW6ipaqpO9PNDA1j5TknLnAZccknj3pU2m2VVxguFVbqKavpxiGpkga6WP+q4jI5nl3r8dZ0nnT9l3sTrOk86fsu9iZq9+vv0Rlp9PZ5XbTtivFQ2ou9ltlfO1u4JKqljlcG5JwC4E4yTw9KWrTdhtFSam02S10NQWlhlpqSOJ5aeYy0A44Dh6F69Z0nnT9l3sTrOk86fsu9inNXa2vuZaL309n7obTbLfV1NVQW6ipaqpO9PNDA1j5TknLnAZccknj3r4bRa3XcXU22iN0A3RWGBvTAYxjfxvcuHPkvz1nSedP2XexOs6Tzp+y72KM1fr7mWn09mFU6O0vVVEtRU6bsk08ri+SSShic57ickkluSSe1SFptVss0D4bRb6Oghe7fdHSwNia52MZIaBk4A4r8dZ0nnT9l3sTrOk86fsu9imaq50m/uRTRGsW9n7q7TbKyvp66rt1FPW0/+pqJYGuki458lxGRx7lnOIc0tcAQRgg9qjus6Tzp+y72J1nSedP2XexRerhPv0TanjHt1eEOmdPwW+ooIbHao6GoIdNTspIxHIRxBc3GCRgc1IQ0dHBQChhpaeOiDOiFOyMCMMxjd3cYxjsWN1nSedP2XexOs6Tzp+y72JNVc77+6Ipojdb2ecWnbHFapbZFZrYy2yu35KRtKwRPdw4lmME8Bxx2BYP3D6R/Faw//AG+H91SXWdJ50/Zd7E6zpPOn7LvYpz1xx9zJR6eyRaQ1oa0ANAwAOxYtzt9DdaQ0t0o6atpiQ4w1MTZGEjkd1wIXh1nSedP2XexOs6Tzp+y72KL1R4T79E2pnxj26s2mihpaeKnpYo4YImhkccbQ1rGjgAAOAHoWDeLHZ70YjebVb7gYsiM1VOyXczzxvA4zgfUvvWdJ50/Zd7E6zpPOn7LvYkTVE3iJ9+hMUzpNvbq9rXb6C00opbXRUtFTAlwipomxsyeZw0AZXtVQwVlNLT1cMU9PK0skilaHNe08wQeBHoWH1nSedP2XexOs6Tzp+y72JerfaffoWp3Xj26vK1absNoqTU2myWuhqC0sMtNSRxPLTzGWgHHAcPQpfeUb1nSedP2XexOs6Tzp+y72JM1TviffoRFMbre3V+6i02youcNyqLdRS3GEbsVU+BrpYxx4NeRkDieR7Svstrts10iuU1vo5LjC3cjqnQtMrG8eAfjIHE8Ae0rz6zpPOn7LvYnWdJ50/Zd7EzVevv0Rlp9PZ63W22+70wp7tQ0ldThweIqmFsrd4cjhwIzxK96SGCjpoqakhigp4mhkcUTQ1rGjkABwA9Cw+s6Tzp+y72J1nSedP2XexL1Wtaffom1O/T26sqvpKW40klLcKaCqpZBh8M8Yex3HPFp4HivtFTU1BSxUtDTw01NEN2OKFgYxg7gBwCxOs6Tzp+y72J1nSedP2XexL1brT79C1O+8e3V+6G02y31dTVUFuoqWqqTvTzQwNY+U5Jy5wGXHJJ496VNptlVcYLhVW6imr6cYhqZIGulj/quIyOZ5d6/HWdJ50/Zd7E6zpPOn7LvYmavfr79EZafT2eV207YrxUNqLvZbZXztbuCSqpY5XBuScAuBOMk8PSlq03YbRUmptNktdDUFpYZaakjieWnmMtAOOA4ehevWdJ50/Zd7E6zpPOn7LvYpzV2tr7mWi99PZJbybyjes6Tzp+y72J1nSedP2XexV73CeU9E93j7x1YlbpLTVfVy1Vdp6z1NTKd6Saaiie957y4tyVKGjpDb/EDSwGh6LofF+jHR9HjG5u8t3HDHLCxus6Tzp+y72J1nSedP2XexTNVc77+6MtEcPZG/cPpH8VrD/wDb4f3VI1Vjs9ZboLfV2q3z0FPgw00tOx0ceBgbrSMDAJHBfes6Tzp+y72J1nSedP2XexTnrnj7mSiOHszZo4p6d8E0cckD2lj43tBa5pGCCDwIx2LFtNqtlmgfDaLfR0EL3b7o6WBsTXOxjJDQMnAHFfjrOk86fsu9idZ0nnT9l3sUXq3Wn36JtTv09uryuunLDd6kVF2strrqgNDBLU0kcrg0chlwJxxPD0qQoqamoKWKloaeGmpohuxxQsDGMHcAOAWJ1nSedP2XexOs6Tzp+y72JmrmLa+/RGWmJvp7P3HarZFdZbpFb6NlylbuSVbYGiZ7eAwX4yRwHb2BfTa7abqLobfRm5Bu4KvoW9MG8sb+M49GV59Z0nnT9l3sTrOk86fsu9iZqvX36GWn09npUWq21NyguFTb6OWvgGIamSFrpYxx4NeRkczyPasa7adsV4qG1F3stsr52t3BJVUscrg3JOAXAnGSeHpXr1nSedP2XexOs6Tzp+y72JFVccfcy0Tw9nlatN2G0VJqbTZLXQ1BaWGWmpI4nlp5jLQDjgOHoWVPbbfUXGnuFRQUktfTgthqXwtdLGDnIa4jI5nl3ry6zpPOn7LvYnWdJ50/Zd7EzVzrr7mWiNNPZJbybyjes6Tzp+y72J1nSedP2XexR3uE8p6J7vH3jqkt5N5RvWdJ50/Zd7E6zpPOn7LvYne4Tynod3j7x1SW8m8o3rOk86fsu9idZ0nnT9l3sTvcJ5T0O7x946pLeTeUb1nSedP2XexOs6Tzp+y72J3uE8p6Hd4+8dUlvJvKN6zpPOn7LvYnWdJ50/Zd7E73CeU9Du8feOqS3k3lG9Z0nnT9l3sTrOk86fsu9id7hPKeh3ePvHVJbybyjes6Tzp+y72J1nSedP2XexO9wnlPQ7vH3jqkt5N5RvWdJ50/Zd7E6zpPOn7LvYne4Tynod3j7x1SW8m8o3rOk86fsu9idZ0nnT9l3sTvcJ5T0O7x946pLeTeUb1nSedP2XexOs6Tzp+y72J3uE8p6Hd4+8dUlvJvKN6zpPOn7LvYnWdJ50/Zd7E73CeU9Du8feOqS3k3lG9Z0nnT9l3sX0XOlJwJT9l3sTvcJ5T0O7x946t30n/sCj/Jt/UpdROlQW2KkDgQRG0EH5lLL0mF+3T8o+0PO4v7lXzn7yL49oe0tdyK+otGaLfYqF7i50Lcn0L51BQeZb9SlUQRXUFB5lv1J1BQeZb9SlUQRXUFB5lv1J1BQeZb9SlUQRXUFB5lv1J1BQeZb9SlUQRXUFB5lv1J1BQeZb9SlUQRXUFB5lv1J1BQeZb9SlUQRXUFB5lv1J1BQeZb9SlUQRXUFB5lv1J1BQeZb9SlUQRXUFB5lv1J1BQeZb9SlUQRXUFB5lv1J1BQeZb9SlUQRXUFB5lv1J1BQeZb9SlUQRXUFB5lv1J1BQeZb9SlUQRXUFB5lv1J1BQeZb9SlUQRXUFB5lv1J1BQeZb9SlUQRXUFB5lv1J1BQeZb9SlUQRXUFB5lv1J1BQeZb9SlUQRXUFB5lv1J1BQeZb9SlUQRXUFB5lv1J1BQeZb9SlUQRXUFB5lv1J1BQeZb9SlUQRXUFB5lv1J1BQeZb9SlUQRXUFB5lv1J1BQeZb9SlUQRXUFB5lv1J1BQeZb9SlUQRXUFB5lv1J1BQeZb9SlUQRXUFB5lv1J1BQeZb9SlUQRXUFB5lv1J1BQeZb9SlUQRXUFB5lv1J1BQeZb9SlUQRXUFB5lv1J1BQeZb9SlUQRXUFB5lv1J1BQeZb9SlUQRXUFB5lv1J1BQeZb9SlUQRXUFB5lv1J1BQeZb9SlUQRXUFB5lv1J1BQeZb9SlUQRXUFB5lv1J1BQeZb9SlUQRXUFB5lv1J1BQeZb9SlUQRXUFB5lv1J1BQeZb9SlUQRXUFB5lv1J1BQeZb9SlUQRXUFB5lv1J1BQeZb9SlUQRXUFB5lv1J1BQeZb9SlUQRXUFB5lv1J1BQeZb9SlUQRXUFB5lv1J1BQeZb9SlUQRXUFB5lv1J1BQeZb9SlUQRXUFB5lv1J1BQeZb9SlUQRXUFB5lv1J1BQeZb9SlUQRXUFB5lv1J1BQeZb9SlUQRXUFB5lv1J1BQeZb9SlUQRXUFB5lv1J1BQeZb9SlUQRXUFB5lv1J1BQeZb9SlUQRXUFB5lv1J1BQeZb9SlUQRXUFB5lv1J1BQeZb9SlUQRXUFB5lv1J1BQeZb9SlUQRXUFB5lv1J1BQeZb9SlUQRXUFB5lv1J1BQeZb9SlUQRXUFB5lv1J1BQeZb9SlUQRXUFB5lv1J1BQeZb9SlUQRXUFB5lv1J1BQeZb9SlUQRXUFB5lv1J1BQeZb9SlUQRXUFB5lv1J1BQeZb9SlUQRXUFB5lv1J1BQeZb9SlUQRXUFB5lv1ILDQA5ELfqUqiD8QxtijDGDDRyC/aIg//9k=)"
      ],
      "metadata": {
        "id": "iydjD2Mw6-Bv"
      }
    },
    {
      "cell_type": "markdown",
      "source": [
        "**But here it looks different but the same pattern has remained meaning before the ori there was decrease and after that increase in GC skew value so this is like local minima**"
      ],
      "metadata": {
        "id": "EQKl6z2o8de4"
      }
    },
    {
      "cell_type": "markdown",
      "source": [
        "## 📉 Local Minima-Based Approach (Custom Idea)\n",
        "\n",
        "Instead of focusing only on the absolute minimum, we examined the **shape of the GC skew graph**. We observed that in many cases, the oriC lies at a **local dip** — a region where the skew decreases and then begins to increase again.\n",
        "\n",
        "So, we developed a custom function that:\n",
        "- Slides across the GC skew values.\n",
        "- Detects **local minima** by comparing a point to its surrounding region.\n",
        "- Returns a list of such **local minimum candidates**.\n",
        "\n",
        "> 🧠 **Note:** This method is a logical idea based on visual patterns and biological reasoning, but it is **not yet research-validated**. It can still provide useful leads when the global GC skew minimum is misleading.\n",
        "\n",
        "This approach helped us better identify candidate oriC regions in *Vibrio cholerae* and potentially other complex genomes."
      ],
      "metadata": {
        "id": "AJwd48Gs8_Lu"
      }
    },
    {
      "cell_type": "markdown",
      "source": [
        "#Finding Ori New way"
      ],
      "metadata": {
        "id": "VCMWAnWRk7fJ"
      }
    },
    {
      "cell_type": "code",
      "source": [
        "def findingminima(skew_value_listC2,depth,gap):\n",
        "\n",
        "  oridiction={}\n",
        "  for i in range(depth,len(skew_value_listC2)-depth,gap):\n",
        "    mean=(skew_value_listC2[i-int(depth/2)]+skew_value_listC2[i+int(depth/2)])/2\n",
        "    mid=skew_value_listC2[i]\n",
        "    diff=mid-mean\n",
        "    oridiction[i]=diff\n",
        "    minvalue=min(oridiction.values())\n",
        "    lowerbound=minvalue-20\n",
        "    upperbound=minvalue+20\n",
        "    minlist=[k for k,v in oridiction.items() if ((lowerbound<=v) & (v<=upperbound))]\n",
        "  return minlist\n",
        "\n",
        "\n"
      ],
      "metadata": {
        "id": "MzrvZnPwk7Jk"
      },
      "execution_count": null,
      "outputs": []
    },
    {
      "cell_type": "code",
      "source": [
        "listminima=findingminima(skew_value_listC2,100000,500)"
      ],
      "metadata": {
        "id": "W-bDRGYyeobd"
      },
      "execution_count": null,
      "outputs": []
    },
    {
      "cell_type": "code",
      "source": [
        "listminima"
      ],
      "metadata": {
        "id": "pxMw-cz2HCWE"
      },
      "execution_count": null,
      "outputs": []
    },
    {
      "cell_type": "code",
      "source": [
        "predicted_ori_start=listminima[int(len(listminima)/2)]"
      ],
      "metadata": {
        "id": "dPsdjwCBD-Xy"
      },
      "execution_count": null,
      "outputs": []
    },
    {
      "cell_type": "code",
      "source": [
        "predicted_ori_start"
      ],
      "metadata": {
        "id": "gYb2YXNaELCb"
      },
      "execution_count": null,
      "outputs": []
    },
    {
      "cell_type": "code",
      "source": [
        "minima_seq_ran=seq_list[predicted_ori_start-2000:predicted_ori_start+2000]"
      ],
      "metadata": {
        "id": "OM2IjbqQ1Cdx"
      },
      "execution_count": null,
      "outputs": []
    },
    {
      "cell_type": "code",
      "source": [
        "#If by giving exact hd=0 we get 3 then we are sure that it is the ori\n",
        "finding_k_mer_positions=pattern_occurrence_with_mismatches(minima_seq_ran,600,9,6,0)\n"
      ],
      "metadata": {
        "id": "M51kgYea1K_z"
      },
      "execution_count": null,
      "outputs": []
    },
    {
      "cell_type": "code",
      "source": [
        "finding_k_mer_positions #one thing is sure that the oriC is after 1000"
      ],
      "metadata": {
        "id": "QP83WrSqnWFo"
      },
      "execution_count": null,
      "outputs": []
    },
    {
      "cell_type": "markdown",
      "source": [
        "**Now even with zero hamming distance meaning exact match we got two 9 mers that occured six times with their reverse complement**\n",
        "\n",
        "This is Statistically quite impossible\n",
        "And if you notice those 9 mers are only one base apart from each other this is a strong indication that among them one is the dnaA box\n",
        "\n",
        "**And the proven dnaA box is ATGATCAAG**\n",
        "\n",
        "Now we will try to make the position of OriC more exact by using AT rich regions"
      ],
      "metadata": {
        "id": "MQ9lg-kz-xcX"
      }
    },
    {
      "cell_type": "markdown",
      "source": [
        "## 🧩 Final Step: Combining Poly-AT Clusters and k-mer Positions\n",
        "\n",
        "After identifying all the frequent 9-mers (including reverse complements) that occur multiple times within the candidate oriC region, we now apply a **biological filter** using **poly-AT rich regions**.\n",
        "\n",
        "### 🧬 Why Poly-AT Regions?\n",
        "\n",
        "Poly-AT sequences are:\n",
        "- Common near **DNA unwinding sites**.\n",
        "- Known to appear on **both sides of the oriC** in circular bacterial chromosomes.\n",
        "- Easier to unwind due to weaker hydrogen bonds, helping replication initiation.\n",
        "\n",
        "---\n",
        "\n",
        "## 🎯 What We Do in This Step\n",
        "\n",
        "1. **Detect Poly-AT Clusters:**  \n",
        "   We find windows (e.g., 30 bp) in the sequence that have a high AT content (≥ 90%). These are stored as cluster positions.\n",
        "\n",
        "2. **Define the OriC Range:**\n",
        "   - We **locate two nearby poly-AT clusters** (before and after a central region).\n",
        "   - We define the oriC candidate region as the sequence **between those two clusters**.\n",
        "\n",
        "3. **Filter k-mer Positions:**\n",
        "   - From all the frequent k-mer positions found earlier, we select only those that **fall between the two poly-AT cluster boundaries**.\n",
        "   - This improves specificity and ensures we stay within a biologically relevant region.\n",
        "\n",
        "---\n",
        "\n",
        "### ✅ Why This Works Well\n",
        "\n",
        "This step leverages the **circular nature of bacterial chromosomes**, where replication often starts in a region flanked by poly-AT sequences. By combining:\n",
        "- Frequent 9-mer patterns (like DnaA boxes or repeats),\n",
        "- Biological markers (like poly-AT clusters),\n",
        "we narrow down the **most likely oriC region** with better accuracy.\n",
        "\n",
        "> ⚠️ Note: This method is heuristic but based on real biological signals and patterns observed across many bacterial genomes.\n"
      ],
      "metadata": {
        "id": "Y-oy_FMNBXzx"
      }
    },
    {
      "cell_type": "code",
      "source": [
        "finding_k_mer_one_hd=pattern_occurrence_with_mismatches(minima_seq_ran,600,9,6,1)"
      ],
      "metadata": {
        "id": "ieRqUqDMtOqZ"
      },
      "execution_count": null,
      "outputs": []
    },
    {
      "cell_type": "code",
      "source": [
        "finding_k_mer_one_hd"
      ],
      "metadata": {
        "id": "503-nCp7tX_z",
        "collapsed": true
      },
      "execution_count": null,
      "outputs": []
    },
    {
      "cell_type": "code",
      "source": [
        "all_positions = []\n",
        "for positions in finding_k_mer_one_hd.values():\n",
        "    all_positions.extend(positions)\n"
      ],
      "metadata": {
        "id": "XnnoULCCKtgw"
      },
      "execution_count": null,
      "outputs": []
    },
    {
      "cell_type": "code",
      "source": [
        "all_positions"
      ],
      "metadata": {
        "id": "UEarsuOOKzDc",
        "collapsed": true
      },
      "execution_count": null,
      "outputs": []
    },
    {
      "cell_type": "markdown",
      "source": [
        "#Combining the list with AT\n",
        "\n",
        "combing the list we got with position of most frequent k mers with the list of poly AT region meaning as there is an immediate start of poly AT"
      ],
      "metadata": {
        "id": "XIk2jdbAdi3n"
      }
    },
    {
      "cell_type": "code",
      "source": [
        "def find_poly_AT_regions(seq, window_size=50, AT_threshold=0.8):\n",
        "    poly_AT_positions = []\n",
        "\n",
        "    for i in range(len(seq) - window_size + 1):\n",
        "        window = seq[i:i+window_size]\n",
        "        at_count = sum(1 for base in window if base in ['A', 'T'])\n",
        "        at_ratio = at_count / window_size\n",
        "\n",
        "        if at_ratio >= AT_threshold:\n",
        "            poly_AT_positions.append(i)\n",
        "\n",
        "    return poly_AT_positions\n"
      ],
      "metadata": {
        "id": "1yDZmXysddvx"
      },
      "execution_count": null,
      "outputs": []
    },
    {
      "cell_type": "code",
      "source": [
        "predicted_ori_start"
      ],
      "metadata": {
        "id": "lJrWNp0WkvBL",
        "collapsed": true
      },
      "execution_count": null,
      "outputs": []
    },
    {
      "cell_type": "code",
      "source": [
        "minima_seq=seq_list[predicted_ori_start-2000:predicted_ori_start+2000]"
      ],
      "metadata": {
        "id": "ed8SXjJVkmVc"
      },
      "execution_count": null,
      "outputs": []
    },
    {
      "cell_type": "code",
      "source": [
        "AT_region=find_poly_AT_regions(minima_seq_ran,window_size=30,AT_threshold=0.8)\n",
        "AT_region"
      ],
      "metadata": {
        "id": "uoMBR2vkef22",
        "collapsed": true
      },
      "execution_count": null,
      "outputs": []
    },
    {
      "cell_type": "code",
      "source": [
        "poly_at_window_size = 30\n",
        "\n",
        "# Step 2: Identify poly-AT clusters (distance <= 10, adjustable)\n",
        "def cluster_positions(positions, max_dist=10):\n",
        "    clusters = []\n",
        "    current_cluster = [positions[0]]\n",
        "\n",
        "    for i in range(1, len(positions)):\n",
        "        if positions[i] - positions[i-1] <= max_dist:\n",
        "            current_cluster.append(positions[i])\n",
        "        else:\n",
        "            if len(current_cluster) >= 2:\n",
        "                clusters.append(current_cluster)\n",
        "            current_cluster = [positions[i]]\n",
        "\n",
        "    if len(current_cluster) >= 2:\n",
        "        clusters.append(current_cluster)\n",
        "\n",
        "    return clusters\n",
        "\n",
        "\n"
      ],
      "metadata": {
        "id": "9mkNlwx8mWb-"
      },
      "execution_count": null,
      "outputs": []
    },
    {
      "cell_type": "code",
      "source": [
        "# Step 3: Filter only clustered poly-AT starts and add window offset\n",
        "clustered_poly_at = cluster_positions(sorted(AT_region))\n",
        "clustered_poly_at_positions = [min(cluster)  for cluster in clustered_poly_at]\n",
        "\n"
      ],
      "metadata": {
        "id": "TPEJDUOHmjv_"
      },
      "execution_count": null,
      "outputs": []
    },
    {
      "cell_type": "code",
      "source": [
        "clustered_poly_at"
      ],
      "metadata": {
        "id": "zJkF6ldipPbB",
        "collapsed": true
      },
      "execution_count": null,
      "outputs": []
    },
    {
      "cell_type": "code",
      "source": [
        "clustered_poly_at_positions.sort()\n",
        "clustered_poly_at_positions"
      ],
      "metadata": {
        "id": "F-s1RyuRm0bu",
        "collapsed": true
      },
      "execution_count": null,
      "outputs": []
    },
    {
      "cell_type": "code",
      "source": [
        "#Taking those who fell between two AT reg\n",
        "\n",
        "def filter_between_clusters(ori_positions, poly_at_clusters):\n",
        "    poly_at_clusters = sorted(poly_at_clusters)\n",
        "\n",
        "    # Look for the first pair where a cluster surrounds ori positions\n",
        "    for i in range(len(poly_at_clusters) - 1):\n",
        "        start = poly_at_clusters[i]\n",
        "        end = poly_at_clusters[i + 1]\n",
        "\n",
        "        filtered = [pos for pos in ori_positions if start <= pos <= end]\n",
        "        if len(filtered) >= 5:  # Adjustable threshold\n",
        "            return filtered, start, end\n",
        "\n",
        "    return [], None, None  # If no valid interval found"
      ],
      "metadata": {
        "id": "S_5ivHcUqoz3"
      },
      "execution_count": null,
      "outputs": []
    },
    {
      "cell_type": "code",
      "source": [
        "filtered_hits, at_start, at_end = filter_between_clusters(all_positions, clustered_poly_at_positions)"
      ],
      "metadata": {
        "id": "e45QNDnxq7v5"
      },
      "execution_count": null,
      "outputs": []
    },
    {
      "cell_type": "code",
      "source": [
        "filtered_hits.sort()"
      ],
      "metadata": {
        "id": "I6Mc4rTPrI00"
      },
      "execution_count": null,
      "outputs": []
    },
    {
      "cell_type": "code",
      "source": [
        "#We are taking region without poly AT regions\n",
        "ori_with_out_AT=minima_seq_ran[filtered_hits[0]:filtered_hits[-1]+9] #Here Nine is okay containing all frequent 9 mers\n",
        "ori_with_out_AT"
      ],
      "metadata": {
        "id": "x6UIL_Ahrb21"
      },
      "execution_count": null,
      "outputs": []
    },
    {
      "cell_type": "code",
      "source": [
        "len(ori_with_out_AT)"
      ],
      "metadata": {
        "id": "r3T0j7Db0m2j"
      },
      "execution_count": null,
      "outputs": []
    },
    {
      "cell_type": "code",
      "source": [
        "#Here is the real ori as the ori also contains poly AT regions\n",
        "ori_with_at=minima_seq_ran[at_start:at_end+30]\n",
        "ori_with_at"
      ],
      "metadata": {
        "id": "8cCNclyx0qN6"
      },
      "execution_count": null,
      "outputs": []
    },
    {
      "cell_type": "code",
      "source": [
        "len(ori_with_at)"
      ],
      "metadata": {
        "id": "kHqGmZi5059i"
      },
      "execution_count": null,
      "outputs": []
    },
    {
      "cell_type": "markdown",
      "source": [
        "## 🧪 Optional Enhancement: Detecting GATC Clusters for SeqA Binding\n",
        "\n",
        "As a final (optional) enhancement, we analyze the **presence of GATC motifs** within the predicted oriC region. These motifs are biologically crucial for regulating **DNA replication timing**.\n",
        "\n",
        "---\n",
        "\n",
        "### 🧬 Why GATC is Important?\n",
        "\n",
        "- The **GATC sequence** is a **target of DNA adenine methylation (Dam methylase)**.\n",
        "- During replication, newly synthesized DNA strands are initially **unmethylated**, making the GATC sites temporarily **hemimethylated**.\n",
        "- The protein **SeqA binds to these hemimethylated GATC sites**, delaying re-initiation of replication by preventing immediate rebinding of DnaA to the oriC region.\n",
        "\n",
        "---\n",
        "\n",
        "### 📏 How to Detect GATC Clusters?\n",
        "\n",
        "We slide a small window (e.g., **100 bp**) across the predicted oriC region and count the number of GATC motifs. A **GATC cluster** is defined as:\n",
        "- At least **3 or more GATC motifs** within a **100 bp window**.\n",
        "\n",
        "---\n",
        "\n",
        "### ✅ Why This Matters?\n",
        "\n",
        "- **GATC motifs are scattered throughout the genome**, but clusters near oriC are **densely packed** to support SeqA regulation.\n",
        "- This pattern helps **discriminate the true oriC** from other GATC-rich but functionally unrelated regions.\n",
        "\n",
        "---\n",
        "\n",
        "> ⚠️ Note: While GATC analysis is optional, it provides an additional **regulatory signal** that strengthens the confidence of oriC prediction.\n"
      ],
      "metadata": {
        "id": "_JnGigjCDafB"
      }
    },
    {
      "cell_type": "code",
      "source": [
        "def k_mer_cluster_optimized(text, k_mer, L, min_count=3):\n",
        "    \"\"\"\n",
        "    Find clusters of a given k-mer where at least min_count of them\n",
        "    occur within a distance L.\n",
        "\n",
        "    Parameters:\n",
        "    - text: DNA sequence\n",
        "    - k_mer: pattern to search (e.g., \"GATC\")\n",
        "    - L: max allowed distance between first and last match in cluster\n",
        "    - min_count: minimum number of matches needed to form a valid cluster\n",
        "\n",
        "    Returns:\n",
        "    - List of lists of positions, each representing a cluster\n",
        "    \"\"\"\n",
        "    n = len(k_mer)\n",
        "    positions = [i for i in range(len(text) - n + 1) if text[i:i+n] == k_mer]\n",
        "    clusters = []\n",
        "\n",
        "\n",
        "    for i in range(len(positions)):\n",
        "        cluster = [positions[i]]\n",
        "        for j in range(i+1, len(positions)):\n",
        "            if positions[j] - positions[i] <= L:\n",
        "                cluster.append(positions[j])\n",
        "            else:\n",
        "                break\n",
        "        if len(cluster) >= min_count:\n",
        "            clusters.append(cluster)\n",
        "\n",
        "    return clusters\n"
      ],
      "metadata": {
        "id": "bF2huSZ_FFMs"
      },
      "execution_count": null,
      "outputs": []
    },
    {
      "cell_type": "code",
      "source": [
        "gatc_cluster=k_mer_cluster_optimized(ori_with_at,'GATC',100)\n",
        "gatc_cluster"
      ],
      "metadata": {
        "id": "Az6bAejPDihZ"
      },
      "execution_count": null,
      "outputs": []
    },
    {
      "cell_type": "markdown",
      "source": [
        "**So we can see there are various clusters of GATC are forming here which further confirms that this is the ori region**"
      ],
      "metadata": {
        "id": "j8yMN9XqYKeo"
      }
    }
  ]
}